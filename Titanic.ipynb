{
  "nbformat": 4,
  "nbformat_minor": 0,
  "metadata": {
    "colab": {
      "name": "Titanic.ipynb",
      "provenance": [],
      "collapsed_sections": [
        "SShSc5vVwRmf",
        "KKPmUP8Hw2mF",
        "43ih9w5Hxa5J",
        "aPLoWftDsaTo",
        "4XMBEOMPCFkN"
      ],
      "mount_file_id": "13WWKskWPqJ6UouozO0vM4Q6DjMfcKP9R",
      "authorship_tag": "ABX9TyN/jzWInUvLp3k21tPEY/dN",
      "include_colab_link": true
    },
    "kernelspec": {
      "name": "python3",
      "display_name": "Python 3"
    },
    "language_info": {
      "name": "python"
    }
  },
  "cells": [
    {
      "cell_type": "markdown",
      "metadata": {
        "id": "view-in-github",
        "colab_type": "text"
      },
      "source": [
        "<a href=\"https://colab.research.google.com/github/Luis20matias/Projetos_Data_Science/blob/main/Titanic.ipynb\" target=\"_parent\"><img src=\"https://colab.research.google.com/assets/colab-badge.svg\" alt=\"Open In Colab\"/></a>"
      ]
    },
    {
      "cell_type": "markdown",
      "metadata": {
        "id": "owhikaYYRAAI"
      },
      "source": [
        "# Titanic: Machine Learning from disaster \n",
        "---\n",
        "\n",
        "This is a classic project that a lot of people make as their first project in Data Science.\n",
        "\n",
        "\n",
        "The sinking of the Titanic was on  April 15, 1912. It was widely considered unsinkable, but the ship sank after colliding with an iceberg. This accident resulted in **the death of 1502 out of 2224 passengers and crew**.\n",
        "\n",
        "> The main question in this challenge is: **“what sorts of people were more likely to survive?”**\n",
        "\n",
        "---\n",
        "\n",
        "<p align=\"center\">\n",
        "  <img src=\"https://drive.google.com/uc?id=1ecATGo_fbHltbgnhdcDbeH-nQmqQUu92\" >\n",
        "</p>\n",
        "<p align=\"center\">\n",
        "<a href='https://www.freepik.com/vectors/water'>Water vector created by vectorpouch - www.freepik.com</a>\n",
        "</p>\n",
        "\n",
        "## Overview of the dataset\n",
        "---\n",
        "\n",
        "This is considered a dataset that are easy to understand, both from the technical point of view and from the understanding of the situation under study. \n",
        "\n",
        "The dataset can be found at the site of Kaggle: [Kaggle Titanic dataset](https://www.kaggle.com/c/titanic). \n",
        "\n",
        "You find some important information on the site about the data for you to understand the problem. In addition, the data has been split into two parts: test and training. \n",
        "\n",
        "The *training dataset* must be used to build a model of machine learning. In this set is informed wether the passenger survived or not.\n",
        "\n",
        "Meanwhile, the *test dataset* is used to tell how well your model performs on unseen data. In this set isn't informed if the passenger survived or not.\n",
        "\n",
        "Also is given a model(template) with some answers: **the gender_submission**. This model has an **accuracy of 0.76555**.\n",
        "\n",
        "### Dictionary of the data\n",
        "* **Age:** Passenger's age in years.\n",
        "* **Cabin:** Passenger's cabin number.\n",
        "* **Embarked:** Port of Embarkation of the passenger.\n",
        "  * C = CherbouC = Cherbourg\n",
        "  * Q = Queenstown\n",
        "  * S = Southampton\n",
        "* **Fare:** Passenger fare in the ship.\n",
        "* **Parch:** # of parents / children aboard the Titanic\n",
        "* **pclass:** Ticket class of the passenger\n",
        "  * 1 = 1st\n",
        "  * 2 = 2nd\n",
        "  * 3 = 3rd\n",
        "* **Sex:** Passenger's Sex \n",
        "* **Sibsp:** # of siblings / spouses aboard the Titanic\n",
        "* **Survival:** Survival\n",
        "  * 0 = No\n",
        "  * 1 = Yes\n",
        "* **Ticket:** Passenger's Ticket number\n",
        "\n",
        "<br />\n",
        "\n",
        "---\n",
        "\n",
        "<br />\n",
        "\n",
        "# Objective\n",
        "---\n",
        "This project expects to be able to make an analysis of which variables have the greatest influence in one of the most infamous shipwrecks in history. Owing to this variable's selection, it aims to build a classifier model to predict if someone will survive the accident or not. \n",
        "\n",
        "## Metric\n",
        "In this competition is indicated that we should use the metric accuracy, that is calculated by the number of accerts by the numbers of examples. \n",
        "\n",
        "The score is the percentage of passengers you correctly predict. This is known as accuracy.\n",
        "\n",
        "\n",
        "\n",
        "---\n",
        "\n",
        "<br />\n",
        "\n",
        "\n",
        "# Notebook\n",
        "---\n",
        "\n",
        "The following code is divided into five parts that are listed below.\n",
        "\n",
        "\n",
        "## Check list\n",
        "\n",
        "1.   First model.\n",
        "2.   Second model.\n",
        "3.   Using cross-validation to build a model\n",
        "4.   Improving the model.\n",
        "5.   Building the last model of Machine Learning.\n",
        "6.   Conclusions of the project.\n",
        "\n",
        "## Abstract of the project\n",
        "\n",
        "### 1. First model.\n",
        "\n",
        "In this first part, it is used just the labels Gender and Age to build the model. This assumption was made from the dataset Train, where it can be seen that young women survived the shipwreck. \n",
        "\n",
        "### 2.   Second model.\n",
        "\n",
        "In the second part, the dataset of train and test is used to validate the model. The Machine Learning classifier used is the Random Forest.\n",
        "\n",
        "### 3.   Using cross-validation to build a model\n",
        "\n",
        "In the third part, it is adopted cross-validation which is a technique to evaluate a model's generalizability. It is used to remove the dataset's randomness. \n",
        "\n",
        "### 4.   Improving the model\n",
        "\n",
        "To improve the model is add new variables in the training and test data to build a model of Machine Learning. The numerical variables add are Sex_binary, Age, P-class, SibSp, Parch, and Fare.\n",
        "\n",
        "### 5.   Building the last model of Machine Learning.\n",
        "\n",
        "In this part of the project, it is possible to see some important pieces of information about the dataset. For example, some of the data that is classified in a wrong way. That is, some people in the dataset have titles such as 'Miss', 'Mrs', 'Master', 'Col', 'Major' and 'Mr' in their names. Furthermore, the cabin number is missing for a lot of peolpe in this subset. It should also be mentioned that is used the Machine Learning classifier used is the Support vector machine (SVM) so as to improve the accuracy of the project.\n",
        "\n",
        "\n",
        "\n",
        "### 6.   Conclusions of the project.\n",
        "\n",
        "This final part shows a resume of the result that was achieved in each part of the project.\n",
        "\n",
        "---"
      ]
    },
    {
      "cell_type": "markdown",
      "metadata": {
        "id": "SShSc5vVwRmf"
      },
      "source": [
        "# Part 1: First model.\n",
        "---"
      ]
    },
    {
      "cell_type": "code",
      "metadata": {
        "id": "wItVDRPsO0kQ"
      },
      "source": [
        "import pandas as pd\n",
        "import numpy as np"
      ],
      "execution_count": null,
      "outputs": []
    },
    {
      "cell_type": "code",
      "metadata": {
        "id": "hXieZl6zYlYr"
      },
      "source": [
        "train = pd.read_csv('/content/drive/MyDrive/Colab Notebooks/Projeto_Titanic/train.csv') \n",
        "test = pd.read_csv('/content/drive/MyDrive/Colab Notebooks/Projeto_Titanic/test.csv') "
      ],
      "execution_count": null,
      "outputs": []
    },
    {
      "cell_type": "code",
      "metadata": {
        "colab": {
          "base_uri": "https://localhost:8080/",
          "height": 206
        },
        "id": "rrWfhmotYv90",
        "outputId": "c6a85ef6-efe0-4375-d5a0-aa611e2fe3ff"
      },
      "source": [
        "train.head()"
      ],
      "execution_count": null,
      "outputs": [
        {
          "output_type": "execute_result",
          "data": {
            "text/html": [
              "<div>\n",
              "<style scoped>\n",
              "    .dataframe tbody tr th:only-of-type {\n",
              "        vertical-align: middle;\n",
              "    }\n",
              "\n",
              "    .dataframe tbody tr th {\n",
              "        vertical-align: top;\n",
              "    }\n",
              "\n",
              "    .dataframe thead th {\n",
              "        text-align: right;\n",
              "    }\n",
              "</style>\n",
              "<table border=\"1\" class=\"dataframe\">\n",
              "  <thead>\n",
              "    <tr style=\"text-align: right;\">\n",
              "      <th></th>\n",
              "      <th>PassengerId</th>\n",
              "      <th>Survived</th>\n",
              "      <th>Pclass</th>\n",
              "      <th>Name</th>\n",
              "      <th>Sex</th>\n",
              "      <th>Age</th>\n",
              "      <th>SibSp</th>\n",
              "      <th>Parch</th>\n",
              "      <th>Ticket</th>\n",
              "      <th>Fare</th>\n",
              "      <th>Cabin</th>\n",
              "      <th>Embarked</th>\n",
              "    </tr>\n",
              "  </thead>\n",
              "  <tbody>\n",
              "    <tr>\n",
              "      <th>0</th>\n",
              "      <td>1</td>\n",
              "      <td>0</td>\n",
              "      <td>3</td>\n",
              "      <td>Braund, Mr. Owen Harris</td>\n",
              "      <td>male</td>\n",
              "      <td>22.0</td>\n",
              "      <td>1</td>\n",
              "      <td>0</td>\n",
              "      <td>A/5 21171</td>\n",
              "      <td>7.2500</td>\n",
              "      <td>NaN</td>\n",
              "      <td>S</td>\n",
              "    </tr>\n",
              "    <tr>\n",
              "      <th>1</th>\n",
              "      <td>2</td>\n",
              "      <td>1</td>\n",
              "      <td>1</td>\n",
              "      <td>Cumings, Mrs. John Bradley (Florence Briggs Th...</td>\n",
              "      <td>female</td>\n",
              "      <td>38.0</td>\n",
              "      <td>1</td>\n",
              "      <td>0</td>\n",
              "      <td>PC 17599</td>\n",
              "      <td>71.2833</td>\n",
              "      <td>C85</td>\n",
              "      <td>C</td>\n",
              "    </tr>\n",
              "    <tr>\n",
              "      <th>2</th>\n",
              "      <td>3</td>\n",
              "      <td>1</td>\n",
              "      <td>3</td>\n",
              "      <td>Heikkinen, Miss. Laina</td>\n",
              "      <td>female</td>\n",
              "      <td>26.0</td>\n",
              "      <td>0</td>\n",
              "      <td>0</td>\n",
              "      <td>STON/O2. 3101282</td>\n",
              "      <td>7.9250</td>\n",
              "      <td>NaN</td>\n",
              "      <td>S</td>\n",
              "    </tr>\n",
              "    <tr>\n",
              "      <th>3</th>\n",
              "      <td>4</td>\n",
              "      <td>1</td>\n",
              "      <td>1</td>\n",
              "      <td>Futrelle, Mrs. Jacques Heath (Lily May Peel)</td>\n",
              "      <td>female</td>\n",
              "      <td>35.0</td>\n",
              "      <td>1</td>\n",
              "      <td>0</td>\n",
              "      <td>113803</td>\n",
              "      <td>53.1000</td>\n",
              "      <td>C123</td>\n",
              "      <td>S</td>\n",
              "    </tr>\n",
              "    <tr>\n",
              "      <th>4</th>\n",
              "      <td>5</td>\n",
              "      <td>0</td>\n",
              "      <td>3</td>\n",
              "      <td>Allen, Mr. William Henry</td>\n",
              "      <td>male</td>\n",
              "      <td>35.0</td>\n",
              "      <td>0</td>\n",
              "      <td>0</td>\n",
              "      <td>373450</td>\n",
              "      <td>8.0500</td>\n",
              "      <td>NaN</td>\n",
              "      <td>S</td>\n",
              "    </tr>\n",
              "  </tbody>\n",
              "</table>\n",
              "</div>"
            ],
            "text/plain": [
              "   PassengerId  Survived  Pclass  ...     Fare Cabin  Embarked\n",
              "0            1         0       3  ...   7.2500   NaN         S\n",
              "1            2         1       1  ...  71.2833   C85         C\n",
              "2            3         1       3  ...   7.9250   NaN         S\n",
              "3            4         1       1  ...  53.1000  C123         S\n",
              "4            5         0       3  ...   8.0500   NaN         S\n",
              "\n",
              "[5 rows x 12 columns]"
            ]
          },
          "metadata": {
            "tags": []
          },
          "execution_count": 3
        }
      ]
    },
    {
      "cell_type": "code",
      "metadata": {
        "id": "05ID5jWQZg0G"
      },
      "source": [
        "from sklearn.ensemble import RandomForestClassifier"
      ],
      "execution_count": null,
      "outputs": []
    },
    {
      "cell_type": "code",
      "metadata": {
        "id": "BgSYRzU2ZwGI"
      },
      "source": [
        "model =  RandomForestClassifier(n_estimators=100,n_jobs=-1, random_state=0)"
      ],
      "execution_count": null,
      "outputs": []
    },
    {
      "cell_type": "markdown",
      "metadata": {
        "id": "-XuCZPnGbcDK"
      },
      "source": [
        "First, we have to assume that only female passengers survived in the shipwreck. In addition, the children were the priority for save.\n",
        "\n",
        "*   We must see how many female e male passengers are in the chip.\n",
        "\n"
      ]
    },
    {
      "cell_type": "code",
      "metadata": {
        "colab": {
          "base_uri": "https://localhost:8080/",
          "height": 279
        },
        "id": "v4XGIPpTVbID",
        "outputId": "bacd70d1-b0be-423a-d4fc-c183b237cad5"
      },
      "source": [
        "# Plotar os gráficos para Survived vs. Sex\n",
        "import seaborn as sns\n",
        "sns.barplot(x='Sex', y='Survived', data=train);"
      ],
      "execution_count": null,
      "outputs": [
        {
          "output_type": "display_data",
          "data": {
            "image/png": "[encoded data removed]",
            "text/plain": [
              "<Figure size 432x288 with 1 Axes>"
            ]
          },
          "metadata": {
            "tags": [],
            "needs_background": "light"
          }
        }
      ]
    },
    {
      "cell_type": "code",
      "metadata": {
        "colab": {
          "base_uri": "https://localhost:8080/",
          "height": 313
        },
        "id": "FBc5qdCkWixA",
        "outputId": "4a92d992-0cc8-4951-cc5b-f0c6edc1f2fa"
      },
      "source": [
        "# ver influência da idade na probabilidade de sobrevivência\n",
        "age_survived = sns.FacetGrid(train, col='Survived');\n",
        "age_survived.map(sns.distplot, 'Age');"
      ],
      "execution_count": null,
      "outputs": [
        {
          "output_type": "stream",
          "text": [
            "/usr/local/lib/python3.7/dist-packages/seaborn/distributions.py:2557: FutureWarning: `distplot` is a deprecated function and will be removed in a future version. Please adapt your code to use either `displot` (a figure-level function with similar flexibility) or `histplot` (an axes-level function for histograms).\n",
            "  warnings.warn(msg, FutureWarning)\n",
            "/usr/local/lib/python3.7/dist-packages/seaborn/distributions.py:2557: FutureWarning: `distplot` is a deprecated function and will be removed in a future version. Please adapt your code to use either `displot` (a figure-level function with similar flexibility) or `histplot` (an axes-level function for histograms).\n",
            "  warnings.warn(msg, FutureWarning)\n"
          ],
          "name": "stderr"
        },
        {
          "output_type": "display_data",
          "data": {
            "image/png": "[encoded data removed]",
            "text/plain": [
              "<Figure size 432x216 with 2 Axes>"
            ]
          },
          "metadata": {
            "tags": [],
            "needs_background": "light"
          }
        }
      ]
    },
    {
      "cell_type": "code",
      "metadata": {
        "colab": {
          "base_uri": "https://localhost:8080/"
        },
        "id": "mFTaVkU4bV7S",
        "outputId": "bb4cc53e-f687-46bb-d729-5c3f0d980bc8"
      },
      "source": [
        "train['Sex'].value_counts()"
      ],
      "execution_count": null,
      "outputs": [
        {
          "output_type": "execute_result",
          "data": {
            "text/plain": [
              "male      577\n",
              "female    314\n",
              "Name: Sex, dtype: int64"
            ]
          },
          "metadata": {
            "tags": []
          },
          "execution_count": 7
        }
      ]
    },
    {
      "cell_type": "markdown",
      "metadata": {
        "id": "yFGIKpRJbyBn"
      },
      "source": [
        "* Creating a function to convert categorical labels in binary labels.\n",
        "* map() take the function that I've selected and apply line by line in the column that I've chosen."
      ]
    },
    {
      "cell_type": "code",
      "metadata": {
        "id": "tok-PDLwbDLL"
      },
      "source": [
        "def transform_sex(value):\n",
        "  if value == 'female':\n",
        "    return 1\n",
        "  else:\n",
        "    return 0\n",
        "\n",
        "train['Sex_binary'] = train['Sex'].map(transform_sex)"
      ],
      "execution_count": null,
      "outputs": []
    },
    {
      "cell_type": "markdown",
      "metadata": {
        "id": "zlkH0_T4lylf"
      },
      "source": [
        "* Choose the variables that we can utilize is a very important task. In the first time, we can see that women and children were priorities for saving during the disaster."
      ]
    },
    {
      "cell_type": "code",
      "metadata": {
        "id": "WYTAQYSGax7T"
      },
      "source": [
        "variable = ['Sex_binary','Age']"
      ],
      "execution_count": null,
      "outputs": []
    },
    {
      "cell_type": "markdown",
      "metadata": {
        "id": "-5ai1KWsd0zb"
      },
      "source": [
        "* X are the variables used to build the model\n",
        "* y is the variable that we want to predict"
      ]
    },
    {
      "cell_type": "code",
      "metadata": {
        "id": "icF9c0p8dWkL"
      },
      "source": [
        "X = train[variable]\n",
        "y = train['Survived']"
      ],
      "execution_count": null,
      "outputs": []
    },
    {
      "cell_type": "code",
      "metadata": {
        "colab": {
          "base_uri": "https://localhost:8080/",
          "height": 206
        },
        "id": "U96-Cp1CeJ16",
        "outputId": "7e3b1af0-b0fb-477f-ab7d-9b89b00e41bb"
      },
      "source": [
        "X.head()"
      ],
      "execution_count": null,
      "outputs": [
        {
          "output_type": "execute_result",
          "data": {
            "text/html": [
              "<div>\n",
              "<style scoped>\n",
              "    .dataframe tbody tr th:only-of-type {\n",
              "        vertical-align: middle;\n",
              "    }\n",
              "\n",
              "    .dataframe tbody tr th {\n",
              "        vertical-align: top;\n",
              "    }\n",
              "\n",
              "    .dataframe thead th {\n",
              "        text-align: right;\n",
              "    }\n",
              "</style>\n",
              "<table border=\"1\" class=\"dataframe\">\n",
              "  <thead>\n",
              "    <tr style=\"text-align: right;\">\n",
              "      <th></th>\n",
              "      <th>Sex_binary</th>\n",
              "      <th>Age</th>\n",
              "    </tr>\n",
              "  </thead>\n",
              "  <tbody>\n",
              "    <tr>\n",
              "      <th>0</th>\n",
              "      <td>0</td>\n",
              "      <td>22.0</td>\n",
              "    </tr>\n",
              "    <tr>\n",
              "      <th>1</th>\n",
              "      <td>1</td>\n",
              "      <td>38.0</td>\n",
              "    </tr>\n",
              "    <tr>\n",
              "      <th>2</th>\n",
              "      <td>1</td>\n",
              "      <td>26.0</td>\n",
              "    </tr>\n",
              "    <tr>\n",
              "      <th>3</th>\n",
              "      <td>1</td>\n",
              "      <td>35.0</td>\n",
              "    </tr>\n",
              "    <tr>\n",
              "      <th>4</th>\n",
              "      <td>0</td>\n",
              "      <td>35.0</td>\n",
              "    </tr>\n",
              "  </tbody>\n",
              "</table>\n",
              "</div>"
            ],
            "text/plain": [
              "   Sex_binary   Age\n",
              "0           0  22.0\n",
              "1           1  38.0\n",
              "2           1  26.0\n",
              "3           1  35.0\n",
              "4           0  35.0"
            ]
          },
          "metadata": {
            "tags": []
          },
          "execution_count": 11
        }
      ]
    },
    {
      "cell_type": "code",
      "metadata": {
        "colab": {
          "base_uri": "https://localhost:8080/"
        },
        "id": "3RSQJf4feNwu",
        "outputId": "9cc0a245-b36c-498c-ef49-3a621f246e1b"
      },
      "source": [
        "y.head()"
      ],
      "execution_count": null,
      "outputs": [
        {
          "output_type": "execute_result",
          "data": {
            "text/plain": [
              "0    0\n",
              "1    1\n",
              "2    1\n",
              "3    1\n",
              "4    0\n",
              "Name: Survived, dtype: int64"
            ]
          },
          "metadata": {
            "tags": []
          },
          "execution_count": 11
        }
      ]
    },
    {
      "cell_type": "markdown",
      "metadata": {
        "id": "hCgBqNa-ewzn"
      },
      "source": [
        "* Replacing NanN values for -1, because it is a new value that did not appear before.\n",
        "* It's required that we must do the preprocessing of the data set first."
      ]
    },
    {
      "cell_type": "code",
      "metadata": {
        "id": "W93T6SOlel7F"
      },
      "source": [
        "X = X.fillna(-1)"
      ],
      "execution_count": null,
      "outputs": []
    },
    {
      "cell_type": "code",
      "metadata": {
        "colab": {
          "base_uri": "https://localhost:8080/"
        },
        "id": "WMu8jjH9fI27",
        "outputId": "4478cf58-4833-4a6d-cda5-d0c1aa312188"
      },
      "source": [
        "model.fit(X,y)"
      ],
      "execution_count": null,
      "outputs": [
        {
          "output_type": "execute_result",
          "data": {
            "text/plain": [
              "RandomForestClassifier(bootstrap=True, ccp_alpha=0.0, class_weight=None,\n",
              "                       criterion='gini', max_depth=None, max_features='auto',\n",
              "                       max_leaf_nodes=None, max_samples=None,\n",
              "                       min_impurity_decrease=0.0, min_impurity_split=None,\n",
              "                       min_samples_leaf=1, min_samples_split=2,\n",
              "                       min_weight_fraction_leaf=0.0, n_estimators=100,\n",
              "                       n_jobs=-1, oob_score=False, random_state=0, verbose=0,\n",
              "                       warm_start=False)"
            ]
          },
          "metadata": {
            "tags": []
          },
          "execution_count": 14
        }
      ]
    },
    {
      "cell_type": "markdown",
      "metadata": {
        "id": "PtbpiB8hf1ll"
      },
      "source": [
        "* Apllying the model in the test\n",
        "\n",
        "> We can see that there isn't a variable named Sex_binary, therefore we need to add it to the dataset.\n",
        "\n"
      ]
    },
    {
      "cell_type": "code",
      "metadata": {
        "id": "29g7GxXWgGFb"
      },
      "source": [
        "test['Sex_binary'] = test['Sex'].map(transform_sex)"
      ],
      "execution_count": null,
      "outputs": []
    },
    {
      "cell_type": "markdown",
      "metadata": {
        "id": "RC8EoQ8vhEVz"
      },
      "source": [
        "* It is very important have the same sequence of variables in the test and train data set.\n",
        "* Replacing NaN variables"
      ]
    },
    {
      "cell_type": "code",
      "metadata": {
        "colab": {
          "base_uri": "https://localhost:8080/",
          "height": 206
        },
        "id": "T-U9jAtegWDq",
        "outputId": "2f61b8b5-eb74-49ca-8a49-9e03878cbf59"
      },
      "source": [
        "X_pred = test[variable]\n",
        "X_pred = X_pred.fillna(-1)\n",
        "X_pred.head()"
      ],
      "execution_count": null,
      "outputs": [
        {
          "output_type": "execute_result",
          "data": {
            "text/html": [
              "<div>\n",
              "<style scoped>\n",
              "    .dataframe tbody tr th:only-of-type {\n",
              "        vertical-align: middle;\n",
              "    }\n",
              "\n",
              "    .dataframe tbody tr th {\n",
              "        vertical-align: top;\n",
              "    }\n",
              "\n",
              "    .dataframe thead th {\n",
              "        text-align: right;\n",
              "    }\n",
              "</style>\n",
              "<table border=\"1\" class=\"dataframe\">\n",
              "  <thead>\n",
              "    <tr style=\"text-align: right;\">\n",
              "      <th></th>\n",
              "      <th>Sex_binary</th>\n",
              "      <th>Age</th>\n",
              "    </tr>\n",
              "  </thead>\n",
              "  <tbody>\n",
              "    <tr>\n",
              "      <th>0</th>\n",
              "      <td>0</td>\n",
              "      <td>34.5</td>\n",
              "    </tr>\n",
              "    <tr>\n",
              "      <th>1</th>\n",
              "      <td>1</td>\n",
              "      <td>47.0</td>\n",
              "    </tr>\n",
              "    <tr>\n",
              "      <th>2</th>\n",
              "      <td>0</td>\n",
              "      <td>62.0</td>\n",
              "    </tr>\n",
              "    <tr>\n",
              "      <th>3</th>\n",
              "      <td>0</td>\n",
              "      <td>27.0</td>\n",
              "    </tr>\n",
              "    <tr>\n",
              "      <th>4</th>\n",
              "      <td>1</td>\n",
              "      <td>22.0</td>\n",
              "    </tr>\n",
              "  </tbody>\n",
              "</table>\n",
              "</div>"
            ],
            "text/plain": [
              "   Sex_binary   Age\n",
              "0           0  34.5\n",
              "1           1  47.0\n",
              "2           0  62.0\n",
              "3           0  27.0\n",
              "4           1  22.0"
            ]
          },
          "metadata": {
            "tags": []
          },
          "execution_count": 17
        }
      ]
    },
    {
      "cell_type": "code",
      "metadata": {
        "colab": {
          "base_uri": "https://localhost:8080/"
        },
        "id": "OUKsdF5ChW3K",
        "outputId": "97451135-5020-418b-d688-6880cf929f0c"
      },
      "source": [
        "p = model.predict(X_pred)\n",
        "p"
      ],
      "execution_count": null,
      "outputs": [
        {
          "output_type": "execute_result",
          "data": {
            "text/plain": [
              "array([0, 1, 0, 1, 1, 0, 1, 0, 1, 0, 0, 0, 1, 0, 1, 1, 0, 0, 1, 0, 0, 1,\n",
              "       1, 0, 1, 0, 1, 0, 0, 0, 0, 0, 1, 1, 0, 0, 1, 1, 0, 0, 0, 0, 0, 1,\n",
              "       0, 0, 0, 0, 1, 1, 0, 1, 0, 1, 0, 0, 0, 0, 0, 1, 0, 0, 0, 1, 1, 1,\n",
              "       1, 0, 0, 1, 1, 0, 1, 0, 1, 0, 0, 1, 0, 1, 1, 0, 1, 0, 0, 0, 1, 1,\n",
              "       1, 0, 1, 0, 1, 0, 0, 0, 1, 0, 0, 0, 1, 1, 0, 0, 1, 0, 0, 0, 0, 0,\n",
              "       0, 1, 1, 1, 1, 0, 0, 1, 0, 1, 0, 0, 1, 0, 0, 1, 0, 1, 0, 0, 0, 0,\n",
              "       1, 0, 0, 0, 0, 0, 1, 0, 0, 1, 0, 0, 0, 0, 0, 0, 0, 0, 1, 0, 0, 1,\n",
              "       1, 0, 1, 1, 0, 1, 1, 0, 1, 0, 0, 1, 1, 0, 1, 1, 0, 1, 0, 0, 0, 1,\n",
              "       0, 0, 1, 1, 0, 0, 1, 0, 1, 0, 1, 0, 1, 0, 0, 0, 0, 0, 0, 0, 1, 1,\n",
              "       0, 1, 1, 1, 0, 1, 0, 0, 1, 0, 1, 0, 0, 0, 0, 1, 1, 0, 1, 0, 1, 0,\n",
              "       1, 0, 1, 0, 1, 1, 0, 1, 0, 0, 0, 1, 0, 0, 0, 0, 0, 0, 1, 1, 1, 0,\n",
              "       0, 0, 0, 0, 1, 0, 1, 1, 1, 0, 1, 0, 0, 0, 0, 0, 1, 0, 0, 0, 1, 1,\n",
              "       0, 0, 0, 0, 1, 0, 0, 0, 1, 1, 0, 0, 0, 0, 0, 0, 1, 1, 1, 0, 0, 0,\n",
              "       0, 0, 0, 0, 0, 1, 0, 0, 0, 0, 1, 0, 0, 0, 0, 0, 0, 0, 1, 1, 0, 1,\n",
              "       0, 0, 0, 0, 0, 0, 1, 1, 0, 0, 1, 0, 0, 0, 0, 0, 1, 0, 0, 0, 0, 0,\n",
              "       1, 0, 0, 1, 1, 0, 0, 0, 0, 0, 0, 0, 0, 1, 0, 1, 0, 1, 0, 1, 0, 0,\n",
              "       0, 1, 1, 0, 1, 0, 0, 1, 0, 1, 1, 1, 0, 1, 0, 1, 0, 0, 0, 1, 1, 0,\n",
              "       1, 0, 1, 0, 0, 0, 0, 0, 1, 1, 0, 1, 0, 0, 0, 1, 0, 1, 1, 0, 0, 1,\n",
              "       0, 1, 0, 0, 1, 0, 1, 0, 0, 0, 0, 0, 1, 0, 1, 0, 1, 0, 1, 0, 0, 0])"
            ]
          },
          "metadata": {
            "tags": []
          },
          "execution_count": 18
        }
      ]
    },
    {
      "cell_type": "markdown",
      "metadata": {
        "id": "d9cPuOP9jOBd"
      },
      "source": [
        "* We want to create a file to send to the kaggle competition, but we should see first that the dataset test doesn't have the Survived column. Thus, we need to add this column."
      ]
    },
    {
      "cell_type": "code",
      "metadata": {
        "colab": {
          "base_uri": "https://localhost:8080/",
          "height": 206
        },
        "id": "S8w-iyJWikra",
        "outputId": "1492f3fc-a4b1-4a75-e50e-daad00cc7739"
      },
      "source": [
        "test.head()"
      ],
      "execution_count": null,
      "outputs": [
        {
          "output_type": "execute_result",
          "data": {
            "text/html": [
              "<div>\n",
              "<style scoped>\n",
              "    .dataframe tbody tr th:only-of-type {\n",
              "        vertical-align: middle;\n",
              "    }\n",
              "\n",
              "    .dataframe tbody tr th {\n",
              "        vertical-align: top;\n",
              "    }\n",
              "\n",
              "    .dataframe thead th {\n",
              "        text-align: right;\n",
              "    }\n",
              "</style>\n",
              "<table border=\"1\" class=\"dataframe\">\n",
              "  <thead>\n",
              "    <tr style=\"text-align: right;\">\n",
              "      <th></th>\n",
              "      <th>PassengerId</th>\n",
              "      <th>Pclass</th>\n",
              "      <th>Name</th>\n",
              "      <th>Sex</th>\n",
              "      <th>Age</th>\n",
              "      <th>SibSp</th>\n",
              "      <th>Parch</th>\n",
              "      <th>Ticket</th>\n",
              "      <th>Fare</th>\n",
              "      <th>Cabin</th>\n",
              "      <th>Embarked</th>\n",
              "      <th>Sex_binary</th>\n",
              "    </tr>\n",
              "  </thead>\n",
              "  <tbody>\n",
              "    <tr>\n",
              "      <th>0</th>\n",
              "      <td>892</td>\n",
              "      <td>3</td>\n",
              "      <td>Kelly, Mr. James</td>\n",
              "      <td>male</td>\n",
              "      <td>34.5</td>\n",
              "      <td>0</td>\n",
              "      <td>0</td>\n",
              "      <td>330911</td>\n",
              "      <td>7.8292</td>\n",
              "      <td>NaN</td>\n",
              "      <td>Q</td>\n",
              "      <td>0</td>\n",
              "    </tr>\n",
              "    <tr>\n",
              "      <th>1</th>\n",
              "      <td>893</td>\n",
              "      <td>3</td>\n",
              "      <td>Wilkes, Mrs. James (Ellen Needs)</td>\n",
              "      <td>female</td>\n",
              "      <td>47.0</td>\n",
              "      <td>1</td>\n",
              "      <td>0</td>\n",
              "      <td>363272</td>\n",
              "      <td>7.0000</td>\n",
              "      <td>NaN</td>\n",
              "      <td>S</td>\n",
              "      <td>1</td>\n",
              "    </tr>\n",
              "    <tr>\n",
              "      <th>2</th>\n",
              "      <td>894</td>\n",
              "      <td>2</td>\n",
              "      <td>Myles, Mr. Thomas Francis</td>\n",
              "      <td>male</td>\n",
              "      <td>62.0</td>\n",
              "      <td>0</td>\n",
              "      <td>0</td>\n",
              "      <td>240276</td>\n",
              "      <td>9.6875</td>\n",
              "      <td>NaN</td>\n",
              "      <td>Q</td>\n",
              "      <td>0</td>\n",
              "    </tr>\n",
              "    <tr>\n",
              "      <th>3</th>\n",
              "      <td>895</td>\n",
              "      <td>3</td>\n",
              "      <td>Wirz, Mr. Albert</td>\n",
              "      <td>male</td>\n",
              "      <td>27.0</td>\n",
              "      <td>0</td>\n",
              "      <td>0</td>\n",
              "      <td>315154</td>\n",
              "      <td>8.6625</td>\n",
              "      <td>NaN</td>\n",
              "      <td>S</td>\n",
              "      <td>0</td>\n",
              "    </tr>\n",
              "    <tr>\n",
              "      <th>4</th>\n",
              "      <td>896</td>\n",
              "      <td>3</td>\n",
              "      <td>Hirvonen, Mrs. Alexander (Helga E Lindqvist)</td>\n",
              "      <td>female</td>\n",
              "      <td>22.0</td>\n",
              "      <td>1</td>\n",
              "      <td>1</td>\n",
              "      <td>3101298</td>\n",
              "      <td>12.2875</td>\n",
              "      <td>NaN</td>\n",
              "      <td>S</td>\n",
              "      <td>1</td>\n",
              "    </tr>\n",
              "  </tbody>\n",
              "</table>\n",
              "</div>"
            ],
            "text/plain": [
              "   PassengerId  Pclass  ... Embarked Sex_binary\n",
              "0          892       3  ...        Q          0\n",
              "1          893       3  ...        S          1\n",
              "2          894       2  ...        Q          0\n",
              "3          895       3  ...        S          0\n",
              "4          896       3  ...        S          1\n",
              "\n",
              "[5 rows x 12 columns]"
            ]
          },
          "metadata": {
            "tags": []
          },
          "execution_count": 20
        }
      ]
    },
    {
      "cell_type": "markdown",
      "metadata": {
        "id": "aC-INnQrkfQY"
      },
      "source": [
        "* Changing the array to a pandas Series to add to the data set test.\n",
        "* Add the name to the columns\n"
      ]
    },
    {
      "cell_type": "code",
      "metadata": {
        "colab": {
          "base_uri": "https://localhost:8080/"
        },
        "id": "3F_xWnK_jMux",
        "outputId": "56d14615-ac1b-4054-90b1-a1ab4934dd35"
      },
      "source": [
        "sub = pd.Series(p, index=test['PassengerId'], name ='Survived' ) \n",
        "sub"
      ],
      "execution_count": null,
      "outputs": [
        {
          "output_type": "execute_result",
          "data": {
            "text/plain": [
              "PassengerId\n",
              "892     0\n",
              "893     1\n",
              "894     0\n",
              "895     1\n",
              "896     1\n",
              "       ..\n",
              "1305    0\n",
              "1306    1\n",
              "1307    0\n",
              "1308    0\n",
              "1309    0\n",
              "Name: Survived, Length: 418, dtype: int64"
            ]
          },
          "metadata": {
            "tags": []
          },
          "execution_count": 19
        }
      ]
    },
    {
      "cell_type": "markdown",
      "metadata": {
        "id": "z_fM7yYRlkM_"
      },
      "source": [
        "* Creating a csv file"
      ]
    },
    {
      "cell_type": "code",
      "metadata": {
        "id": "5ZL3DOFslVcF"
      },
      "source": [
        "sub.to_csv('first_model.csv', header=True)"
      ],
      "execution_count": null,
      "outputs": []
    },
    {
      "cell_type": "markdown",
      "metadata": {
        "id": "95R4fPcimHc9"
      },
      "source": [
        "* Just take a look in the first 10 lines of the archive to check if is all right "
      ]
    },
    {
      "cell_type": "code",
      "metadata": {
        "colab": {
          "base_uri": "https://localhost:8080/"
        },
        "id": "NrSi5qKHmVOb",
        "outputId": "f19b604d-12aa-40a7-8760-0d0dceabbe73"
      },
      "source": [
        "!head -n10 first_model.csv"
      ],
      "execution_count": null,
      "outputs": [
        {
          "output_type": "stream",
          "text": [
            "PassengerId,Survived\n",
            "892,0\n",
            "893,1\n",
            "894,0\n",
            "895,1\n",
            "896,1\n",
            "897,0\n",
            "898,1\n",
            "899,0\n",
            "900,1\n"
          ],
          "name": "stdout"
        }
      ]
    },
    {
      "cell_type": "markdown",
      "metadata": {
        "id": "_ZeDaeoKoH2L"
      },
      "source": [
        "* Below we can see the score of this second model that was submitted in the Kaggle.\n",
        "\n",
        "<p align=\"center\">\n",
        "  <img src=\"https://drive.google.com/uc?id=1bokD61y32NWBdBdEM7gkaRrF7r6nQZ5I\" >\n",
        "</p>\n",
        "\n",
        "* As can be seen in the image above, the score of 0.71291 is lower than the file gender_submission (0.76555). "
      ]
    },
    {
      "cell_type": "markdown",
      "metadata": {
        "id": "KKPmUP8Hw2mF"
      },
      "source": [
        "# Part 2: Second model of machine learning.\n",
        "---"
      ]
    },
    {
      "cell_type": "markdown",
      "metadata": {
        "id": "THyHCHwVeNkK"
      },
      "source": [
        "## Parts of the project that need to be focus:\n",
        "---\n",
        "### 1. Train\n",
        "> * In this step, we build the model.\n",
        "### 2. Validation\n",
        "> * We take the trained model and we see how good is it.\n",
        "> * In this part, the main goal is to adjust some parameters in the project. \n",
        "> * Here, we can simulate the reality with data that wasn't used before.\n",
        "> * We can add or remove parts of the dataset.\n",
        "### 3. Test\n",
        "> * This is a dataset that has to be used when the data scientist has the last model of machine learning.\n",
        "> * In this part, we can check the real performance of the model.\n",
        "\n",
        "---\n"
      ]
    },
    {
      "cell_type": "markdown",
      "metadata": {
        "id": "iLs44dlraTSL"
      },
      "source": [
        "### Validation\n",
        "\n",
        "\n",
        "> * This is one of the most important topics in the project. It must be ok or it can compromise all the work.\n",
        " > * It must be noticed that in the real projects we don't have the kaggle to check our score. So, we need to write a code to check it.  \n"
      ]
    },
    {
      "cell_type": "markdown",
      "metadata": {
        "id": "GWsbElhYiF_j"
      },
      "source": [
        "* Separating the dataset in a random way."
      ]
    },
    {
      "cell_type": "code",
      "metadata": {
        "id": "j7eC3Cv1o_85"
      },
      "source": [
        "from sklearn.ensemble import RandomForestClassifier\n",
        "from sklearn.model_selection import train_test_split"
      ],
      "execution_count": null,
      "outputs": []
    },
    {
      "cell_type": "markdown",
      "metadata": {
        "id": "DO1-_eW8kLMi"
      },
      "source": [
        "* For this project, we have a small quantity of data: about a thousand. So, we will use the test_size = 0.5, wich means we will take half of the data for the test and half for training."
      ]
    },
    {
      "cell_type": "code",
      "metadata": {
        "id": "bfyZGXYAjIxi"
      },
      "source": [
        "np.random.seed(0)\n",
        "X_train, X_valid, y_train, y_valid = train_test_split(X,y, test_size = 0.5)"
      ],
      "execution_count": null,
      "outputs": []
    },
    {
      "cell_type": "code",
      "metadata": {
        "colab": {
          "base_uri": "https://localhost:8080/",
          "height": 206
        },
        "id": "S2weSi9LlUrz",
        "outputId": "620c6228-f2b0-4af4-fcfa-0bdfeccb8356"
      },
      "source": [
        "X_train.head()"
      ],
      "execution_count": null,
      "outputs": [
        {
          "output_type": "execute_result",
          "data": {
            "text/html": [
              "<div>\n",
              "<style scoped>\n",
              "    .dataframe tbody tr th:only-of-type {\n",
              "        vertical-align: middle;\n",
              "    }\n",
              "\n",
              "    .dataframe tbody tr th {\n",
              "        vertical-align: top;\n",
              "    }\n",
              "\n",
              "    .dataframe thead th {\n",
              "        text-align: right;\n",
              "    }\n",
              "</style>\n",
              "<table border=\"1\" class=\"dataframe\">\n",
              "  <thead>\n",
              "    <tr style=\"text-align: right;\">\n",
              "      <th></th>\n",
              "      <th>Sex_binary</th>\n",
              "      <th>Age</th>\n",
              "    </tr>\n",
              "  </thead>\n",
              "  <tbody>\n",
              "    <tr>\n",
              "      <th>213</th>\n",
              "      <td>0</td>\n",
              "      <td>30.0</td>\n",
              "    </tr>\n",
              "    <tr>\n",
              "      <th>586</th>\n",
              "      <td>0</td>\n",
              "      <td>47.0</td>\n",
              "    </tr>\n",
              "    <tr>\n",
              "      <th>499</th>\n",
              "      <td>0</td>\n",
              "      <td>24.0</td>\n",
              "    </tr>\n",
              "    <tr>\n",
              "      <th>821</th>\n",
              "      <td>0</td>\n",
              "      <td>27.0</td>\n",
              "    </tr>\n",
              "    <tr>\n",
              "      <th>246</th>\n",
              "      <td>1</td>\n",
              "      <td>25.0</td>\n",
              "    </tr>\n",
              "  </tbody>\n",
              "</table>\n",
              "</div>"
            ],
            "text/plain": [
              "     Sex_binary   Age\n",
              "213           0  30.0\n",
              "586           0  47.0\n",
              "499           0  24.0\n",
              "821           0  27.0\n",
              "246           1  25.0"
            ]
          },
          "metadata": {
            "tags": []
          },
          "execution_count": 26
        }
      ]
    },
    {
      "cell_type": "code",
      "metadata": {
        "colab": {
          "base_uri": "https://localhost:8080/"
        },
        "id": "YfI7p6qQlVjw",
        "outputId": "a9b4feb1-1eb9-4b32-e7db-aab93dee664c"
      },
      "source": [
        "X_train.shape, X_valid.shape, y_train.shape, y_valid.shape"
      ],
      "execution_count": null,
      "outputs": [
        {
          "output_type": "execute_result",
          "data": {
            "text/plain": [
              "((445, 2), (446, 2), (445,), (446,))"
            ]
          },
          "metadata": {
            "tags": []
          },
          "execution_count": 22
        }
      ]
    },
    {
      "cell_type": "code",
      "metadata": {
        "colab": {
          "base_uri": "https://localhost:8080/"
        },
        "id": "zqBy_MfEnZNg",
        "outputId": "e8eaa9f0-81c5-4b4f-e382-2c4c7774c6c2"
      },
      "source": [
        "model =  RandomForestClassifier(n_estimators=100,n_jobs=-1, random_state=0)\n",
        "model.fit(X_train,y_train)"
      ],
      "execution_count": null,
      "outputs": [
        {
          "output_type": "execute_result",
          "data": {
            "text/plain": [
              "RandomForestClassifier(bootstrap=True, ccp_alpha=0.0, class_weight=None,\n",
              "                       criterion='gini', max_depth=None, max_features='auto',\n",
              "                       max_leaf_nodes=None, max_samples=None,\n",
              "                       min_impurity_decrease=0.0, min_impurity_split=None,\n",
              "                       min_samples_leaf=1, min_samples_split=2,\n",
              "                       min_weight_fraction_leaf=0.0, n_estimators=100,\n",
              "                       n_jobs=-1, oob_score=False, random_state=0, verbose=0,\n",
              "                       warm_start=False)"
            ]
          },
          "metadata": {
            "tags": []
          },
          "execution_count": 23
        }
      ]
    },
    {
      "cell_type": "code",
      "metadata": {
        "id": "3ZHRaLVtnzam"
      },
      "source": [
        "p = model.predict(X_valid)"
      ],
      "execution_count": null,
      "outputs": []
    },
    {
      "cell_type": "markdown",
      "metadata": {
        "id": "dI1EhykeoPuA"
      },
      "source": [
        "\n",
        "\n",
        "### Calculating the accuracy.\n",
        "> *  The accuracy is basically the number of hits (positive) divided by the total number of examples.\n",
        "> * The set can be said to be accurate if their average is close to the true value of the quantity being measured."
      ]
    },
    {
      "cell_type": "code",
      "metadata": {
        "colab": {
          "base_uri": "https://localhost:8080/"
        },
        "id": "ay3DVSxRoB1T",
        "outputId": "93755141-d0c8-4d2f-ee5b-d4cb958abb97"
      },
      "source": [
        "np.mean(y_valid == p)"
      ],
      "execution_count": null,
      "outputs": [
        {
          "output_type": "execute_result",
          "data": {
            "text/plain": [
              "0.7690582959641256"
            ]
          },
          "metadata": {
            "tags": []
          },
          "execution_count": 34
        }
      ]
    },
    {
      "cell_type": "markdown",
      "metadata": {
        "id": "S0_W1uQ8qJOP"
      },
      "source": [
        "* Comparing the accuracy with the model that all the women survived. So, assuming that all women will survive.\n"
      ]
    },
    {
      "cell_type": "code",
      "metadata": {
        "colab": {
          "base_uri": "https://localhost:8080/"
        },
        "id": "foFylX5Epfqy",
        "outputId": "b94dc402-ea38-4cd0-9bdb-2ee2e96d0bcc"
      },
      "source": [
        "p = (X_valid['Sex_binary'] == 1).astype(np.int64) # gender submission\n",
        "np.mean(y_valid == p)"
      ],
      "execution_count": null,
      "outputs": [
        {
          "output_type": "execute_result",
          "data": {
            "text/plain": [
              "0.7825112107623319"
            ]
          },
          "metadata": {
            "tags": []
          },
          "execution_count": 39
        }
      ]
    },
    {
      "cell_type": "markdown",
      "metadata": {
        "id": "_W-wMEZUq1eT"
      },
      "source": [
        "* At this point, we can conclude that the model isn't so good enough as of yet.\n",
        "* It's needed to compare and see if the result is  consistent in the real world."
      ]
    },
    {
      "cell_type": "markdown",
      "metadata": {
        "id": "43ih9w5Hxa5J"
      },
      "source": [
        "# Part 3 : Using cross-validation to build a model of machine learning.\n",
        "---"
      ]
    },
    {
      "cell_type": "markdown",
      "metadata": {
        "id": "Yb1FuN5PyUCJ"
      },
      "source": [
        "* Cross-validation is a technique to evaluate a model's generalizability, from a dataset. This technique is widely used in problems where the purpose of modeling is the prediction.\n",
        "\n",
        "* Cross-validation is the partitioning of the dataset into mutually exclusive subsets, and subsequently, the use of some of these subsets to estimate the model parameters (training data), with the remaining subsets (validation) in the model validation.\n",
        "\n",
        "* Using the concept, we can remove that randomness of the dataset. It's a technique of resampling. \n"
      ]
    },
    {
      "cell_type": "code",
      "metadata": {
        "id": "6_IlXZmRxg5Q"
      },
      "source": [
        "from sklearn.model_selection import KFold"
      ],
      "execution_count": null,
      "outputs": []
    },
    {
      "cell_type": "code",
      "metadata": {
        "colab": {
          "base_uri": "https://localhost:8080/"
        },
        "id": "hgqnj199l5DS",
        "outputId": "b2441af9-5e33-4167-eaa7-1a3c7f8733c6"
      },
      "source": [
        "results = []\n",
        "for rep in range(10):\n",
        "  print(f'Number repetition: {rep}')  \n",
        "  kf = KFold(3, shuffle= True, random_state= rep)\n",
        "\n",
        "  \n",
        "  for lines_train, lines_valid in kf.split(X):\n",
        "    print('Train:', lines_train.shape[0])\n",
        "    print('Validation:', lines_valid.shape[0])\n",
        "    \n",
        "\n",
        "    X_train, X_valid = X.iloc[lines_train], X.iloc[lines_valid]\n",
        "    y_train, y_valid = y.iloc[lines_train], y.iloc[lines_valid]\n",
        "    #print(X_train.head())\n",
        "    #print()\n",
        "\n",
        "    model = RandomForestClassifier(n_estimators=100, n_jobs= -1, random_state= 0)\n",
        "    model.fit(X_train,y_train)\n",
        "\n",
        "    p = model.predict(X_valid)\n",
        "    acc = np.mean(y_valid == p)\n",
        "    results.append(acc)\n",
        "    print(f'Accuracy: {acc}')\n",
        "    print()"
      ],
      "execution_count": null,
      "outputs": [
        {
          "output_type": "stream",
          "text": [
            "Number repetition: 0\n",
            "Train: 594\n",
            "Validation: 297\n",
            "Accuracy: 0.7609427609427609\n",
            "\n",
            "Train: 594\n",
            "Validation: 297\n",
            "Accuracy: 0.7845117845117845\n",
            "\n",
            "Train: 594\n",
            "Validation: 297\n",
            "Accuracy: 0.7643097643097643\n",
            "\n",
            "Number repetition: 1\n",
            "Train: 594\n",
            "Validation: 297\n",
            "Accuracy: 0.7575757575757576\n",
            "\n",
            "Train: 594\n",
            "Validation: 297\n",
            "Accuracy: 0.7710437710437711\n",
            "\n",
            "Train: 594\n",
            "Validation: 297\n",
            "Accuracy: 0.7878787878787878\n",
            "\n",
            "Number repetition: 2\n",
            "Train: 594\n",
            "Validation: 297\n",
            "Accuracy: 0.7474747474747475\n",
            "\n",
            "Train: 594\n",
            "Validation: 297\n",
            "Accuracy: 0.7878787878787878\n",
            "\n",
            "Train: 594\n",
            "Validation: 297\n",
            "Accuracy: 0.7777777777777778\n",
            "\n",
            "Number repetition: 3\n",
            "Train: 594\n",
            "Validation: 297\n",
            "Accuracy: 0.7441077441077442\n",
            "\n",
            "Train: 594\n",
            "Validation: 297\n",
            "Accuracy: 0.7508417508417509\n",
            "\n",
            "Train: 594\n",
            "Validation: 297\n",
            "Accuracy: 0.7777777777777778\n",
            "\n",
            "Number repetition: 4\n",
            "Train: 594\n",
            "Validation: 297\n",
            "Accuracy: 0.7710437710437711\n",
            "\n",
            "Train: 594\n",
            "Validation: 297\n",
            "Accuracy: 0.7508417508417509\n",
            "\n",
            "Train: 594\n",
            "Validation: 297\n",
            "Accuracy: 0.7373737373737373\n",
            "\n",
            "Number repetition: 5\n",
            "Train: 594\n",
            "Validation: 297\n",
            "Accuracy: 0.7508417508417509\n",
            "\n",
            "Train: 594\n",
            "Validation: 297\n",
            "Accuracy: 0.8215488215488216\n",
            "\n",
            "Train: 594\n",
            "Validation: 297\n",
            "Accuracy: 0.7003367003367004\n",
            "\n",
            "Number repetition: 6\n",
            "Train: 594\n",
            "Validation: 297\n",
            "Accuracy: 0.7508417508417509\n",
            "\n",
            "Train: 594\n",
            "Validation: 297\n",
            "Accuracy: 0.7777777777777778\n",
            "\n",
            "Train: 594\n",
            "Validation: 297\n",
            "Accuracy: 0.7306397306397306\n",
            "\n",
            "Number repetition: 7\n",
            "Train: 594\n",
            "Validation: 297\n",
            "Accuracy: 0.7373737373737373\n",
            "\n",
            "Train: 594\n",
            "Validation: 297\n",
            "Accuracy: 0.8047138047138047\n",
            "\n",
            "Train: 594\n",
            "Validation: 297\n",
            "Accuracy: 0.7845117845117845\n",
            "\n",
            "Number repetition: 8\n",
            "Train: 594\n",
            "Validation: 297\n",
            "Accuracy: 0.7912457912457912\n",
            "\n",
            "Train: 594\n",
            "Validation: 297\n",
            "Accuracy: 0.7643097643097643\n",
            "\n",
            "Train: 594\n",
            "Validation: 297\n",
            "Accuracy: 0.7575757575757576\n",
            "\n",
            "Number repetition: 9\n",
            "Train: 594\n",
            "Validation: 297\n",
            "Accuracy: 0.7508417508417509\n",
            "\n",
            "Train: 594\n",
            "Validation: 297\n",
            "Accuracy: 0.7542087542087542\n",
            "\n",
            "Train: 594\n",
            "Validation: 297\n",
            "Accuracy: 0.7811447811447811\n",
            "\n"
          ],
          "name": "stdout"
        }
      ]
    },
    {
      "cell_type": "code",
      "metadata": {
        "colab": {
          "base_uri": "https://localhost:8080/"
        },
        "id": "n5TmBx6ImF7N",
        "outputId": "db4e06e4-d6a8-477a-d152-6820c70f79d6"
      },
      "source": [
        "np.mean(results)"
      ],
      "execution_count": null,
      "outputs": [
        {
          "output_type": "execute_result",
          "data": {
            "text/plain": [
              "0.7643097643097645"
            ]
          },
          "metadata": {
            "tags": []
          },
          "execution_count": 38
        }
      ]
    },
    {
      "cell_type": "markdown",
      "metadata": {
        "id": "aPLoWftDsaTo"
      },
      "source": [
        "# Part 4: Improving the model.\n",
        "---"
      ]
    },
    {
      "cell_type": "code",
      "metadata": {
        "id": "NYYhNwSEuXV0"
      },
      "source": [
        "from sklearn.ensemble import RandomForestClassifier\n",
        "from sklearn.model_selection import RepeatedKFold"
      ],
      "execution_count": null,
      "outputs": []
    },
    {
      "cell_type": "code",
      "metadata": {
        "colab": {
          "base_uri": "https://localhost:8080/"
        },
        "id": "c4vLjpoVsnoY",
        "outputId": "363ce5bd-16a7-4fd8-ddca-7ada888ffe53"
      },
      "source": [
        "results = []\n",
        "kf = RepeatedKFold(n_splits = 2, n_repeats = 10, random_state= 10)\n",
        "\n",
        "\n",
        "for lines_train, lines_valid in kf.split(X):\n",
        "  print('Train:', lines_train.shape[0])\n",
        "  print('Validation:', lines_valid.shape[0])\n",
        "  \n",
        "\n",
        "  X_train, X_valid = X.iloc[lines_train], X.iloc[lines_valid]\n",
        "  y_train, y_valid = y.iloc[lines_train], y.iloc[lines_valid]\n",
        "  #print(X_train.head())\n",
        "  #print()\n",
        "\n",
        "  model = RandomForestClassifier(n_estimators=100, n_jobs= -1, random_state= 0)\n",
        "  model.fit(X_train,y_train)\n",
        "\n",
        "  p = model.predict(X_valid)\n",
        "  acc = np.mean(y_valid == p)\n",
        "  results.append(acc)\n",
        "  print(f'Accuracy: {acc}')\n",
        "  print()\n"
      ],
      "execution_count": null,
      "outputs": [
        {
          "output_type": "stream",
          "text": [
            "Train: 445\n",
            "Validation: 446\n",
            "Accuracy: 0.7869955156950673\n",
            "\n",
            "Train: 446\n",
            "Validation: 445\n",
            "Accuracy: 0.7797752808988764\n",
            "\n",
            "Train: 445\n",
            "Validation: 446\n",
            "Accuracy: 0.827354260089686\n",
            "\n",
            "Train: 446\n",
            "Validation: 445\n",
            "Accuracy: 0.8179775280898877\n",
            "\n",
            "Train: 445\n",
            "Validation: 446\n",
            "Accuracy: 0.7847533632286996\n",
            "\n",
            "Train: 446\n",
            "Validation: 445\n",
            "Accuracy: 0.7842696629213484\n",
            "\n",
            "Train: 445\n",
            "Validation: 446\n",
            "Accuracy: 0.8161434977578476\n",
            "\n",
            "Train: 446\n",
            "Validation: 445\n",
            "Accuracy: 0.7842696629213484\n",
            "\n",
            "Train: 445\n",
            "Validation: 446\n",
            "Accuracy: 0.8004484304932735\n",
            "\n",
            "Train: 446\n",
            "Validation: 445\n",
            "Accuracy: 0.8\n",
            "\n",
            "Train: 445\n",
            "Validation: 446\n",
            "Accuracy: 0.8183856502242153\n",
            "\n",
            "Train: 446\n",
            "Validation: 445\n",
            "Accuracy: 0.802247191011236\n",
            "\n",
            "Train: 445\n",
            "Validation: 446\n",
            "Accuracy: 0.8116591928251121\n",
            "\n",
            "Train: 446\n",
            "Validation: 445\n",
            "Accuracy: 0.8067415730337079\n",
            "\n",
            "Train: 445\n",
            "Validation: 446\n",
            "Accuracy: 0.820627802690583\n",
            "\n",
            "Train: 446\n",
            "Validation: 445\n",
            "Accuracy: 0.7887640449438202\n",
            "\n",
            "Train: 445\n",
            "Validation: 446\n",
            "Accuracy: 0.8385650224215246\n",
            "\n",
            "Train: 446\n",
            "Validation: 445\n",
            "Accuracy: 0.8044943820224719\n",
            "\n",
            "Train: 445\n",
            "Validation: 446\n",
            "Accuracy: 0.7982062780269058\n",
            "\n",
            "Train: 446\n",
            "Validation: 445\n",
            "Accuracy: 0.8112359550561797\n",
            "\n"
          ],
          "name": "stdout"
        }
      ]
    },
    {
      "cell_type": "markdown",
      "metadata": {
        "id": "i_qsQOGZupAD"
      },
      "source": [
        "### Activating some functions\n",
        "* It shows all the graphics in just one cell. (%matplotlib inline)\n",
        "* It gathers various functions(%pylab inline)"
      ]
    },
    {
      "cell_type": "code",
      "metadata": {
        "colab": {
          "base_uri": "https://localhost:8080/"
        },
        "id": "tGRkk1z5ukbm",
        "outputId": "add80f17-68fd-4e69-e56a-952f39ffe29a"
      },
      "source": [
        "%matplotlib inline\n",
        "%pylab inline"
      ],
      "execution_count": null,
      "outputs": [
        {
          "output_type": "stream",
          "text": [
            "Populating the interactive namespace from numpy and matplotlib\n"
          ],
          "name": "stdout"
        },
        {
          "output_type": "stream",
          "text": [
            "/usr/local/lib/python3.7/dist-packages/IPython/core/magics/pylab.py:161: UserWarning: pylab import has clobbered these variables: ['test']\n",
            "`%matplotlib` prevents importing * from pylab and numpy\n",
            "  \"\\n`%matplotlib` prevents importing * from pylab and numpy\"\n"
          ],
          "name": "stderr"
        }
      ]
    },
    {
      "cell_type": "code",
      "metadata": {
        "colab": {
          "base_uri": "https://localhost:8080/"
        },
        "id": "mGaYwRCgwsht",
        "outputId": "5f198b5e-44e7-4dd8-9d58-aeefeac413bd"
      },
      "source": [
        "np.mean(results)"
      ],
      "execution_count": null,
      "outputs": [
        {
          "output_type": "execute_result",
          "data": {
            "text/plain": [
              "0.759601451100922"
            ]
          },
          "metadata": {
            "tags": []
          },
          "execution_count": 43
        }
      ]
    },
    {
      "cell_type": "markdown",
      "metadata": {
        "id": "2nUgIxFnwE24"
      },
      "source": [
        "### Creating a histogram from the list of results made above\n",
        "* With the histogram it is possible to see the deviation in the results. \n",
        "* We can see that there are more results around 0.76 or 76 %."
      ]
    },
    {
      "cell_type": "code",
      "metadata": {
        "colab": {
          "base_uri": "https://localhost:8080/",
          "height": 357
        },
        "id": "_tkNft75v7kB",
        "outputId": "0d274c1a-7b86-4b3b-f7df-3970ca9819f8"
      },
      "source": [
        "pylab.hist(results)"
      ],
      "execution_count": null,
      "outputs": [
        {
          "output_type": "execute_result",
          "data": {
            "text/plain": [
              "(array([2., 1., 3., 6., 4., 2., 1., 0., 0., 1.]),\n",
              " array([0.73542601, 0.74165869, 0.74789137, 0.75412405, 0.76035673,\n",
              "        0.76658941, 0.77282209, 0.77905477, 0.78528745, 0.79152013,\n",
              "        0.79775281]),\n",
              " <a list of 10 Patch objects>)"
            ]
          },
          "metadata": {
            "tags": []
          },
          "execution_count": 42
        },
        {
          "output_type": "display_data",
          "data": {
            "image/png": "[encoded data removed]",
            "text/plain": [
              "<Figure size 432x288 with 1 Axes>"
            ]
          },
          "metadata": {
            "tags": [],
            "needs_background": "light"
          }
        }
      ]
    },
    {
      "cell_type": "markdown",
      "metadata": {
        "id": "pXm9rwLTx4g2"
      },
      "source": [
        "### Using new variables"
      ]
    },
    {
      "cell_type": "code",
      "metadata": {
        "colab": {
          "base_uri": "https://localhost:8080/",
          "height": 415
        },
        "id": "zdGLM1cbx143",
        "outputId": "53dfd71c-9f55-4b07-a09d-5d48e20dc6e1"
      },
      "source": [
        "train.head()"
      ],
      "execution_count": null,
      "outputs": [
        {
          "output_type": "execute_result",
          "data": {
            "text/html": [
              "<div>\n",
              "<style scoped>\n",
              "    .dataframe tbody tr th:only-of-type {\n",
              "        vertical-align: middle;\n",
              "    }\n",
              "\n",
              "    .dataframe tbody tr th {\n",
              "        vertical-align: top;\n",
              "    }\n",
              "\n",
              "    .dataframe thead th {\n",
              "        text-align: right;\n",
              "    }\n",
              "</style>\n",
              "<table border=\"1\" class=\"dataframe\">\n",
              "  <thead>\n",
              "    <tr style=\"text-align: right;\">\n",
              "      <th></th>\n",
              "      <th>PassengerId</th>\n",
              "      <th>Survived</th>\n",
              "      <th>Pclass</th>\n",
              "      <th>Name</th>\n",
              "      <th>Sex</th>\n",
              "      <th>Age</th>\n",
              "      <th>SibSp</th>\n",
              "      <th>Parch</th>\n",
              "      <th>Ticket</th>\n",
              "      <th>Fare</th>\n",
              "      <th>Cabin</th>\n",
              "      <th>Embarked</th>\n",
              "      <th>Sex_binary</th>\n",
              "    </tr>\n",
              "  </thead>\n",
              "  <tbody>\n",
              "    <tr>\n",
              "      <th>0</th>\n",
              "      <td>1</td>\n",
              "      <td>0</td>\n",
              "      <td>3</td>\n",
              "      <td>Braund, Mr. Owen Harris</td>\n",
              "      <td>male</td>\n",
              "      <td>22.0</td>\n",
              "      <td>1</td>\n",
              "      <td>0</td>\n",
              "      <td>A/5 21171</td>\n",
              "      <td>7.2500</td>\n",
              "      <td>NaN</td>\n",
              "      <td>S</td>\n",
              "      <td>0</td>\n",
              "    </tr>\n",
              "    <tr>\n",
              "      <th>1</th>\n",
              "      <td>2</td>\n",
              "      <td>1</td>\n",
              "      <td>1</td>\n",
              "      <td>Cumings, Mrs. John Bradley (Florence Briggs Th...</td>\n",
              "      <td>female</td>\n",
              "      <td>38.0</td>\n",
              "      <td>1</td>\n",
              "      <td>0</td>\n",
              "      <td>PC 17599</td>\n",
              "      <td>71.2833</td>\n",
              "      <td>C85</td>\n",
              "      <td>C</td>\n",
              "      <td>1</td>\n",
              "    </tr>\n",
              "    <tr>\n",
              "      <th>2</th>\n",
              "      <td>3</td>\n",
              "      <td>1</td>\n",
              "      <td>3</td>\n",
              "      <td>Heikkinen, Miss. Laina</td>\n",
              "      <td>female</td>\n",
              "      <td>26.0</td>\n",
              "      <td>0</td>\n",
              "      <td>0</td>\n",
              "      <td>STON/O2. 3101282</td>\n",
              "      <td>7.9250</td>\n",
              "      <td>NaN</td>\n",
              "      <td>S</td>\n",
              "      <td>1</td>\n",
              "    </tr>\n",
              "    <tr>\n",
              "      <th>3</th>\n",
              "      <td>4</td>\n",
              "      <td>1</td>\n",
              "      <td>1</td>\n",
              "      <td>Futrelle, Mrs. Jacques Heath (Lily May Peel)</td>\n",
              "      <td>female</td>\n",
              "      <td>35.0</td>\n",
              "      <td>1</td>\n",
              "      <td>0</td>\n",
              "      <td>113803</td>\n",
              "      <td>53.1000</td>\n",
              "      <td>C123</td>\n",
              "      <td>S</td>\n",
              "      <td>1</td>\n",
              "    </tr>\n",
              "    <tr>\n",
              "      <th>4</th>\n",
              "      <td>5</td>\n",
              "      <td>0</td>\n",
              "      <td>3</td>\n",
              "      <td>Allen, Mr. William Henry</td>\n",
              "      <td>male</td>\n",
              "      <td>35.0</td>\n",
              "      <td>0</td>\n",
              "      <td>0</td>\n",
              "      <td>373450</td>\n",
              "      <td>8.0500</td>\n",
              "      <td>NaN</td>\n",
              "      <td>S</td>\n",
              "      <td>0</td>\n",
              "    </tr>\n",
              "  </tbody>\n",
              "</table>\n",
              "</div>"
            ],
            "text/plain": [
              "   PassengerId  Survived  Pclass  ... Cabin Embarked  Sex_binary\n",
              "0            1         0       3  ...   NaN        S           0\n",
              "1            2         1       1  ...   C85        C           1\n",
              "2            3         1       3  ...   NaN        S           1\n",
              "3            4         1       1  ...  C123        S           1\n",
              "4            5         0       3  ...   NaN        S           0\n",
              "\n",
              "[5 rows x 13 columns]"
            ]
          },
          "metadata": {
            "tags": []
          },
          "execution_count": 44
        }
      ]
    },
    {
      "cell_type": "code",
      "metadata": {
        "id": "WiU7jywDyCzb"
      },
      "source": [
        "variable = ['Sex_binary','Age','Pclass', 'SibSp', 'Parch', 'Fare']"
      ],
      "execution_count": null,
      "outputs": []
    },
    {
      "cell_type": "code",
      "metadata": {
        "id": "6pAdEP3_yktF"
      },
      "source": [
        "X = train[variable].fillna(-1)\n",
        "y = train['Survived']"
      ],
      "execution_count": null,
      "outputs": []
    },
    {
      "cell_type": "code",
      "metadata": {
        "colab": {
          "base_uri": "https://localhost:8080/"
        },
        "id": "Rw5rkPmCy0sO",
        "outputId": "ef87847c-1360-4f1c-b5c4-5cbd9ad44e63"
      },
      "source": [
        "results = []\n",
        "kf = RepeatedKFold(n_splits = 2, n_repeats = 10, random_state= 10)\n",
        "\n",
        "\n",
        "for lines_train, lines_valid in kf.split(X):\n",
        "  print('Train:', lines_train.shape[0])\n",
        "  print('Validation:', lines_valid.shape[0])\n",
        "  \n",
        "\n",
        "  X_train, X_valid = X.iloc[lines_train], X.iloc[lines_valid]\n",
        "  y_train, y_valid = y.iloc[lines_train], y.iloc[lines_valid]\n",
        "  #print(X_train.head())\n",
        "  #print()\n",
        "\n",
        "  model = RandomForestClassifier(n_estimators=100, n_jobs= -1, random_state= 0)\n",
        "  model.fit(X_train,y_train)\n",
        "\n",
        "  p = model.predict(X_valid)\n",
        "  acc = np.mean(y_valid == p)\n",
        "  results.append(acc)\n",
        "  print(f'Accuracy: {acc}')\n",
        "  print()"
      ],
      "execution_count": null,
      "outputs": [
        {
          "output_type": "stream",
          "text": [
            "Train: 445\n",
            "Validation: 446\n",
            "Accuracy: 0.7869955156950673\n",
            "\n",
            "Train: 446\n",
            "Validation: 445\n",
            "Accuracy: 0.7797752808988764\n",
            "\n",
            "Train: 445\n",
            "Validation: 446\n",
            "Accuracy: 0.827354260089686\n",
            "\n",
            "Train: 446\n",
            "Validation: 445\n",
            "Accuracy: 0.8179775280898877\n",
            "\n",
            "Train: 445\n",
            "Validation: 446\n",
            "Accuracy: 0.7847533632286996\n",
            "\n",
            "Train: 446\n",
            "Validation: 445\n",
            "Accuracy: 0.7842696629213484\n",
            "\n",
            "Train: 445\n",
            "Validation: 446\n",
            "Accuracy: 0.8161434977578476\n",
            "\n",
            "Train: 446\n",
            "Validation: 445\n",
            "Accuracy: 0.7842696629213484\n",
            "\n",
            "Train: 445\n",
            "Validation: 446\n",
            "Accuracy: 0.8004484304932735\n",
            "\n",
            "Train: 446\n",
            "Validation: 445\n",
            "Accuracy: 0.8\n",
            "\n",
            "Train: 445\n",
            "Validation: 446\n",
            "Accuracy: 0.8183856502242153\n",
            "\n",
            "Train: 446\n",
            "Validation: 445\n",
            "Accuracy: 0.802247191011236\n",
            "\n",
            "Train: 445\n",
            "Validation: 446\n",
            "Accuracy: 0.8116591928251121\n",
            "\n",
            "Train: 446\n",
            "Validation: 445\n",
            "Accuracy: 0.8067415730337079\n",
            "\n",
            "Train: 445\n",
            "Validation: 446\n",
            "Accuracy: 0.820627802690583\n",
            "\n",
            "Train: 446\n",
            "Validation: 445\n",
            "Accuracy: 0.7887640449438202\n",
            "\n",
            "Train: 445\n",
            "Validation: 446\n",
            "Accuracy: 0.8385650224215246\n",
            "\n",
            "Train: 446\n",
            "Validation: 445\n",
            "Accuracy: 0.8044943820224719\n",
            "\n",
            "Train: 445\n",
            "Validation: 446\n",
            "Accuracy: 0.7982062780269058\n",
            "\n",
            "Train: 446\n",
            "Validation: 445\n",
            "Accuracy: 0.8112359550561797\n",
            "\n"
          ],
          "name": "stdout"
        }
      ]
    },
    {
      "cell_type": "markdown",
      "metadata": {
        "id": "29IRgPsOzDCK"
      },
      "source": [
        "* It is possible to see that the results improve. Before, the minimum and maximum results were 0.74 and 0.80, respectively, and now they are 0.78 and 0.84.\n",
        "\n",
        "* The mean of the results are better than before with 80.4145 %."
      ]
    },
    {
      "cell_type": "code",
      "metadata": {
        "colab": {
          "base_uri": "https://localhost:8080/"
        },
        "id": "mhhNMEjVzrNc",
        "outputId": "acdee3ef-4744-4a6f-ef81-7d4df89904bb"
      },
      "source": [
        "np.mean(results)"
      ],
      "execution_count": null,
      "outputs": [
        {
          "output_type": "execute_result",
          "data": {
            "text/plain": [
              "0.8041457147175896"
            ]
          },
          "metadata": {
            "tags": []
          },
          "execution_count": 50
        }
      ]
    },
    {
      "cell_type": "code",
      "metadata": {
        "colab": {
          "base_uri": "https://localhost:8080/",
          "height": 357
        },
        "id": "vCG229noy6ZM",
        "outputId": "56f991f8-773f-4bad-89f5-9273a0f3a3b2"
      },
      "source": [
        "pylab.hist(results)"
      ],
      "execution_count": null,
      "outputs": [
        {
          "output_type": "execute_result",
          "data": {
            "text/plain": [
              "(array([4., 2., 0., 4., 2., 2., 4., 0., 1., 1.]),\n",
              " array([0.77977528, 0.78565426, 0.79153323, 0.7974122 , 0.80329118,\n",
              "        0.80917015, 0.81504913, 0.8209281 , 0.82680707, 0.83268605,\n",
              "        0.83856502]),\n",
              " <a list of 10 Patch objects>)"
            ]
          },
          "metadata": {
            "tags": []
          },
          "execution_count": 49
        },
        {
          "output_type": "display_data",
          "data": {
            "image/png": "[encoded data removed]",
            "text/plain": [
              "<Figure size 432x288 with 1 Axes>"
            ]
          },
          "metadata": {
            "tags": [],
            "needs_background": "light"
          }
        }
      ]
    },
    {
      "cell_type": "markdown",
      "metadata": {
        "id": "7SvEn0jq0N_7"
      },
      "source": [
        "### Retraining the model\n",
        "* Creating a new model (retraining the model) using all the dataset for creating a file. The aim is to send to kaggle to make a new submission."
      ]
    },
    {
      "cell_type": "code",
      "metadata": {
        "id": "2K3BIcDS0tUM"
      },
      "source": [
        "train = pd.read_csv('/content/drive/MyDrive/Colab Notebooks/Projeto_Titanic/train.csv') \n",
        "test = pd.read_csv('/content/drive/MyDrive/Colab Notebooks/Projeto_Titanic/test.csv') \n",
        "\n",
        "train['Sex_binary'] = train['Sex'].map(transform_sex)\n",
        "test['Sex_binary'] = test['Sex'].map(transform_sex)\n",
        "\n",
        "variable = ['Sex_binary','Age','Pclass', 'SibSp', 'Parch', 'Fare']\n",
        "\n",
        "X = train[variable].fillna(-1)\n",
        "y = train['Survived']"
      ],
      "execution_count": null,
      "outputs": []
    },
    {
      "cell_type": "code",
      "metadata": {
        "colab": {
          "base_uri": "https://localhost:8080/",
          "height": 206
        },
        "id": "yYQnD_tm2qlx",
        "outputId": "af48f70a-835c-4edf-834d-468ff7df7146"
      },
      "source": [
        "test[variable].head()"
      ],
      "execution_count": null,
      "outputs": [
        {
          "output_type": "execute_result",
          "data": {
            "text/html": [
              "<div>\n",
              "<style scoped>\n",
              "    .dataframe tbody tr th:only-of-type {\n",
              "        vertical-align: middle;\n",
              "    }\n",
              "\n",
              "    .dataframe tbody tr th {\n",
              "        vertical-align: top;\n",
              "    }\n",
              "\n",
              "    .dataframe thead th {\n",
              "        text-align: right;\n",
              "    }\n",
              "</style>\n",
              "<table border=\"1\" class=\"dataframe\">\n",
              "  <thead>\n",
              "    <tr style=\"text-align: right;\">\n",
              "      <th></th>\n",
              "      <th>Sex_binary</th>\n",
              "      <th>Age</th>\n",
              "      <th>Pclass</th>\n",
              "      <th>SibSp</th>\n",
              "      <th>Parch</th>\n",
              "      <th>Fare</th>\n",
              "    </tr>\n",
              "  </thead>\n",
              "  <tbody>\n",
              "    <tr>\n",
              "      <th>0</th>\n",
              "      <td>0</td>\n",
              "      <td>34.5</td>\n",
              "      <td>3</td>\n",
              "      <td>0</td>\n",
              "      <td>0</td>\n",
              "      <td>7.8292</td>\n",
              "    </tr>\n",
              "    <tr>\n",
              "      <th>1</th>\n",
              "      <td>1</td>\n",
              "      <td>47.0</td>\n",
              "      <td>3</td>\n",
              "      <td>1</td>\n",
              "      <td>0</td>\n",
              "      <td>7.0000</td>\n",
              "    </tr>\n",
              "    <tr>\n",
              "      <th>2</th>\n",
              "      <td>0</td>\n",
              "      <td>62.0</td>\n",
              "      <td>2</td>\n",
              "      <td>0</td>\n",
              "      <td>0</td>\n",
              "      <td>9.6875</td>\n",
              "    </tr>\n",
              "    <tr>\n",
              "      <th>3</th>\n",
              "      <td>0</td>\n",
              "      <td>27.0</td>\n",
              "      <td>3</td>\n",
              "      <td>0</td>\n",
              "      <td>0</td>\n",
              "      <td>8.6625</td>\n",
              "    </tr>\n",
              "    <tr>\n",
              "      <th>4</th>\n",
              "      <td>1</td>\n",
              "      <td>22.0</td>\n",
              "      <td>3</td>\n",
              "      <td>1</td>\n",
              "      <td>1</td>\n",
              "      <td>12.2875</td>\n",
              "    </tr>\n",
              "  </tbody>\n",
              "</table>\n",
              "</div>"
            ],
            "text/plain": [
              "   Sex_binary   Age  Pclass  SibSp  Parch     Fare\n",
              "0           0  34.5       3      0      0   7.8292\n",
              "1           1  47.0       3      1      0   7.0000\n",
              "2           0  62.0       2      0      0   9.6875\n",
              "3           0  27.0       3      0      0   8.6625\n",
              "4           1  22.0       3      1      1  12.2875"
            ]
          },
          "metadata": {
            "tags": []
          },
          "execution_count": 54
        }
      ]
    },
    {
      "cell_type": "code",
      "metadata": {
        "id": "UZESA-xC20vm"
      },
      "source": [
        "model = RandomForestClassifier(n_estimators=100, n_jobs=-1, random_state=0)\n",
        "model.fit(X,y)\n",
        "\n",
        "p = model.predict(test[variable].fillna(-1))"
      ],
      "execution_count": null,
      "outputs": []
    },
    {
      "cell_type": "code",
      "metadata": {
        "colab": {
          "base_uri": "https://localhost:8080/"
        },
        "id": "9jlds7vr3URB",
        "outputId": "337503db-7ca3-4b6d-e1cd-896700196552"
      },
      "source": [
        "second_sub = pd.Series(p, index = test['PassengerId'], name = 'Survived')\n",
        "second_sub.shape"
      ],
      "execution_count": null,
      "outputs": [
        {
          "output_type": "execute_result",
          "data": {
            "text/plain": [
              "(418,)"
            ]
          },
          "metadata": {
            "tags": []
          },
          "execution_count": 56
        }
      ]
    },
    {
      "cell_type": "code",
      "metadata": {
        "id": "zAaM6Vcj3ouG"
      },
      "source": [
        "second_sub.to_csv('second_model.csv', header= True)"
      ],
      "execution_count": null,
      "outputs": []
    },
    {
      "cell_type": "code",
      "metadata": {
        "colab": {
          "base_uri": "https://localhost:8080/"
        },
        "id": "vRY0wte-31T_",
        "outputId": "f9238f7c-8251-4de2-c665-575ca35b2de7"
      },
      "source": [
        "!head -n10 second_model.csv"
      ],
      "execution_count": null,
      "outputs": [
        {
          "output_type": "stream",
          "text": [
            "PassengerId,Survived\n",
            "892,0\n",
            "893,0\n",
            "894,1\n",
            "895,1\n",
            "896,0\n",
            "897,0\n",
            "898,0\n",
            "899,0\n",
            "900,1\n"
          ],
          "name": "stdout"
        }
      ]
    },
    {
      "cell_type": "markdown",
      "metadata": {
        "id": "lmKR4bme5Mu9"
      },
      "source": [
        "\n",
        "\n",
        "\n",
        "* Below we can see the score of this second model that was submitted in the Kaggle.\n",
        "\n",
        "<p align=\"center\">\n",
        "  <img src=\"https://drive.google.com/uc?id=1wb1HwpSwQUH-hmIQteCTS7AAOQEabGpB\" >\n",
        "</p>\n",
        "\n",
        "* As it can be seen in the image above, the score improved to 0.74641, but is still lower than the file gender_submission (0.76555). \n",
        " \n",
        "* It seems be seen that with just the numerical variables the model doesn't work very well. \n",
        "\n"
      ]
    },
    {
      "cell_type": "markdown",
      "metadata": {
        "id": "4XMBEOMPCFkN"
      },
      "source": [
        "# Part 5: Building the last model of Machine Learning.\n",
        "---"
      ]
    },
    {
      "cell_type": "markdown",
      "metadata": {
        "id": "0nMkfr6HCJ2z"
      },
      "source": [
        "> * In this part of the project, we can see some important pieces of information about the dataset. These pieces of information can improve our model of Machine Learning.\n",
        "> * This is the most important part of a data science project.\n",
        "> * Here it is possible to recognize a data scientist's knowleged of the problem."
      ]
    },
    {
      "cell_type": "code",
      "metadata": {
        "colab": {
          "base_uri": "https://localhost:8080/"
        },
        "id": "nUlhtCtvDfSM",
        "outputId": "974ffa67-98e4-434b-bbd1-1d7b2f19d380"
      },
      "source": [
        "import pandas as pd\n",
        "import numpy as np\n",
        "%matplotlib inline\n",
        "%pylab inline\n",
        "from sklearn.model_selection import RepeatedKFold\n",
        "from sklearn.ensemble import RandomForestClassifier"
      ],
      "execution_count": null,
      "outputs": [
        {
          "output_type": "stream",
          "text": [
            "Populating the interactive namespace from numpy and matplotlib\n"
          ],
          "name": "stdout"
        },
        {
          "output_type": "stream",
          "text": [
            "/usr/local/lib/python3.7/dist-packages/IPython/core/magics/pylab.py:161: UserWarning: pylab import has clobbered these variables: ['test']\n",
            "`%matplotlib` prevents importing * from pylab and numpy\n",
            "  \"\\n`%matplotlib` prevents importing * from pylab and numpy\"\n"
          ],
          "name": "stderr"
        }
      ]
    },
    {
      "cell_type": "code",
      "metadata": {
        "id": "Va0dBS21uq1l"
      },
      "source": [
        "train['Sex_binary'] = train['Sex'].map(transform_sex)\n",
        "test['Sex_binary'] = test['Sex'].map(transform_sex)\n"
      ],
      "execution_count": null,
      "outputs": []
    },
    {
      "cell_type": "code",
      "metadata": {
        "colab": {
          "base_uri": "https://localhost:8080/",
          "height": 204
        },
        "id": "jUupa-Mjtp8T",
        "outputId": "4219d575-7d75-450a-b465-1c9339a4270c"
      },
      "source": [
        "test.head()"
      ],
      "execution_count": null,
      "outputs": [
        {
          "output_type": "execute_result",
          "data": {
            "text/html": [
              "<div>\n",
              "<style scoped>\n",
              "    .dataframe tbody tr th:only-of-type {\n",
              "        vertical-align: middle;\n",
              "    }\n",
              "\n",
              "    .dataframe tbody tr th {\n",
              "        vertical-align: top;\n",
              "    }\n",
              "\n",
              "    .dataframe thead th {\n",
              "        text-align: right;\n",
              "    }\n",
              "</style>\n",
              "<table border=\"1\" class=\"dataframe\">\n",
              "  <thead>\n",
              "    <tr style=\"text-align: right;\">\n",
              "      <th></th>\n",
              "      <th>PassengerId</th>\n",
              "      <th>Pclass</th>\n",
              "      <th>Name</th>\n",
              "      <th>Sex</th>\n",
              "      <th>Age</th>\n",
              "      <th>SibSp</th>\n",
              "      <th>Parch</th>\n",
              "      <th>Ticket</th>\n",
              "      <th>Fare</th>\n",
              "      <th>Cabin</th>\n",
              "      <th>Embarked</th>\n",
              "      <th>Sex_binary</th>\n",
              "    </tr>\n",
              "  </thead>\n",
              "  <tbody>\n",
              "    <tr>\n",
              "      <th>0</th>\n",
              "      <td>892</td>\n",
              "      <td>3</td>\n",
              "      <td>Kelly, Mr. James</td>\n",
              "      <td>male</td>\n",
              "      <td>34.5</td>\n",
              "      <td>0</td>\n",
              "      <td>0</td>\n",
              "      <td>330911</td>\n",
              "      <td>7.8292</td>\n",
              "      <td>NaN</td>\n",
              "      <td>Q</td>\n",
              "      <td>0</td>\n",
              "    </tr>\n",
              "    <tr>\n",
              "      <th>1</th>\n",
              "      <td>893</td>\n",
              "      <td>3</td>\n",
              "      <td>Wilkes, Mrs. James (Ellen Needs)</td>\n",
              "      <td>female</td>\n",
              "      <td>47.0</td>\n",
              "      <td>1</td>\n",
              "      <td>0</td>\n",
              "      <td>363272</td>\n",
              "      <td>7.0000</td>\n",
              "      <td>NaN</td>\n",
              "      <td>S</td>\n",
              "      <td>1</td>\n",
              "    </tr>\n",
              "    <tr>\n",
              "      <th>2</th>\n",
              "      <td>894</td>\n",
              "      <td>2</td>\n",
              "      <td>Myles, Mr. Thomas Francis</td>\n",
              "      <td>male</td>\n",
              "      <td>62.0</td>\n",
              "      <td>0</td>\n",
              "      <td>0</td>\n",
              "      <td>240276</td>\n",
              "      <td>9.6875</td>\n",
              "      <td>NaN</td>\n",
              "      <td>Q</td>\n",
              "      <td>0</td>\n",
              "    </tr>\n",
              "    <tr>\n",
              "      <th>3</th>\n",
              "      <td>895</td>\n",
              "      <td>3</td>\n",
              "      <td>Wirz, Mr. Albert</td>\n",
              "      <td>male</td>\n",
              "      <td>27.0</td>\n",
              "      <td>0</td>\n",
              "      <td>0</td>\n",
              "      <td>315154</td>\n",
              "      <td>8.6625</td>\n",
              "      <td>NaN</td>\n",
              "      <td>S</td>\n",
              "      <td>0</td>\n",
              "    </tr>\n",
              "    <tr>\n",
              "      <th>4</th>\n",
              "      <td>896</td>\n",
              "      <td>3</td>\n",
              "      <td>Hirvonen, Mrs. Alexander (Helga E Lindqvist)</td>\n",
              "      <td>female</td>\n",
              "      <td>22.0</td>\n",
              "      <td>1</td>\n",
              "      <td>1</td>\n",
              "      <td>3101298</td>\n",
              "      <td>12.2875</td>\n",
              "      <td>NaN</td>\n",
              "      <td>S</td>\n",
              "      <td>1</td>\n",
              "    </tr>\n",
              "  </tbody>\n",
              "</table>\n",
              "</div>"
            ],
            "text/plain": [
              "   PassengerId  Pclass  ... Embarked Sex_binary\n",
              "0          892       3  ...        Q          0\n",
              "1          893       3  ...        S          1\n",
              "2          894       2  ...        Q          0\n",
              "3          895       3  ...        S          0\n",
              "4          896       3  ...        S          1\n",
              "\n",
              "[5 rows x 12 columns]"
            ]
          },
          "metadata": {
            "tags": []
          },
          "execution_count": 10
        }
      ]
    },
    {
      "cell_type": "markdown",
      "metadata": {
        "id": "PhrrOnANERUo"
      },
      "source": [
        "## Error analysis\n",
        "\n",
        "> * We need to take a set of the data and see the evaluation. An attempt is made to see where the model is getting wrong in order to find possible pattenrs."
      ]
    },
    {
      "cell_type": "code",
      "metadata": {
        "colab": {
          "base_uri": "https://localhost:8080/"
        },
        "id": "aA-BBPWuFVTq",
        "outputId": "d270b99c-2e2a-4e27-95d7-b96c1626c1c9"
      },
      "source": [
        "results = []\n",
        "kf = RepeatedKFold(n_splits = 2, n_repeats = 10, random_state= 10)\n",
        "\n",
        "\n",
        "for lines_train, lines_valid in kf.split(X):\n",
        "  print('Train:', lines_train.shape[0])\n",
        "  print('Validation:', lines_valid.shape[0])\n",
        "  \n",
        "\n",
        "  X_train, X_valid = X.iloc[lines_train], X.iloc[lines_valid]\n",
        "  y_train, y_valid = y.iloc[lines_train], y.iloc[lines_valid]\n",
        "\n",
        "  model = RandomForestClassifier(n_estimators=100, n_jobs= -1, random_state= 0)\n",
        "  model.fit(X_train,y_train)\n",
        "\n",
        "  p = model.predict(X_valid)\n",
        "  \n",
        "  acc = np.mean(y_valid == p)\n",
        "  results.append(acc)\n",
        "  print(f'Accuracy: {acc}')\n",
        "  print()"
      ],
      "execution_count": null,
      "outputs": [
        {
          "output_type": "stream",
          "text": [
            "Train: 445\n",
            "Validation: 446\n",
            "Accuracy: 0.7690582959641256\n",
            "\n",
            "Train: 446\n",
            "Validation: 445\n",
            "Accuracy: 0.7910112359550562\n",
            "\n",
            "Train: 445\n",
            "Validation: 446\n",
            "Accuracy: 0.8228699551569507\n",
            "\n",
            "Train: 446\n",
            "Validation: 445\n",
            "Accuracy: 0.8\n",
            "\n",
            "Train: 445\n",
            "Validation: 446\n",
            "Accuracy: 0.7982062780269058\n",
            "\n",
            "Train: 446\n",
            "Validation: 445\n",
            "Accuracy: 0.802247191011236\n",
            "\n",
            "Train: 445\n",
            "Validation: 446\n",
            "Accuracy: 0.8071748878923767\n",
            "\n",
            "Train: 446\n",
            "Validation: 445\n",
            "Accuracy: 0.7910112359550562\n",
            "\n",
            "Train: 445\n",
            "Validation: 446\n",
            "Accuracy: 0.8183856502242153\n",
            "\n",
            "Train: 446\n",
            "Validation: 445\n",
            "Accuracy: 0.8112359550561797\n",
            "\n",
            "Train: 445\n",
            "Validation: 446\n",
            "Accuracy: 0.8116591928251121\n",
            "\n",
            "Train: 446\n",
            "Validation: 445\n",
            "Accuracy: 0.8067415730337079\n",
            "\n",
            "Train: 445\n",
            "Validation: 446\n",
            "Accuracy: 0.8228699551569507\n",
            "\n",
            "Train: 446\n",
            "Validation: 445\n",
            "Accuracy: 0.8112359550561797\n",
            "\n",
            "Train: 445\n",
            "Validation: 446\n",
            "Accuracy: 0.7825112107623319\n",
            "\n",
            "Train: 446\n",
            "Validation: 445\n",
            "Accuracy: 0.802247191011236\n",
            "\n",
            "Train: 445\n",
            "Validation: 446\n",
            "Accuracy: 0.827354260089686\n",
            "\n",
            "Train: 446\n",
            "Validation: 445\n",
            "Accuracy: 0.8089887640449438\n",
            "\n",
            "Train: 445\n",
            "Validation: 446\n",
            "Accuracy: 0.8071748878923767\n",
            "\n",
            "Train: 446\n",
            "Validation: 445\n",
            "Accuracy: 0.8089887640449438\n",
            "\n"
          ],
          "name": "stdout"
        }
      ]
    },
    {
      "cell_type": "markdown",
      "metadata": {
        "id": "GEh86XNjGKpA"
      },
      "source": [
        "* Take the last set of data. The lines of the train refer to the dataset of validations.\n",
        "*  Put the predictions in a column of this dataframe.\n",
        "* Important information:\n",
        "> .copy() - The copy() method returns a shallow copy of the list.  If you need the original list unchanged when the new list is modified, you can use the copy() metho\n",
        "\n",
        "* We can do this test in a random set of the total dataset."
      ]
    },
    {
      "cell_type": "code",
      "metadata": {
        "colab": {
          "base_uri": "https://localhost:8080/",
          "height": 204
        },
        "id": "RJdJrcwyF0Bk",
        "outputId": "11fae0ed-3b8f-4f40-e380-2d63d5adfaea"
      },
      "source": [
        "X_valid_check = train.iloc[lines_valid].copy()\n",
        "X_valid_check['p'] = p\n",
        "X_valid_check.head()"
      ],
      "execution_count": null,
      "outputs": [
        {
          "output_type": "execute_result",
          "data": {
            "text/html": [
              "<div>\n",
              "<style scoped>\n",
              "    .dataframe tbody tr th:only-of-type {\n",
              "        vertical-align: middle;\n",
              "    }\n",
              "\n",
              "    .dataframe tbody tr th {\n",
              "        vertical-align: top;\n",
              "    }\n",
              "\n",
              "    .dataframe thead th {\n",
              "        text-align: right;\n",
              "    }\n",
              "</style>\n",
              "<table border=\"1\" class=\"dataframe\">\n",
              "  <thead>\n",
              "    <tr style=\"text-align: right;\">\n",
              "      <th></th>\n",
              "      <th>PassengerId</th>\n",
              "      <th>Survived</th>\n",
              "      <th>Pclass</th>\n",
              "      <th>Name</th>\n",
              "      <th>Sex</th>\n",
              "      <th>Age</th>\n",
              "      <th>SibSp</th>\n",
              "      <th>Parch</th>\n",
              "      <th>Ticket</th>\n",
              "      <th>Fare</th>\n",
              "      <th>Cabin</th>\n",
              "      <th>Embarked</th>\n",
              "      <th>Sex_binary</th>\n",
              "      <th>p</th>\n",
              "    </tr>\n",
              "  </thead>\n",
              "  <tbody>\n",
              "    <tr>\n",
              "      <th>0</th>\n",
              "      <td>1</td>\n",
              "      <td>0</td>\n",
              "      <td>3</td>\n",
              "      <td>Braund, Mr. Owen Harris</td>\n",
              "      <td>male</td>\n",
              "      <td>22.0</td>\n",
              "      <td>1</td>\n",
              "      <td>0</td>\n",
              "      <td>A/5 21171</td>\n",
              "      <td>7.2500</td>\n",
              "      <td>NaN</td>\n",
              "      <td>S</td>\n",
              "      <td>0</td>\n",
              "      <td>0</td>\n",
              "    </tr>\n",
              "    <tr>\n",
              "      <th>1</th>\n",
              "      <td>2</td>\n",
              "      <td>1</td>\n",
              "      <td>1</td>\n",
              "      <td>Cumings, Mrs. John Bradley (Florence Briggs Th...</td>\n",
              "      <td>female</td>\n",
              "      <td>38.0</td>\n",
              "      <td>1</td>\n",
              "      <td>0</td>\n",
              "      <td>PC 17599</td>\n",
              "      <td>71.2833</td>\n",
              "      <td>C85</td>\n",
              "      <td>C</td>\n",
              "      <td>1</td>\n",
              "      <td>1</td>\n",
              "    </tr>\n",
              "    <tr>\n",
              "      <th>2</th>\n",
              "      <td>3</td>\n",
              "      <td>1</td>\n",
              "      <td>3</td>\n",
              "      <td>Heikkinen, Miss. Laina</td>\n",
              "      <td>female</td>\n",
              "      <td>26.0</td>\n",
              "      <td>0</td>\n",
              "      <td>0</td>\n",
              "      <td>STON/O2. 3101282</td>\n",
              "      <td>7.9250</td>\n",
              "      <td>NaN</td>\n",
              "      <td>S</td>\n",
              "      <td>1</td>\n",
              "      <td>0</td>\n",
              "    </tr>\n",
              "    <tr>\n",
              "      <th>3</th>\n",
              "      <td>4</td>\n",
              "      <td>1</td>\n",
              "      <td>1</td>\n",
              "      <td>Futrelle, Mrs. Jacques Heath (Lily May Peel)</td>\n",
              "      <td>female</td>\n",
              "      <td>35.0</td>\n",
              "      <td>1</td>\n",
              "      <td>0</td>\n",
              "      <td>113803</td>\n",
              "      <td>53.1000</td>\n",
              "      <td>C123</td>\n",
              "      <td>S</td>\n",
              "      <td>1</td>\n",
              "      <td>1</td>\n",
              "    </tr>\n",
              "    <tr>\n",
              "      <th>4</th>\n",
              "      <td>5</td>\n",
              "      <td>0</td>\n",
              "      <td>3</td>\n",
              "      <td>Allen, Mr. William Henry</td>\n",
              "      <td>male</td>\n",
              "      <td>35.0</td>\n",
              "      <td>0</td>\n",
              "      <td>0</td>\n",
              "      <td>373450</td>\n",
              "      <td>8.0500</td>\n",
              "      <td>NaN</td>\n",
              "      <td>S</td>\n",
              "      <td>0</td>\n",
              "      <td>0</td>\n",
              "    </tr>\n",
              "  </tbody>\n",
              "</table>\n",
              "</div>"
            ],
            "text/plain": [
              "   PassengerId  Survived  Pclass  ... Embarked Sex_binary  p\n",
              "0            1         0       3  ...        S          0  0\n",
              "1            2         1       1  ...        C          1  1\n",
              "2            3         1       3  ...        S          1  0\n",
              "3            4         1       1  ...        S          1  1\n",
              "4            5         0       3  ...        S          0  0\n",
              "\n",
              "[5 rows x 14 columns]"
            ]
          },
          "metadata": {
            "tags": []
          },
          "execution_count": 10
        }
      ]
    },
    {
      "cell_type": "code",
      "metadata": {
        "colab": {
          "base_uri": "https://localhost:8080/"
        },
        "id": "vAxL_wzSH20x",
        "outputId": "813920da-66d6-4371-ef05-b47a70772a6a"
      },
      "source": [
        "X_valid_check.shape"
      ],
      "execution_count": null,
      "outputs": [
        {
          "output_type": "execute_result",
          "data": {
            "text/plain": [
              "(445, 14)"
            ]
          },
          "metadata": {
            "tags": []
          },
          "execution_count": 23
        }
      ]
    },
    {
      "cell_type": "markdown",
      "metadata": {
        "id": "sn-m5RZbIW-y"
      },
      "source": [
        "* Creating a dataframe with all wrong predictions.\n",
        "* Columns 'p' and 'Survived' are side by side to analysis easier.\n",
        "* We can see an isolated group in try to take some insights into the wrong classification."
      ]
    },
    {
      "cell_type": "code",
      "metadata": {
        "colab": {
          "base_uri": "https://localhost:8080/",
          "height": 204
        },
        "id": "DipvZu3mIUpV",
        "outputId": "eb96c8b6-2aa0-4724-db43-6783f8296656"
      },
      "source": [
        "errors = X_valid_check[X_valid_check['Survived'] != X_valid_check['p']]\n",
        "errors = errors[['PassengerId','Pclass','Name','Sex','Age','SibSp',\n",
        "                 'Parch','Ticket','Fare','Cabin','Embarked','Sex_binary','p','Survived']]\n",
        "errors.head()"
      ],
      "execution_count": null,
      "outputs": [
        {
          "output_type": "execute_result",
          "data": {
            "text/html": [
              "<div>\n",
              "<style scoped>\n",
              "    .dataframe tbody tr th:only-of-type {\n",
              "        vertical-align: middle;\n",
              "    }\n",
              "\n",
              "    .dataframe tbody tr th {\n",
              "        vertical-align: top;\n",
              "    }\n",
              "\n",
              "    .dataframe thead th {\n",
              "        text-align: right;\n",
              "    }\n",
              "</style>\n",
              "<table border=\"1\" class=\"dataframe\">\n",
              "  <thead>\n",
              "    <tr style=\"text-align: right;\">\n",
              "      <th></th>\n",
              "      <th>PassengerId</th>\n",
              "      <th>Pclass</th>\n",
              "      <th>Name</th>\n",
              "      <th>Sex</th>\n",
              "      <th>Age</th>\n",
              "      <th>SibSp</th>\n",
              "      <th>Parch</th>\n",
              "      <th>Ticket</th>\n",
              "      <th>Fare</th>\n",
              "      <th>Cabin</th>\n",
              "      <th>Embarked</th>\n",
              "      <th>Sex_binary</th>\n",
              "      <th>p</th>\n",
              "      <th>Survived</th>\n",
              "    </tr>\n",
              "  </thead>\n",
              "  <tbody>\n",
              "    <tr>\n",
              "      <th>2</th>\n",
              "      <td>3</td>\n",
              "      <td>3</td>\n",
              "      <td>Heikkinen, Miss. Laina</td>\n",
              "      <td>female</td>\n",
              "      <td>26.0</td>\n",
              "      <td>0</td>\n",
              "      <td>0</td>\n",
              "      <td>STON/O2. 3101282</td>\n",
              "      <td>7.9250</td>\n",
              "      <td>NaN</td>\n",
              "      <td>S</td>\n",
              "      <td>1</td>\n",
              "      <td>0</td>\n",
              "      <td>1</td>\n",
              "    </tr>\n",
              "    <tr>\n",
              "      <th>21</th>\n",
              "      <td>22</td>\n",
              "      <td>2</td>\n",
              "      <td>Beesley, Mr. Lawrence</td>\n",
              "      <td>male</td>\n",
              "      <td>34.0</td>\n",
              "      <td>0</td>\n",
              "      <td>0</td>\n",
              "      <td>248698</td>\n",
              "      <td>13.0000</td>\n",
              "      <td>D56</td>\n",
              "      <td>S</td>\n",
              "      <td>0</td>\n",
              "      <td>0</td>\n",
              "      <td>1</td>\n",
              "    </tr>\n",
              "    <tr>\n",
              "      <th>22</th>\n",
              "      <td>23</td>\n",
              "      <td>3</td>\n",
              "      <td>McGowan, Miss. Anna \"Annie\"</td>\n",
              "      <td>female</td>\n",
              "      <td>15.0</td>\n",
              "      <td>0</td>\n",
              "      <td>0</td>\n",
              "      <td>330923</td>\n",
              "      <td>8.0292</td>\n",
              "      <td>NaN</td>\n",
              "      <td>Q</td>\n",
              "      <td>1</td>\n",
              "      <td>0</td>\n",
              "      <td>1</td>\n",
              "    </tr>\n",
              "    <tr>\n",
              "      <th>23</th>\n",
              "      <td>24</td>\n",
              "      <td>1</td>\n",
              "      <td>Sloper, Mr. William Thompson</td>\n",
              "      <td>male</td>\n",
              "      <td>28.0</td>\n",
              "      <td>0</td>\n",
              "      <td>0</td>\n",
              "      <td>113788</td>\n",
              "      <td>35.5000</td>\n",
              "      <td>A6</td>\n",
              "      <td>S</td>\n",
              "      <td>0</td>\n",
              "      <td>0</td>\n",
              "      <td>1</td>\n",
              "    </tr>\n",
              "    <tr>\n",
              "      <th>25</th>\n",
              "      <td>26</td>\n",
              "      <td>3</td>\n",
              "      <td>Asplund, Mrs. Carl Oscar (Selma Augusta Emilia...</td>\n",
              "      <td>female</td>\n",
              "      <td>38.0</td>\n",
              "      <td>1</td>\n",
              "      <td>5</td>\n",
              "      <td>347077</td>\n",
              "      <td>31.3875</td>\n",
              "      <td>NaN</td>\n",
              "      <td>S</td>\n",
              "      <td>1</td>\n",
              "      <td>0</td>\n",
              "      <td>1</td>\n",
              "    </tr>\n",
              "  </tbody>\n",
              "</table>\n",
              "</div>"
            ],
            "text/plain": [
              "    PassengerId  Pclass  ...  p Survived\n",
              "2             3       3  ...  0        1\n",
              "21           22       2  ...  0        1\n",
              "22           23       3  ...  0        1\n",
              "23           24       1  ...  0        1\n",
              "25           26       3  ...  0        1\n",
              "\n",
              "[5 rows x 14 columns]"
            ]
          },
          "metadata": {
            "tags": []
          },
          "execution_count": 11
        }
      ]
    },
    {
      "cell_type": "markdown",
      "metadata": {
        "id": "ayCSUYfLK7Ui"
      },
      "source": [
        "* Until now is known that all the women survived. So, let's divide between the men and women in diffent groups."
      ]
    },
    {
      "cell_type": "code",
      "metadata": {
        "id": "yC-FKlIyLZz5"
      },
      "source": [
        "women = errors[errors['Sex'] == 'female']\n",
        "men = errors[errors['Sex'] == 'male']"
      ],
      "execution_count": null,
      "outputs": []
    },
    {
      "cell_type": "markdown",
      "metadata": {
        "id": "PfOHzxr_MkR1"
      },
      "source": [
        "* Sort by the values along the \"Survived\" axis.\n",
        "* It is possible to assess the miss values in the Cabin.\n",
        "* Column 'Ticket' has numbers and letters. Due to this, it is better to check the necessity of this column to create the model.\n",
        "* Column 'Embarked' wasn't seen before too.\n",
        ">  In this part any no idea is bad. All of them are useful if can be used to predict."
      ]
    },
    {
      "cell_type": "code",
      "metadata": {
        "colab": {
          "base_uri": "https://localhost:8080/",
          "height": 1000
        },
        "id": "6DX4tThOMTAr",
        "outputId": "84aac8a8-4f25-4871-c9ad-a562d66fdce8"
      },
      "source": [
        "women.sort_values(\"Survived\")"
      ],
      "execution_count": null,
      "outputs": [
        {
          "output_type": "execute_result",
          "data": {
            "text/html": [
              "<div>\n",
              "<style scoped>\n",
              "    .dataframe tbody tr th:only-of-type {\n",
              "        vertical-align: middle;\n",
              "    }\n",
              "\n",
              "    .dataframe tbody tr th {\n",
              "        vertical-align: top;\n",
              "    }\n",
              "\n",
              "    .dataframe thead th {\n",
              "        text-align: right;\n",
              "    }\n",
              "</style>\n",
              "<table border=\"1\" class=\"dataframe\">\n",
              "  <thead>\n",
              "    <tr style=\"text-align: right;\">\n",
              "      <th></th>\n",
              "      <th>PassengerId</th>\n",
              "      <th>Pclass</th>\n",
              "      <th>Name</th>\n",
              "      <th>Sex</th>\n",
              "      <th>Age</th>\n",
              "      <th>SibSp</th>\n",
              "      <th>Parch</th>\n",
              "      <th>Ticket</th>\n",
              "      <th>Fare</th>\n",
              "      <th>Cabin</th>\n",
              "      <th>Embarked</th>\n",
              "      <th>Sex_binary</th>\n",
              "      <th>p</th>\n",
              "      <th>Survived</th>\n",
              "    </tr>\n",
              "  </thead>\n",
              "  <tbody>\n",
              "    <tr>\n",
              "      <th>888</th>\n",
              "      <td>889</td>\n",
              "      <td>3</td>\n",
              "      <td>Johnston, Miss. Catherine Helen \"Carrie\"</td>\n",
              "      <td>female</td>\n",
              "      <td>NaN</td>\n",
              "      <td>1</td>\n",
              "      <td>2</td>\n",
              "      <td>W./C. 6607</td>\n",
              "      <td>23.4500</td>\n",
              "      <td>NaN</td>\n",
              "      <td>S</td>\n",
              "      <td>1</td>\n",
              "      <td>1</td>\n",
              "      <td>0</td>\n",
              "    </tr>\n",
              "    <tr>\n",
              "      <th>501</th>\n",
              "      <td>502</td>\n",
              "      <td>3</td>\n",
              "      <td>Canavan, Miss. Mary</td>\n",
              "      <td>female</td>\n",
              "      <td>21.0</td>\n",
              "      <td>0</td>\n",
              "      <td>0</td>\n",
              "      <td>364846</td>\n",
              "      <td>7.7500</td>\n",
              "      <td>NaN</td>\n",
              "      <td>Q</td>\n",
              "      <td>1</td>\n",
              "      <td>1</td>\n",
              "      <td>0</td>\n",
              "    </tr>\n",
              "    <tr>\n",
              "      <th>498</th>\n",
              "      <td>499</td>\n",
              "      <td>1</td>\n",
              "      <td>Allison, Mrs. Hudson J C (Bessie Waldo Daniels)</td>\n",
              "      <td>female</td>\n",
              "      <td>25.0</td>\n",
              "      <td>1</td>\n",
              "      <td>2</td>\n",
              "      <td>113781</td>\n",
              "      <td>151.5500</td>\n",
              "      <td>C22 C26</td>\n",
              "      <td>S</td>\n",
              "      <td>1</td>\n",
              "      <td>1</td>\n",
              "      <td>0</td>\n",
              "    </tr>\n",
              "    <tr>\n",
              "      <th>882</th>\n",
              "      <td>883</td>\n",
              "      <td>3</td>\n",
              "      <td>Dahlberg, Miss. Gerda Ulrika</td>\n",
              "      <td>female</td>\n",
              "      <td>22.0</td>\n",
              "      <td>0</td>\n",
              "      <td>0</td>\n",
              "      <td>7552</td>\n",
              "      <td>10.5167</td>\n",
              "      <td>NaN</td>\n",
              "      <td>S</td>\n",
              "      <td>1</td>\n",
              "      <td>1</td>\n",
              "      <td>0</td>\n",
              "    </tr>\n",
              "    <tr>\n",
              "      <th>474</th>\n",
              "      <td>475</td>\n",
              "      <td>3</td>\n",
              "      <td>Strandberg, Miss. Ida Sofia</td>\n",
              "      <td>female</td>\n",
              "      <td>22.0</td>\n",
              "      <td>0</td>\n",
              "      <td>0</td>\n",
              "      <td>7553</td>\n",
              "      <td>9.8375</td>\n",
              "      <td>NaN</td>\n",
              "      <td>S</td>\n",
              "      <td>1</td>\n",
              "      <td>1</td>\n",
              "      <td>0</td>\n",
              "    </tr>\n",
              "    <tr>\n",
              "      <th>419</th>\n",
              "      <td>420</td>\n",
              "      <td>3</td>\n",
              "      <td>Van Impe, Miss. Catharina</td>\n",
              "      <td>female</td>\n",
              "      <td>10.0</td>\n",
              "      <td>0</td>\n",
              "      <td>2</td>\n",
              "      <td>345773</td>\n",
              "      <td>24.1500</td>\n",
              "      <td>NaN</td>\n",
              "      <td>S</td>\n",
              "      <td>1</td>\n",
              "      <td>1</td>\n",
              "      <td>0</td>\n",
              "    </tr>\n",
              "    <tr>\n",
              "      <th>357</th>\n",
              "      <td>358</td>\n",
              "      <td>2</td>\n",
              "      <td>Funk, Miss. Annie Clemmer</td>\n",
              "      <td>female</td>\n",
              "      <td>38.0</td>\n",
              "      <td>0</td>\n",
              "      <td>0</td>\n",
              "      <td>237671</td>\n",
              "      <td>13.0000</td>\n",
              "      <td>NaN</td>\n",
              "      <td>S</td>\n",
              "      <td>1</td>\n",
              "      <td>1</td>\n",
              "      <td>0</td>\n",
              "    </tr>\n",
              "    <tr>\n",
              "      <th>254</th>\n",
              "      <td>255</td>\n",
              "      <td>3</td>\n",
              "      <td>Rosblom, Mrs. Viktor (Helena Wilhelmina)</td>\n",
              "      <td>female</td>\n",
              "      <td>41.0</td>\n",
              "      <td>0</td>\n",
              "      <td>2</td>\n",
              "      <td>370129</td>\n",
              "      <td>20.2125</td>\n",
              "      <td>NaN</td>\n",
              "      <td>S</td>\n",
              "      <td>1</td>\n",
              "      <td>1</td>\n",
              "      <td>0</td>\n",
              "    </tr>\n",
              "    <tr>\n",
              "      <th>503</th>\n",
              "      <td>504</td>\n",
              "      <td>3</td>\n",
              "      <td>Laitinen, Miss. Kristina Sofia</td>\n",
              "      <td>female</td>\n",
              "      <td>37.0</td>\n",
              "      <td>0</td>\n",
              "      <td>0</td>\n",
              "      <td>4135</td>\n",
              "      <td>9.5875</td>\n",
              "      <td>NaN</td>\n",
              "      <td>S</td>\n",
              "      <td>1</td>\n",
              "      <td>1</td>\n",
              "      <td>0</td>\n",
              "    </tr>\n",
              "    <tr>\n",
              "      <th>654</th>\n",
              "      <td>655</td>\n",
              "      <td>3</td>\n",
              "      <td>Hegarty, Miss. Hanora \"Nora\"</td>\n",
              "      <td>female</td>\n",
              "      <td>18.0</td>\n",
              "      <td>0</td>\n",
              "      <td>0</td>\n",
              "      <td>365226</td>\n",
              "      <td>6.7500</td>\n",
              "      <td>NaN</td>\n",
              "      <td>Q</td>\n",
              "      <td>1</td>\n",
              "      <td>1</td>\n",
              "      <td>0</td>\n",
              "    </tr>\n",
              "    <tr>\n",
              "      <th>772</th>\n",
              "      <td>773</td>\n",
              "      <td>2</td>\n",
              "      <td>Mack, Mrs. (Mary)</td>\n",
              "      <td>female</td>\n",
              "      <td>57.0</td>\n",
              "      <td>0</td>\n",
              "      <td>0</td>\n",
              "      <td>S.O./P.P. 3</td>\n",
              "      <td>10.5000</td>\n",
              "      <td>E77</td>\n",
              "      <td>S</td>\n",
              "      <td>1</td>\n",
              "      <td>1</td>\n",
              "      <td>0</td>\n",
              "    </tr>\n",
              "    <tr>\n",
              "      <th>177</th>\n",
              "      <td>178</td>\n",
              "      <td>1</td>\n",
              "      <td>Isham, Miss. Ann Elizabeth</td>\n",
              "      <td>female</td>\n",
              "      <td>50.0</td>\n",
              "      <td>0</td>\n",
              "      <td>0</td>\n",
              "      <td>PC 17595</td>\n",
              "      <td>28.7125</td>\n",
              "      <td>C49</td>\n",
              "      <td>C</td>\n",
              "      <td>1</td>\n",
              "      <td>1</td>\n",
              "      <td>0</td>\n",
              "    </tr>\n",
              "    <tr>\n",
              "      <th>852</th>\n",
              "      <td>853</td>\n",
              "      <td>3</td>\n",
              "      <td>Boulos, Miss. Nourelain</td>\n",
              "      <td>female</td>\n",
              "      <td>9.0</td>\n",
              "      <td>1</td>\n",
              "      <td>1</td>\n",
              "      <td>2678</td>\n",
              "      <td>15.2458</td>\n",
              "      <td>NaN</td>\n",
              "      <td>C</td>\n",
              "      <td>1</td>\n",
              "      <td>1</td>\n",
              "      <td>0</td>\n",
              "    </tr>\n",
              "    <tr>\n",
              "      <th>854</th>\n",
              "      <td>855</td>\n",
              "      <td>2</td>\n",
              "      <td>Carter, Mrs. Ernest Courtenay (Lilian Hughes)</td>\n",
              "      <td>female</td>\n",
              "      <td>44.0</td>\n",
              "      <td>1</td>\n",
              "      <td>0</td>\n",
              "      <td>244252</td>\n",
              "      <td>26.0000</td>\n",
              "      <td>NaN</td>\n",
              "      <td>S</td>\n",
              "      <td>1</td>\n",
              "      <td>1</td>\n",
              "      <td>0</td>\n",
              "    </tr>\n",
              "    <tr>\n",
              "      <th>593</th>\n",
              "      <td>594</td>\n",
              "      <td>3</td>\n",
              "      <td>Bourke, Miss. Mary</td>\n",
              "      <td>female</td>\n",
              "      <td>NaN</td>\n",
              "      <td>0</td>\n",
              "      <td>2</td>\n",
              "      <td>364848</td>\n",
              "      <td>7.7500</td>\n",
              "      <td>NaN</td>\n",
              "      <td>Q</td>\n",
              "      <td>1</td>\n",
              "      <td>1</td>\n",
              "      <td>0</td>\n",
              "    </tr>\n",
              "    <tr>\n",
              "      <th>830</th>\n",
              "      <td>831</td>\n",
              "      <td>3</td>\n",
              "      <td>Yasbeck, Mrs. Antoni (Selini Alexander)</td>\n",
              "      <td>female</td>\n",
              "      <td>15.0</td>\n",
              "      <td>1</td>\n",
              "      <td>0</td>\n",
              "      <td>2659</td>\n",
              "      <td>14.4542</td>\n",
              "      <td>NaN</td>\n",
              "      <td>C</td>\n",
              "      <td>1</td>\n",
              "      <td>0</td>\n",
              "      <td>1</td>\n",
              "    </tr>\n",
              "    <tr>\n",
              "      <th>855</th>\n",
              "      <td>856</td>\n",
              "      <td>3</td>\n",
              "      <td>Aks, Mrs. Sam (Leah Rosen)</td>\n",
              "      <td>female</td>\n",
              "      <td>18.0</td>\n",
              "      <td>0</td>\n",
              "      <td>1</td>\n",
              "      <td>392091</td>\n",
              "      <td>9.3500</td>\n",
              "      <td>NaN</td>\n",
              "      <td>S</td>\n",
              "      <td>1</td>\n",
              "      <td>0</td>\n",
              "      <td>1</td>\n",
              "    </tr>\n",
              "    <tr>\n",
              "      <th>866</th>\n",
              "      <td>867</td>\n",
              "      <td>2</td>\n",
              "      <td>Duran y More, Miss. Asuncion</td>\n",
              "      <td>female</td>\n",
              "      <td>27.0</td>\n",
              "      <td>1</td>\n",
              "      <td>0</td>\n",
              "      <td>SC/PARIS 2149</td>\n",
              "      <td>13.8583</td>\n",
              "      <td>NaN</td>\n",
              "      <td>C</td>\n",
              "      <td>1</td>\n",
              "      <td>0</td>\n",
              "      <td>1</td>\n",
              "    </tr>\n",
              "    <tr>\n",
              "      <th>677</th>\n",
              "      <td>678</td>\n",
              "      <td>3</td>\n",
              "      <td>Turja, Miss. Anna Sofia</td>\n",
              "      <td>female</td>\n",
              "      <td>18.0</td>\n",
              "      <td>0</td>\n",
              "      <td>0</td>\n",
              "      <td>4138</td>\n",
              "      <td>9.8417</td>\n",
              "      <td>NaN</td>\n",
              "      <td>S</td>\n",
              "      <td>1</td>\n",
              "      <td>0</td>\n",
              "      <td>1</td>\n",
              "    </tr>\n",
              "    <tr>\n",
              "      <th>2</th>\n",
              "      <td>3</td>\n",
              "      <td>3</td>\n",
              "      <td>Heikkinen, Miss. Laina</td>\n",
              "      <td>female</td>\n",
              "      <td>26.0</td>\n",
              "      <td>0</td>\n",
              "      <td>0</td>\n",
              "      <td>STON/O2. 3101282</td>\n",
              "      <td>7.9250</td>\n",
              "      <td>NaN</td>\n",
              "      <td>S</td>\n",
              "      <td>1</td>\n",
              "      <td>0</td>\n",
              "      <td>1</td>\n",
              "    </tr>\n",
              "    <tr>\n",
              "      <th>216</th>\n",
              "      <td>217</td>\n",
              "      <td>3</td>\n",
              "      <td>Honkanen, Miss. Eliina</td>\n",
              "      <td>female</td>\n",
              "      <td>27.0</td>\n",
              "      <td>0</td>\n",
              "      <td>0</td>\n",
              "      <td>STON/O2. 3101283</td>\n",
              "      <td>7.9250</td>\n",
              "      <td>NaN</td>\n",
              "      <td>S</td>\n",
              "      <td>1</td>\n",
              "      <td>0</td>\n",
              "      <td>1</td>\n",
              "    </tr>\n",
              "    <tr>\n",
              "      <th>192</th>\n",
              "      <td>193</td>\n",
              "      <td>3</td>\n",
              "      <td>Andersen-Jensen, Miss. Carla Christine Nielsine</td>\n",
              "      <td>female</td>\n",
              "      <td>19.0</td>\n",
              "      <td>1</td>\n",
              "      <td>0</td>\n",
              "      <td>350046</td>\n",
              "      <td>7.8542</td>\n",
              "      <td>NaN</td>\n",
              "      <td>S</td>\n",
              "      <td>1</td>\n",
              "      <td>0</td>\n",
              "      <td>1</td>\n",
              "    </tr>\n",
              "    <tr>\n",
              "      <th>142</th>\n",
              "      <td>143</td>\n",
              "      <td>3</td>\n",
              "      <td>Hakkarainen, Mrs. Pekka Pietari (Elin Matilda ...</td>\n",
              "      <td>female</td>\n",
              "      <td>24.0</td>\n",
              "      <td>1</td>\n",
              "      <td>0</td>\n",
              "      <td>STON/O2. 3101279</td>\n",
              "      <td>15.8500</td>\n",
              "      <td>NaN</td>\n",
              "      <td>S</td>\n",
              "      <td>1</td>\n",
              "      <td>0</td>\n",
              "      <td>1</td>\n",
              "    </tr>\n",
              "    <tr>\n",
              "      <th>85</th>\n",
              "      <td>86</td>\n",
              "      <td>3</td>\n",
              "      <td>Backstrom, Mrs. Karl Alfred (Maria Mathilda Gu...</td>\n",
              "      <td>female</td>\n",
              "      <td>33.0</td>\n",
              "      <td>3</td>\n",
              "      <td>0</td>\n",
              "      <td>3101278</td>\n",
              "      <td>15.8500</td>\n",
              "      <td>NaN</td>\n",
              "      <td>S</td>\n",
              "      <td>1</td>\n",
              "      <td>0</td>\n",
              "      <td>1</td>\n",
              "    </tr>\n",
              "    <tr>\n",
              "      <th>44</th>\n",
              "      <td>45</td>\n",
              "      <td>3</td>\n",
              "      <td>Devaney, Miss. Margaret Delia</td>\n",
              "      <td>female</td>\n",
              "      <td>19.0</td>\n",
              "      <td>0</td>\n",
              "      <td>0</td>\n",
              "      <td>330958</td>\n",
              "      <td>7.8792</td>\n",
              "      <td>NaN</td>\n",
              "      <td>Q</td>\n",
              "      <td>1</td>\n",
              "      <td>0</td>\n",
              "      <td>1</td>\n",
              "    </tr>\n",
              "    <tr>\n",
              "      <th>25</th>\n",
              "      <td>26</td>\n",
              "      <td>3</td>\n",
              "      <td>Asplund, Mrs. Carl Oscar (Selma Augusta Emilia...</td>\n",
              "      <td>female</td>\n",
              "      <td>38.0</td>\n",
              "      <td>1</td>\n",
              "      <td>5</td>\n",
              "      <td>347077</td>\n",
              "      <td>31.3875</td>\n",
              "      <td>NaN</td>\n",
              "      <td>S</td>\n",
              "      <td>1</td>\n",
              "      <td>0</td>\n",
              "      <td>1</td>\n",
              "    </tr>\n",
              "    <tr>\n",
              "      <th>22</th>\n",
              "      <td>23</td>\n",
              "      <td>3</td>\n",
              "      <td>McGowan, Miss. Anna \"Annie\"</td>\n",
              "      <td>female</td>\n",
              "      <td>15.0</td>\n",
              "      <td>0</td>\n",
              "      <td>0</td>\n",
              "      <td>330923</td>\n",
              "      <td>8.0292</td>\n",
              "      <td>NaN</td>\n",
              "      <td>Q</td>\n",
              "      <td>1</td>\n",
              "      <td>0</td>\n",
              "      <td>1</td>\n",
              "    </tr>\n",
              "    <tr>\n",
              "      <th>233</th>\n",
              "      <td>234</td>\n",
              "      <td>3</td>\n",
              "      <td>Asplund, Miss. Lillian Gertrud</td>\n",
              "      <td>female</td>\n",
              "      <td>5.0</td>\n",
              "      <td>4</td>\n",
              "      <td>2</td>\n",
              "      <td>347077</td>\n",
              "      <td>31.3875</td>\n",
              "      <td>NaN</td>\n",
              "      <td>S</td>\n",
              "      <td>1</td>\n",
              "      <td>0</td>\n",
              "      <td>1</td>\n",
              "    </tr>\n",
              "    <tr>\n",
              "      <th>479</th>\n",
              "      <td>480</td>\n",
              "      <td>3</td>\n",
              "      <td>Hirvonen, Miss. Hildur E</td>\n",
              "      <td>female</td>\n",
              "      <td>2.0</td>\n",
              "      <td>0</td>\n",
              "      <td>1</td>\n",
              "      <td>3101298</td>\n",
              "      <td>12.2875</td>\n",
              "      <td>NaN</td>\n",
              "      <td>S</td>\n",
              "      <td>1</td>\n",
              "      <td>0</td>\n",
              "      <td>1</td>\n",
              "    </tr>\n",
              "  </tbody>\n",
              "</table>\n",
              "</div>"
            ],
            "text/plain": [
              "     PassengerId  Pclass  ...  p Survived\n",
              "888          889       3  ...  1        0\n",
              "501          502       3  ...  1        0\n",
              "498          499       1  ...  1        0\n",
              "882          883       3  ...  1        0\n",
              "474          475       3  ...  1        0\n",
              "419          420       3  ...  1        0\n",
              "357          358       2  ...  1        0\n",
              "254          255       3  ...  1        0\n",
              "503          504       3  ...  1        0\n",
              "654          655       3  ...  1        0\n",
              "772          773       2  ...  1        0\n",
              "177          178       1  ...  1        0\n",
              "852          853       3  ...  1        0\n",
              "854          855       2  ...  1        0\n",
              "593          594       3  ...  1        0\n",
              "830          831       3  ...  0        1\n",
              "855          856       3  ...  0        1\n",
              "866          867       2  ...  0        1\n",
              "677          678       3  ...  0        1\n",
              "2              3       3  ...  0        1\n",
              "216          217       3  ...  0        1\n",
              "192          193       3  ...  0        1\n",
              "142          143       3  ...  0        1\n",
              "85            86       3  ...  0        1\n",
              "44            45       3  ...  0        1\n",
              "25            26       3  ...  0        1\n",
              "22            23       3  ...  0        1\n",
              "233          234       3  ...  0        1\n",
              "479          480       3  ...  0        1\n",
              "\n",
              "[29 rows x 14 columns]"
            ]
          },
          "metadata": {
            "tags": []
          },
          "execution_count": 28
        }
      ]
    },
    {
      "cell_type": "code",
      "metadata": {
        "colab": {
          "base_uri": "https://localhost:8080/",
          "height": 1000
        },
        "id": "NvHi-udhP0bE",
        "outputId": "ec0b4ea9-9e75-4f03-814a-cfc712705a8a"
      },
      "source": [
        "men.sort_values(\"Survived\")"
      ],
      "execution_count": null,
      "outputs": [
        {
          "output_type": "execute_result",
          "data": {
            "text/html": [
              "<div>\n",
              "<style scoped>\n",
              "    .dataframe tbody tr th:only-of-type {\n",
              "        vertical-align: middle;\n",
              "    }\n",
              "\n",
              "    .dataframe tbody tr th {\n",
              "        vertical-align: top;\n",
              "    }\n",
              "\n",
              "    .dataframe thead th {\n",
              "        text-align: right;\n",
              "    }\n",
              "</style>\n",
              "<table border=\"1\" class=\"dataframe\">\n",
              "  <thead>\n",
              "    <tr style=\"text-align: right;\">\n",
              "      <th></th>\n",
              "      <th>PassengerId</th>\n",
              "      <th>Pclass</th>\n",
              "      <th>Name</th>\n",
              "      <th>Sex</th>\n",
              "      <th>Age</th>\n",
              "      <th>SibSp</th>\n",
              "      <th>Parch</th>\n",
              "      <th>Ticket</th>\n",
              "      <th>Fare</th>\n",
              "      <th>Cabin</th>\n",
              "      <th>Embarked</th>\n",
              "      <th>Sex_binary</th>\n",
              "      <th>p</th>\n",
              "      <th>Survived</th>\n",
              "    </tr>\n",
              "  </thead>\n",
              "  <tbody>\n",
              "    <tr>\n",
              "      <th>238</th>\n",
              "      <td>239</td>\n",
              "      <td>2</td>\n",
              "      <td>Pengelly, Mr. Frederick William</td>\n",
              "      <td>male</td>\n",
              "      <td>19.00</td>\n",
              "      <td>0</td>\n",
              "      <td>0</td>\n",
              "      <td>28665</td>\n",
              "      <td>10.5000</td>\n",
              "      <td>NaN</td>\n",
              "      <td>S</td>\n",
              "      <td>0</td>\n",
              "      <td>1</td>\n",
              "      <td>0</td>\n",
              "    </tr>\n",
              "    <tr>\n",
              "      <th>442</th>\n",
              "      <td>443</td>\n",
              "      <td>3</td>\n",
              "      <td>Petterson, Mr. Johan Emil</td>\n",
              "      <td>male</td>\n",
              "      <td>25.00</td>\n",
              "      <td>1</td>\n",
              "      <td>0</td>\n",
              "      <td>347076</td>\n",
              "      <td>7.7750</td>\n",
              "      <td>NaN</td>\n",
              "      <td>S</td>\n",
              "      <td>0</td>\n",
              "      <td>1</td>\n",
              "      <td>0</td>\n",
              "    </tr>\n",
              "    <tr>\n",
              "      <th>422</th>\n",
              "      <td>423</td>\n",
              "      <td>3</td>\n",
              "      <td>Zimmerman, Mr. Leo</td>\n",
              "      <td>male</td>\n",
              "      <td>29.00</td>\n",
              "      <td>0</td>\n",
              "      <td>0</td>\n",
              "      <td>315082</td>\n",
              "      <td>7.8750</td>\n",
              "      <td>NaN</td>\n",
              "      <td>S</td>\n",
              "      <td>0</td>\n",
              "      <td>1</td>\n",
              "      <td>0</td>\n",
              "    </tr>\n",
              "    <tr>\n",
              "      <th>373</th>\n",
              "      <td>374</td>\n",
              "      <td>1</td>\n",
              "      <td>Ringhini, Mr. Sante</td>\n",
              "      <td>male</td>\n",
              "      <td>22.00</td>\n",
              "      <td>0</td>\n",
              "      <td>0</td>\n",
              "      <td>PC 17760</td>\n",
              "      <td>135.6333</td>\n",
              "      <td>NaN</td>\n",
              "      <td>C</td>\n",
              "      <td>0</td>\n",
              "      <td>1</td>\n",
              "      <td>0</td>\n",
              "    </tr>\n",
              "    <tr>\n",
              "      <th>371</th>\n",
              "      <td>372</td>\n",
              "      <td>3</td>\n",
              "      <td>Wiklund, Mr. Jakob Alfred</td>\n",
              "      <td>male</td>\n",
              "      <td>18.00</td>\n",
              "      <td>1</td>\n",
              "      <td>0</td>\n",
              "      <td>3101267</td>\n",
              "      <td>6.4958</td>\n",
              "      <td>NaN</td>\n",
              "      <td>S</td>\n",
              "      <td>0</td>\n",
              "      <td>1</td>\n",
              "      <td>0</td>\n",
              "    </tr>\n",
              "    <tr>\n",
              "      <th>698</th>\n",
              "      <td>699</td>\n",
              "      <td>1</td>\n",
              "      <td>Thayer, Mr. John Borland</td>\n",
              "      <td>male</td>\n",
              "      <td>49.00</td>\n",
              "      <td>1</td>\n",
              "      <td>1</td>\n",
              "      <td>17421</td>\n",
              "      <td>110.8833</td>\n",
              "      <td>C68</td>\n",
              "      <td>C</td>\n",
              "      <td>0</td>\n",
              "      <td>1</td>\n",
              "      <td>0</td>\n",
              "    </tr>\n",
              "    <tr>\n",
              "      <th>262</th>\n",
              "      <td>263</td>\n",
              "      <td>1</td>\n",
              "      <td>Taussig, Mr. Emil</td>\n",
              "      <td>male</td>\n",
              "      <td>52.00</td>\n",
              "      <td>1</td>\n",
              "      <td>1</td>\n",
              "      <td>110413</td>\n",
              "      <td>79.6500</td>\n",
              "      <td>E67</td>\n",
              "      <td>S</td>\n",
              "      <td>0</td>\n",
              "      <td>1</td>\n",
              "      <td>0</td>\n",
              "    </tr>\n",
              "    <tr>\n",
              "      <th>231</th>\n",
              "      <td>232</td>\n",
              "      <td>3</td>\n",
              "      <td>Larsson, Mr. Bengt Edvin</td>\n",
              "      <td>male</td>\n",
              "      <td>29.00</td>\n",
              "      <td>0</td>\n",
              "      <td>0</td>\n",
              "      <td>347067</td>\n",
              "      <td>7.7750</td>\n",
              "      <td>NaN</td>\n",
              "      <td>S</td>\n",
              "      <td>0</td>\n",
              "      <td>1</td>\n",
              "      <td>0</td>\n",
              "    </tr>\n",
              "    <tr>\n",
              "      <th>214</th>\n",
              "      <td>215</td>\n",
              "      <td>3</td>\n",
              "      <td>Kiernan, Mr. Philip</td>\n",
              "      <td>male</td>\n",
              "      <td>NaN</td>\n",
              "      <td>1</td>\n",
              "      <td>0</td>\n",
              "      <td>367229</td>\n",
              "      <td>7.7500</td>\n",
              "      <td>NaN</td>\n",
              "      <td>Q</td>\n",
              "      <td>0</td>\n",
              "      <td>1</td>\n",
              "      <td>0</td>\n",
              "    </tr>\n",
              "    <tr>\n",
              "      <th>721</th>\n",
              "      <td>722</td>\n",
              "      <td>3</td>\n",
              "      <td>Jensen, Mr. Svend Lauritz</td>\n",
              "      <td>male</td>\n",
              "      <td>17.00</td>\n",
              "      <td>1</td>\n",
              "      <td>0</td>\n",
              "      <td>350048</td>\n",
              "      <td>7.0542</td>\n",
              "      <td>NaN</td>\n",
              "      <td>S</td>\n",
              "      <td>0</td>\n",
              "      <td>1</td>\n",
              "      <td>0</td>\n",
              "    </tr>\n",
              "    <tr>\n",
              "      <th>169</th>\n",
              "      <td>170</td>\n",
              "      <td>3</td>\n",
              "      <td>Ling, Mr. Lee</td>\n",
              "      <td>male</td>\n",
              "      <td>28.00</td>\n",
              "      <td>0</td>\n",
              "      <td>0</td>\n",
              "      <td>1601</td>\n",
              "      <td>56.4958</td>\n",
              "      <td>NaN</td>\n",
              "      <td>S</td>\n",
              "      <td>0</td>\n",
              "      <td>1</td>\n",
              "      <td>0</td>\n",
              "    </tr>\n",
              "    <tr>\n",
              "      <th>544</th>\n",
              "      <td>545</td>\n",
              "      <td>1</td>\n",
              "      <td>Douglas, Mr. Walter Donald</td>\n",
              "      <td>male</td>\n",
              "      <td>50.00</td>\n",
              "      <td>1</td>\n",
              "      <td>0</td>\n",
              "      <td>PC 17761</td>\n",
              "      <td>106.4250</td>\n",
              "      <td>C86</td>\n",
              "      <td>C</td>\n",
              "      <td>0</td>\n",
              "      <td>1</td>\n",
              "      <td>0</td>\n",
              "    </tr>\n",
              "    <tr>\n",
              "      <th>783</th>\n",
              "      <td>784</td>\n",
              "      <td>3</td>\n",
              "      <td>Johnston, Mr. Andrew G</td>\n",
              "      <td>male</td>\n",
              "      <td>NaN</td>\n",
              "      <td>1</td>\n",
              "      <td>2</td>\n",
              "      <td>W./C. 6607</td>\n",
              "      <td>23.4500</td>\n",
              "      <td>NaN</td>\n",
              "      <td>S</td>\n",
              "      <td>0</td>\n",
              "      <td>1</td>\n",
              "      <td>0</td>\n",
              "    </tr>\n",
              "    <tr>\n",
              "      <th>139</th>\n",
              "      <td>140</td>\n",
              "      <td>1</td>\n",
              "      <td>Giglio, Mr. Victor</td>\n",
              "      <td>male</td>\n",
              "      <td>24.00</td>\n",
              "      <td>0</td>\n",
              "      <td>0</td>\n",
              "      <td>PC 17593</td>\n",
              "      <td>79.2000</td>\n",
              "      <td>B86</td>\n",
              "      <td>C</td>\n",
              "      <td>0</td>\n",
              "      <td>1</td>\n",
              "      <td>0</td>\n",
              "    </tr>\n",
              "    <tr>\n",
              "      <th>122</th>\n",
              "      <td>123</td>\n",
              "      <td>2</td>\n",
              "      <td>Nasser, Mr. Nicholas</td>\n",
              "      <td>male</td>\n",
              "      <td>32.50</td>\n",
              "      <td>1</td>\n",
              "      <td>0</td>\n",
              "      <td>237736</td>\n",
              "      <td>30.0708</td>\n",
              "      <td>NaN</td>\n",
              "      <td>C</td>\n",
              "      <td>0</td>\n",
              "      <td>1</td>\n",
              "      <td>0</td>\n",
              "    </tr>\n",
              "    <tr>\n",
              "      <th>118</th>\n",
              "      <td>119</td>\n",
              "      <td>1</td>\n",
              "      <td>Baxter, Mr. Quigg Edmond</td>\n",
              "      <td>male</td>\n",
              "      <td>24.00</td>\n",
              "      <td>0</td>\n",
              "      <td>1</td>\n",
              "      <td>PC 17558</td>\n",
              "      <td>247.5208</td>\n",
              "      <td>B58 B60</td>\n",
              "      <td>C</td>\n",
              "      <td>0</td>\n",
              "      <td>1</td>\n",
              "      <td>0</td>\n",
              "    </tr>\n",
              "    <tr>\n",
              "      <th>102</th>\n",
              "      <td>103</td>\n",
              "      <td>1</td>\n",
              "      <td>White, Mr. Richard Frasar</td>\n",
              "      <td>male</td>\n",
              "      <td>21.00</td>\n",
              "      <td>0</td>\n",
              "      <td>1</td>\n",
              "      <td>35281</td>\n",
              "      <td>77.2875</td>\n",
              "      <td>D26</td>\n",
              "      <td>S</td>\n",
              "      <td>0</td>\n",
              "      <td>1</td>\n",
              "      <td>0</td>\n",
              "    </tr>\n",
              "    <tr>\n",
              "      <th>48</th>\n",
              "      <td>49</td>\n",
              "      <td>3</td>\n",
              "      <td>Samaan, Mr. Youssef</td>\n",
              "      <td>male</td>\n",
              "      <td>NaN</td>\n",
              "      <td>2</td>\n",
              "      <td>0</td>\n",
              "      <td>2662</td>\n",
              "      <td>21.6792</td>\n",
              "      <td>NaN</td>\n",
              "      <td>C</td>\n",
              "      <td>0</td>\n",
              "      <td>1</td>\n",
              "      <td>0</td>\n",
              "    </tr>\n",
              "    <tr>\n",
              "      <th>27</th>\n",
              "      <td>28</td>\n",
              "      <td>1</td>\n",
              "      <td>Fortune, Mr. Charles Alexander</td>\n",
              "      <td>male</td>\n",
              "      <td>19.00</td>\n",
              "      <td>3</td>\n",
              "      <td>2</td>\n",
              "      <td>19950</td>\n",
              "      <td>263.0000</td>\n",
              "      <td>C23 C25 C27</td>\n",
              "      <td>S</td>\n",
              "      <td>0</td>\n",
              "      <td>1</td>\n",
              "      <td>0</td>\n",
              "    </tr>\n",
              "    <tr>\n",
              "      <th>34</th>\n",
              "      <td>35</td>\n",
              "      <td>1</td>\n",
              "      <td>Meyer, Mr. Edgar Joseph</td>\n",
              "      <td>male</td>\n",
              "      <td>28.00</td>\n",
              "      <td>1</td>\n",
              "      <td>0</td>\n",
              "      <td>PC 17604</td>\n",
              "      <td>82.1708</td>\n",
              "      <td>NaN</td>\n",
              "      <td>C</td>\n",
              "      <td>0</td>\n",
              "      <td>1</td>\n",
              "      <td>0</td>\n",
              "    </tr>\n",
              "    <tr>\n",
              "      <th>579</th>\n",
              "      <td>580</td>\n",
              "      <td>3</td>\n",
              "      <td>Jussila, Mr. Eiriik</td>\n",
              "      <td>male</td>\n",
              "      <td>32.00</td>\n",
              "      <td>0</td>\n",
              "      <td>0</td>\n",
              "      <td>STON/O 2. 3101286</td>\n",
              "      <td>7.9250</td>\n",
              "      <td>NaN</td>\n",
              "      <td>S</td>\n",
              "      <td>0</td>\n",
              "      <td>0</td>\n",
              "      <td>1</td>\n",
              "    </tr>\n",
              "    <tr>\n",
              "      <th>621</th>\n",
              "      <td>622</td>\n",
              "      <td>1</td>\n",
              "      <td>Kimball, Mr. Edwin Nelson Jr</td>\n",
              "      <td>male</td>\n",
              "      <td>42.00</td>\n",
              "      <td>1</td>\n",
              "      <td>0</td>\n",
              "      <td>11753</td>\n",
              "      <td>52.5542</td>\n",
              "      <td>D19</td>\n",
              "      <td>S</td>\n",
              "      <td>0</td>\n",
              "      <td>0</td>\n",
              "      <td>1</td>\n",
              "    </tr>\n",
              "    <tr>\n",
              "      <th>803</th>\n",
              "      <td>804</td>\n",
              "      <td>3</td>\n",
              "      <td>Thomas, Master. Assad Alexander</td>\n",
              "      <td>male</td>\n",
              "      <td>0.42</td>\n",
              "      <td>0</td>\n",
              "      <td>1</td>\n",
              "      <td>2625</td>\n",
              "      <td>8.5167</td>\n",
              "      <td>NaN</td>\n",
              "      <td>C</td>\n",
              "      <td>0</td>\n",
              "      <td>0</td>\n",
              "      <td>1</td>\n",
              "    </tr>\n",
              "    <tr>\n",
              "      <th>622</th>\n",
              "      <td>623</td>\n",
              "      <td>3</td>\n",
              "      <td>Nakid, Mr. Sahid</td>\n",
              "      <td>male</td>\n",
              "      <td>20.00</td>\n",
              "      <td>1</td>\n",
              "      <td>1</td>\n",
              "      <td>2653</td>\n",
              "      <td>15.7417</td>\n",
              "      <td>NaN</td>\n",
              "      <td>C</td>\n",
              "      <td>0</td>\n",
              "      <td>0</td>\n",
              "      <td>1</td>\n",
              "    </tr>\n",
              "    <tr>\n",
              "      <th>630</th>\n",
              "      <td>631</td>\n",
              "      <td>1</td>\n",
              "      <td>Barkworth, Mr. Algernon Henry Wilson</td>\n",
              "      <td>male</td>\n",
              "      <td>80.00</td>\n",
              "      <td>0</td>\n",
              "      <td>0</td>\n",
              "      <td>27042</td>\n",
              "      <td>30.0000</td>\n",
              "      <td>A23</td>\n",
              "      <td>S</td>\n",
              "      <td>0</td>\n",
              "      <td>0</td>\n",
              "      <td>1</td>\n",
              "    </tr>\n",
              "    <tr>\n",
              "      <th>643</th>\n",
              "      <td>644</td>\n",
              "      <td>3</td>\n",
              "      <td>Foo, Mr. Choong</td>\n",
              "      <td>male</td>\n",
              "      <td>NaN</td>\n",
              "      <td>0</td>\n",
              "      <td>0</td>\n",
              "      <td>1601</td>\n",
              "      <td>56.4958</td>\n",
              "      <td>NaN</td>\n",
              "      <td>S</td>\n",
              "      <td>0</td>\n",
              "      <td>0</td>\n",
              "      <td>1</td>\n",
              "    </tr>\n",
              "    <tr>\n",
              "      <th>744</th>\n",
              "      <td>745</td>\n",
              "      <td>3</td>\n",
              "      <td>Stranden, Mr. Juho</td>\n",
              "      <td>male</td>\n",
              "      <td>31.00</td>\n",
              "      <td>0</td>\n",
              "      <td>0</td>\n",
              "      <td>STON/O 2. 3101288</td>\n",
              "      <td>7.9250</td>\n",
              "      <td>NaN</td>\n",
              "      <td>S</td>\n",
              "      <td>0</td>\n",
              "      <td>0</td>\n",
              "      <td>1</td>\n",
              "    </tr>\n",
              "    <tr>\n",
              "      <th>751</th>\n",
              "      <td>752</td>\n",
              "      <td>3</td>\n",
              "      <td>Moor, Master. Meier</td>\n",
              "      <td>male</td>\n",
              "      <td>6.00</td>\n",
              "      <td>0</td>\n",
              "      <td>1</td>\n",
              "      <td>392096</td>\n",
              "      <td>12.4750</td>\n",
              "      <td>E121</td>\n",
              "      <td>S</td>\n",
              "      <td>0</td>\n",
              "      <td>0</td>\n",
              "      <td>1</td>\n",
              "    </tr>\n",
              "    <tr>\n",
              "      <th>673</th>\n",
              "      <td>674</td>\n",
              "      <td>2</td>\n",
              "      <td>Wilhelms, Mr. Charles</td>\n",
              "      <td>male</td>\n",
              "      <td>31.00</td>\n",
              "      <td>0</td>\n",
              "      <td>0</td>\n",
              "      <td>244270</td>\n",
              "      <td>13.0000</td>\n",
              "      <td>NaN</td>\n",
              "      <td>S</td>\n",
              "      <td>0</td>\n",
              "      <td>0</td>\n",
              "      <td>1</td>\n",
              "    </tr>\n",
              "    <tr>\n",
              "      <th>690</th>\n",
              "      <td>691</td>\n",
              "      <td>1</td>\n",
              "      <td>Dick, Mr. Albert Adrian</td>\n",
              "      <td>male</td>\n",
              "      <td>31.00</td>\n",
              "      <td>1</td>\n",
              "      <td>0</td>\n",
              "      <td>17474</td>\n",
              "      <td>57.0000</td>\n",
              "      <td>B20</td>\n",
              "      <td>S</td>\n",
              "      <td>0</td>\n",
              "      <td>0</td>\n",
              "      <td>1</td>\n",
              "    </tr>\n",
              "    <tr>\n",
              "      <th>762</th>\n",
              "      <td>763</td>\n",
              "      <td>3</td>\n",
              "      <td>Barah, Mr. Hanna Assi</td>\n",
              "      <td>male</td>\n",
              "      <td>20.00</td>\n",
              "      <td>0</td>\n",
              "      <td>0</td>\n",
              "      <td>2663</td>\n",
              "      <td>7.2292</td>\n",
              "      <td>NaN</td>\n",
              "      <td>C</td>\n",
              "      <td>0</td>\n",
              "      <td>0</td>\n",
              "      <td>1</td>\n",
              "    </tr>\n",
              "    <tr>\n",
              "      <th>707</th>\n",
              "      <td>708</td>\n",
              "      <td>1</td>\n",
              "      <td>Calderhead, Mr. Edward Pennington</td>\n",
              "      <td>male</td>\n",
              "      <td>42.00</td>\n",
              "      <td>0</td>\n",
              "      <td>0</td>\n",
              "      <td>PC 17476</td>\n",
              "      <td>26.2875</td>\n",
              "      <td>E24</td>\n",
              "      <td>S</td>\n",
              "      <td>0</td>\n",
              "      <td>0</td>\n",
              "      <td>1</td>\n",
              "    </tr>\n",
              "    <tr>\n",
              "      <th>569</th>\n",
              "      <td>570</td>\n",
              "      <td>3</td>\n",
              "      <td>Jonsson, Mr. Carl</td>\n",
              "      <td>male</td>\n",
              "      <td>32.00</td>\n",
              "      <td>0</td>\n",
              "      <td>0</td>\n",
              "      <td>350417</td>\n",
              "      <td>7.8542</td>\n",
              "      <td>NaN</td>\n",
              "      <td>S</td>\n",
              "      <td>0</td>\n",
              "      <td>0</td>\n",
              "      <td>1</td>\n",
              "    </tr>\n",
              "    <tr>\n",
              "      <th>647</th>\n",
              "      <td>648</td>\n",
              "      <td>1</td>\n",
              "      <td>Simonius-Blumer, Col. Oberst Alfons</td>\n",
              "      <td>male</td>\n",
              "      <td>56.00</td>\n",
              "      <td>0</td>\n",
              "      <td>0</td>\n",
              "      <td>13213</td>\n",
              "      <td>35.5000</td>\n",
              "      <td>A26</td>\n",
              "      <td>C</td>\n",
              "      <td>0</td>\n",
              "      <td>0</td>\n",
              "      <td>1</td>\n",
              "    </tr>\n",
              "    <tr>\n",
              "      <th>21</th>\n",
              "      <td>22</td>\n",
              "      <td>2</td>\n",
              "      <td>Beesley, Mr. Lawrence</td>\n",
              "      <td>male</td>\n",
              "      <td>34.00</td>\n",
              "      <td>0</td>\n",
              "      <td>0</td>\n",
              "      <td>248698</td>\n",
              "      <td>13.0000</td>\n",
              "      <td>D56</td>\n",
              "      <td>S</td>\n",
              "      <td>0</td>\n",
              "      <td>0</td>\n",
              "      <td>1</td>\n",
              "    </tr>\n",
              "    <tr>\n",
              "      <th>414</th>\n",
              "      <td>415</td>\n",
              "      <td>3</td>\n",
              "      <td>Sundman, Mr. Johan Julian</td>\n",
              "      <td>male</td>\n",
              "      <td>44.00</td>\n",
              "      <td>0</td>\n",
              "      <td>0</td>\n",
              "      <td>STON/O 2. 3101269</td>\n",
              "      <td>7.9250</td>\n",
              "      <td>NaN</td>\n",
              "      <td>S</td>\n",
              "      <td>0</td>\n",
              "      <td>0</td>\n",
              "      <td>1</td>\n",
              "    </tr>\n",
              "    <tr>\n",
              "      <th>489</th>\n",
              "      <td>490</td>\n",
              "      <td>3</td>\n",
              "      <td>Coutts, Master. Eden Leslie \"Neville\"</td>\n",
              "      <td>male</td>\n",
              "      <td>9.00</td>\n",
              "      <td>1</td>\n",
              "      <td>1</td>\n",
              "      <td>C.A. 37671</td>\n",
              "      <td>15.9000</td>\n",
              "      <td>NaN</td>\n",
              "      <td>S</td>\n",
              "      <td>0</td>\n",
              "      <td>0</td>\n",
              "      <td>1</td>\n",
              "    </tr>\n",
              "    <tr>\n",
              "      <th>23</th>\n",
              "      <td>24</td>\n",
              "      <td>1</td>\n",
              "      <td>Sloper, Mr. William Thompson</td>\n",
              "      <td>male</td>\n",
              "      <td>28.00</td>\n",
              "      <td>0</td>\n",
              "      <td>0</td>\n",
              "      <td>113788</td>\n",
              "      <td>35.5000</td>\n",
              "      <td>A6</td>\n",
              "      <td>S</td>\n",
              "      <td>0</td>\n",
              "      <td>0</td>\n",
              "      <td>1</td>\n",
              "    </tr>\n",
              "    <tr>\n",
              "      <th>36</th>\n",
              "      <td>37</td>\n",
              "      <td>3</td>\n",
              "      <td>Mamee, Mr. Hanna</td>\n",
              "      <td>male</td>\n",
              "      <td>NaN</td>\n",
              "      <td>0</td>\n",
              "      <td>0</td>\n",
              "      <td>2677</td>\n",
              "      <td>7.2292</td>\n",
              "      <td>NaN</td>\n",
              "      <td>C</td>\n",
              "      <td>0</td>\n",
              "      <td>0</td>\n",
              "      <td>1</td>\n",
              "    </tr>\n",
              "    <tr>\n",
              "      <th>55</th>\n",
              "      <td>56</td>\n",
              "      <td>1</td>\n",
              "      <td>Woolner, Mr. Hugh</td>\n",
              "      <td>male</td>\n",
              "      <td>NaN</td>\n",
              "      <td>0</td>\n",
              "      <td>0</td>\n",
              "      <td>19947</td>\n",
              "      <td>35.5000</td>\n",
              "      <td>C52</td>\n",
              "      <td>S</td>\n",
              "      <td>0</td>\n",
              "      <td>0</td>\n",
              "      <td>1</td>\n",
              "    </tr>\n",
              "    <tr>\n",
              "      <th>146</th>\n",
              "      <td>147</td>\n",
              "      <td>3</td>\n",
              "      <td>Andersson, Mr. August Edvard (\"Wennerstrom\")</td>\n",
              "      <td>male</td>\n",
              "      <td>27.00</td>\n",
              "      <td>0</td>\n",
              "      <td>0</td>\n",
              "      <td>350043</td>\n",
              "      <td>7.7958</td>\n",
              "      <td>NaN</td>\n",
              "      <td>S</td>\n",
              "      <td>0</td>\n",
              "      <td>0</td>\n",
              "      <td>1</td>\n",
              "    </tr>\n",
              "    <tr>\n",
              "      <th>165</th>\n",
              "      <td>166</td>\n",
              "      <td>3</td>\n",
              "      <td>Goldsmith, Master. Frank John William \"Frankie\"</td>\n",
              "      <td>male</td>\n",
              "      <td>9.00</td>\n",
              "      <td>0</td>\n",
              "      <td>2</td>\n",
              "      <td>363291</td>\n",
              "      <td>20.5250</td>\n",
              "      <td>NaN</td>\n",
              "      <td>S</td>\n",
              "      <td>0</td>\n",
              "      <td>0</td>\n",
              "      <td>1</td>\n",
              "    </tr>\n",
              "    <tr>\n",
              "      <th>187</th>\n",
              "      <td>188</td>\n",
              "      <td>1</td>\n",
              "      <td>Romaine, Mr. Charles Hallace (\"Mr C Rolmane\")</td>\n",
              "      <td>male</td>\n",
              "      <td>45.00</td>\n",
              "      <td>0</td>\n",
              "      <td>0</td>\n",
              "      <td>111428</td>\n",
              "      <td>26.5500</td>\n",
              "      <td>NaN</td>\n",
              "      <td>S</td>\n",
              "      <td>0</td>\n",
              "      <td>0</td>\n",
              "      <td>1</td>\n",
              "    </tr>\n",
              "    <tr>\n",
              "      <th>248</th>\n",
              "      <td>249</td>\n",
              "      <td>1</td>\n",
              "      <td>Beckwith, Mr. Richard Leonard</td>\n",
              "      <td>male</td>\n",
              "      <td>37.00</td>\n",
              "      <td>1</td>\n",
              "      <td>1</td>\n",
              "      <td>11751</td>\n",
              "      <td>52.5542</td>\n",
              "      <td>D35</td>\n",
              "      <td>S</td>\n",
              "      <td>0</td>\n",
              "      <td>0</td>\n",
              "      <td>1</td>\n",
              "    </tr>\n",
              "    <tr>\n",
              "      <th>553</th>\n",
              "      <td>554</td>\n",
              "      <td>3</td>\n",
              "      <td>Leeni, Mr. Fahim (\"Philip Zenni\")</td>\n",
              "      <td>male</td>\n",
              "      <td>22.00</td>\n",
              "      <td>0</td>\n",
              "      <td>0</td>\n",
              "      <td>2620</td>\n",
              "      <td>7.2250</td>\n",
              "      <td>NaN</td>\n",
              "      <td>C</td>\n",
              "      <td>0</td>\n",
              "      <td>0</td>\n",
              "      <td>1</td>\n",
              "    </tr>\n",
              "    <tr>\n",
              "      <th>271</th>\n",
              "      <td>272</td>\n",
              "      <td>3</td>\n",
              "      <td>Tornquist, Mr. William Henry</td>\n",
              "      <td>male</td>\n",
              "      <td>25.00</td>\n",
              "      <td>0</td>\n",
              "      <td>0</td>\n",
              "      <td>LINE</td>\n",
              "      <td>0.0000</td>\n",
              "      <td>NaN</td>\n",
              "      <td>S</td>\n",
              "      <td>0</td>\n",
              "      <td>0</td>\n",
              "      <td>1</td>\n",
              "    </tr>\n",
              "    <tr>\n",
              "      <th>338</th>\n",
              "      <td>339</td>\n",
              "      <td>3</td>\n",
              "      <td>Dahl, Mr. Karl Edwart</td>\n",
              "      <td>male</td>\n",
              "      <td>45.00</td>\n",
              "      <td>0</td>\n",
              "      <td>0</td>\n",
              "      <td>7598</td>\n",
              "      <td>8.0500</td>\n",
              "      <td>NaN</td>\n",
              "      <td>S</td>\n",
              "      <td>0</td>\n",
              "      <td>0</td>\n",
              "      <td>1</td>\n",
              "    </tr>\n",
              "    <tr>\n",
              "      <th>391</th>\n",
              "      <td>392</td>\n",
              "      <td>3</td>\n",
              "      <td>Jansson, Mr. Carl Olof</td>\n",
              "      <td>male</td>\n",
              "      <td>21.00</td>\n",
              "      <td>0</td>\n",
              "      <td>0</td>\n",
              "      <td>350034</td>\n",
              "      <td>7.7958</td>\n",
              "      <td>NaN</td>\n",
              "      <td>S</td>\n",
              "      <td>0</td>\n",
              "      <td>0</td>\n",
              "      <td>1</td>\n",
              "    </tr>\n",
              "    <tr>\n",
              "      <th>400</th>\n",
              "      <td>401</td>\n",
              "      <td>3</td>\n",
              "      <td>Niskanen, Mr. Juha</td>\n",
              "      <td>male</td>\n",
              "      <td>39.00</td>\n",
              "      <td>0</td>\n",
              "      <td>0</td>\n",
              "      <td>STON/O 2. 3101289</td>\n",
              "      <td>7.9250</td>\n",
              "      <td>NaN</td>\n",
              "      <td>S</td>\n",
              "      <td>0</td>\n",
              "      <td>0</td>\n",
              "      <td>1</td>\n",
              "    </tr>\n",
              "    <tr>\n",
              "      <th>804</th>\n",
              "      <td>805</td>\n",
              "      <td>3</td>\n",
              "      <td>Hedman, Mr. Oskar Arvid</td>\n",
              "      <td>male</td>\n",
              "      <td>27.00</td>\n",
              "      <td>0</td>\n",
              "      <td>0</td>\n",
              "      <td>347089</td>\n",
              "      <td>6.9750</td>\n",
              "      <td>NaN</td>\n",
              "      <td>S</td>\n",
              "      <td>0</td>\n",
              "      <td>0</td>\n",
              "      <td>1</td>\n",
              "    </tr>\n",
              "    <tr>\n",
              "      <th>429</th>\n",
              "      <td>430</td>\n",
              "      <td>3</td>\n",
              "      <td>Pickard, Mr. Berk (Berk Trembisky)</td>\n",
              "      <td>male</td>\n",
              "      <td>32.00</td>\n",
              "      <td>0</td>\n",
              "      <td>0</td>\n",
              "      <td>SOTON/O.Q. 392078</td>\n",
              "      <td>8.0500</td>\n",
              "      <td>E10</td>\n",
              "      <td>S</td>\n",
              "      <td>0</td>\n",
              "      <td>0</td>\n",
              "      <td>1</td>\n",
              "    </tr>\n",
              "    <tr>\n",
              "      <th>444</th>\n",
              "      <td>445</td>\n",
              "      <td>3</td>\n",
              "      <td>Johannesen-Bratthammer, Mr. Bernt</td>\n",
              "      <td>male</td>\n",
              "      <td>NaN</td>\n",
              "      <td>0</td>\n",
              "      <td>0</td>\n",
              "      <td>65306</td>\n",
              "      <td>8.1125</td>\n",
              "      <td>NaN</td>\n",
              "      <td>S</td>\n",
              "      <td>0</td>\n",
              "      <td>0</td>\n",
              "      <td>1</td>\n",
              "    </tr>\n",
              "    <tr>\n",
              "      <th>449</th>\n",
              "      <td>450</td>\n",
              "      <td>1</td>\n",
              "      <td>Peuchen, Major. Arthur Godfrey</td>\n",
              "      <td>male</td>\n",
              "      <td>52.00</td>\n",
              "      <td>0</td>\n",
              "      <td>0</td>\n",
              "      <td>113786</td>\n",
              "      <td>30.5000</td>\n",
              "      <td>C104</td>\n",
              "      <td>S</td>\n",
              "      <td>0</td>\n",
              "      <td>0</td>\n",
              "      <td>1</td>\n",
              "    </tr>\n",
              "    <tr>\n",
              "      <th>283</th>\n",
              "      <td>284</td>\n",
              "      <td>3</td>\n",
              "      <td>Dorking, Mr. Edward Arthur</td>\n",
              "      <td>male</td>\n",
              "      <td>19.00</td>\n",
              "      <td>0</td>\n",
              "      <td>0</td>\n",
              "      <td>A/5. 10482</td>\n",
              "      <td>8.0500</td>\n",
              "      <td>NaN</td>\n",
              "      <td>S</td>\n",
              "      <td>0</td>\n",
              "      <td>0</td>\n",
              "      <td>1</td>\n",
              "    </tr>\n",
              "    <tr>\n",
              "      <th>821</th>\n",
              "      <td>822</td>\n",
              "      <td>3</td>\n",
              "      <td>Lulic, Mr. Nikola</td>\n",
              "      <td>male</td>\n",
              "      <td>27.00</td>\n",
              "      <td>0</td>\n",
              "      <td>0</td>\n",
              "      <td>315098</td>\n",
              "      <td>8.6625</td>\n",
              "      <td>NaN</td>\n",
              "      <td>S</td>\n",
              "      <td>0</td>\n",
              "      <td>0</td>\n",
              "      <td>1</td>\n",
              "    </tr>\n",
              "  </tbody>\n",
              "</table>\n",
              "</div>"
            ],
            "text/plain": [
              "     PassengerId  Pclass  ...  p Survived\n",
              "238          239       2  ...  1        0\n",
              "442          443       3  ...  1        0\n",
              "422          423       3  ...  1        0\n",
              "373          374       1  ...  1        0\n",
              "371          372       3  ...  1        0\n",
              "698          699       1  ...  1        0\n",
              "262          263       1  ...  1        0\n",
              "231          232       3  ...  1        0\n",
              "214          215       3  ...  1        0\n",
              "721          722       3  ...  1        0\n",
              "169          170       3  ...  1        0\n",
              "544          545       1  ...  1        0\n",
              "783          784       3  ...  1        0\n",
              "139          140       1  ...  1        0\n",
              "122          123       2  ...  1        0\n",
              "118          119       1  ...  1        0\n",
              "102          103       1  ...  1        0\n",
              "48            49       3  ...  1        0\n",
              "27            28       1  ...  1        0\n",
              "34            35       1  ...  1        0\n",
              "579          580       3  ...  0        1\n",
              "621          622       1  ...  0        1\n",
              "803          804       3  ...  0        1\n",
              "622          623       3  ...  0        1\n",
              "630          631       1  ...  0        1\n",
              "643          644       3  ...  0        1\n",
              "744          745       3  ...  0        1\n",
              "751          752       3  ...  0        1\n",
              "673          674       2  ...  0        1\n",
              "690          691       1  ...  0        1\n",
              "762          763       3  ...  0        1\n",
              "707          708       1  ...  0        1\n",
              "569          570       3  ...  0        1\n",
              "647          648       1  ...  0        1\n",
              "21            22       2  ...  0        1\n",
              "414          415       3  ...  0        1\n",
              "489          490       3  ...  0        1\n",
              "23            24       1  ...  0        1\n",
              "36            37       3  ...  0        1\n",
              "55            56       1  ...  0        1\n",
              "146          147       3  ...  0        1\n",
              "165          166       3  ...  0        1\n",
              "187          188       1  ...  0        1\n",
              "248          249       1  ...  0        1\n",
              "553          554       3  ...  0        1\n",
              "271          272       3  ...  0        1\n",
              "338          339       3  ...  0        1\n",
              "391          392       3  ...  0        1\n",
              "400          401       3  ...  0        1\n",
              "804          805       3  ...  0        1\n",
              "429          430       3  ...  0        1\n",
              "444          445       3  ...  0        1\n",
              "449          450       1  ...  0        1\n",
              "283          284       3  ...  0        1\n",
              "821          822       3  ...  0        1\n",
              "\n",
              "[55 rows x 14 columns]"
            ]
          },
          "metadata": {
            "tags": []
          },
          "execution_count": 29
        }
      ]
    },
    {
      "cell_type": "markdown",
      "metadata": {
        "id": "FO_BWR1VRzId"
      },
      "source": [
        "## New variables"
      ]
    },
    {
      "cell_type": "markdown",
      "metadata": {
        "id": "a6A353z9Rsom"
      },
      "source": [
        ">* Applying some ideas of the exploratory analysis.\n",
        "\n",
        "* This variable ('Q') can be removed, because if it is not some of the two above, it will be this as a consequence.\n",
        "* .astype() - Cast a pandas object to a specified dtype dtype.\n",
        "* .isnull()- return a boolean same-sized object indicating if the values are NA.\n",
        "* Verifying names with some titles as Miss, Major and Mr."
      ]
    },
    {
      "cell_type": "code",
      "metadata": {
        "id": "WVafrrWIRK9J"
      },
      "source": [
        "train['Embarked_S'] = (train['Embarked'] == 'S').astype(int)\n",
        "train['Embarked_C'] = (train['Embarked'] == 'C').astype(int)\n",
        "# train['Embarked_Q'] = (train['Embarked']== 'Q').astype(int)\n",
        "\n",
        "train['Cabin_null'] = train['Cabin'].isnull().astype(int)\n",
        "\n",
        "# Women\n",
        "train['Name_contain_Miss'] = train['Name'].str.contains('Miss').astype(int)\n",
        "train['Name_contain_Mrs'] = train['Name'].str.contains('Mrs').astype(int)\n",
        "\n",
        "# Men\n",
        "train['Name_contain_Master'] = train['Name'].str.contains('Master').astype(int)\n",
        "train['Name_contain_Col'] = train['Name'].str.contains('Col').astype(int)\n",
        "train['Name_contain_Major'] = train['Name'].str.contains('Major').astype(int)\n",
        "train['Name_contain_Mr'] = train['Name'].str.contains('Mr').astype(int)"
      ],
      "execution_count": null,
      "outputs": []
    },
    {
      "cell_type": "code",
      "metadata": {
        "colab": {
          "base_uri": "https://localhost:8080/",
          "height": 496
        },
        "id": "9hjgnwBkt7f7",
        "outputId": "ae948094-a52c-4f8d-e8b0-b34052b66123"
      },
      "source": [
        "train.head()"
      ],
      "execution_count": null,
      "outputs": [
        {
          "output_type": "execute_result",
          "data": {
            "text/html": [
              "<div>\n",
              "<style scoped>\n",
              "    .dataframe tbody tr th:only-of-type {\n",
              "        vertical-align: middle;\n",
              "    }\n",
              "\n",
              "    .dataframe tbody tr th {\n",
              "        vertical-align: top;\n",
              "    }\n",
              "\n",
              "    .dataframe thead th {\n",
              "        text-align: right;\n",
              "    }\n",
              "</style>\n",
              "<table border=\"1\" class=\"dataframe\">\n",
              "  <thead>\n",
              "    <tr style=\"text-align: right;\">\n",
              "      <th></th>\n",
              "      <th>PassengerId</th>\n",
              "      <th>Survived</th>\n",
              "      <th>Pclass</th>\n",
              "      <th>Name</th>\n",
              "      <th>Sex</th>\n",
              "      <th>Age</th>\n",
              "      <th>SibSp</th>\n",
              "      <th>Parch</th>\n",
              "      <th>Ticket</th>\n",
              "      <th>Fare</th>\n",
              "      <th>Cabin</th>\n",
              "      <th>Embarked</th>\n",
              "      <th>Sex_binary</th>\n",
              "      <th>Embarked_S</th>\n",
              "      <th>Embarked_C</th>\n",
              "      <th>Cabin_null</th>\n",
              "      <th>Name_contain_Miss</th>\n",
              "      <th>Name_contain_Mrs</th>\n",
              "      <th>Name_contain_Master</th>\n",
              "      <th>Name_contain_Col</th>\n",
              "      <th>Name_contain_Major</th>\n",
              "      <th>Name_contain_Mr</th>\n",
              "    </tr>\n",
              "  </thead>\n",
              "  <tbody>\n",
              "    <tr>\n",
              "      <th>0</th>\n",
              "      <td>1</td>\n",
              "      <td>0</td>\n",
              "      <td>3</td>\n",
              "      <td>Braund, Mr. Owen Harris</td>\n",
              "      <td>male</td>\n",
              "      <td>22.0</td>\n",
              "      <td>1</td>\n",
              "      <td>0</td>\n",
              "      <td>A/5 21171</td>\n",
              "      <td>7.2500</td>\n",
              "      <td>NaN</td>\n",
              "      <td>S</td>\n",
              "      <td>0</td>\n",
              "      <td>1</td>\n",
              "      <td>0</td>\n",
              "      <td>1</td>\n",
              "      <td>0</td>\n",
              "      <td>0</td>\n",
              "      <td>0</td>\n",
              "      <td>0</td>\n",
              "      <td>0</td>\n",
              "      <td>1</td>\n",
              "    </tr>\n",
              "    <tr>\n",
              "      <th>1</th>\n",
              "      <td>2</td>\n",
              "      <td>1</td>\n",
              "      <td>1</td>\n",
              "      <td>Cumings, Mrs. John Bradley (Florence Briggs Th...</td>\n",
              "      <td>female</td>\n",
              "      <td>38.0</td>\n",
              "      <td>1</td>\n",
              "      <td>0</td>\n",
              "      <td>PC 17599</td>\n",
              "      <td>71.2833</td>\n",
              "      <td>C85</td>\n",
              "      <td>C</td>\n",
              "      <td>1</td>\n",
              "      <td>0</td>\n",
              "      <td>1</td>\n",
              "      <td>0</td>\n",
              "      <td>0</td>\n",
              "      <td>1</td>\n",
              "      <td>0</td>\n",
              "      <td>0</td>\n",
              "      <td>0</td>\n",
              "      <td>1</td>\n",
              "    </tr>\n",
              "    <tr>\n",
              "      <th>2</th>\n",
              "      <td>3</td>\n",
              "      <td>1</td>\n",
              "      <td>3</td>\n",
              "      <td>Heikkinen, Miss. Laina</td>\n",
              "      <td>female</td>\n",
              "      <td>26.0</td>\n",
              "      <td>0</td>\n",
              "      <td>0</td>\n",
              "      <td>STON/O2. 3101282</td>\n",
              "      <td>7.9250</td>\n",
              "      <td>NaN</td>\n",
              "      <td>S</td>\n",
              "      <td>1</td>\n",
              "      <td>1</td>\n",
              "      <td>0</td>\n",
              "      <td>1</td>\n",
              "      <td>1</td>\n",
              "      <td>0</td>\n",
              "      <td>0</td>\n",
              "      <td>0</td>\n",
              "      <td>0</td>\n",
              "      <td>0</td>\n",
              "    </tr>\n",
              "    <tr>\n",
              "      <th>3</th>\n",
              "      <td>4</td>\n",
              "      <td>1</td>\n",
              "      <td>1</td>\n",
              "      <td>Futrelle, Mrs. Jacques Heath (Lily May Peel)</td>\n",
              "      <td>female</td>\n",
              "      <td>35.0</td>\n",
              "      <td>1</td>\n",
              "      <td>0</td>\n",
              "      <td>113803</td>\n",
              "      <td>53.1000</td>\n",
              "      <td>C123</td>\n",
              "      <td>S</td>\n",
              "      <td>1</td>\n",
              "      <td>1</td>\n",
              "      <td>0</td>\n",
              "      <td>0</td>\n",
              "      <td>0</td>\n",
              "      <td>1</td>\n",
              "      <td>0</td>\n",
              "      <td>0</td>\n",
              "      <td>0</td>\n",
              "      <td>1</td>\n",
              "    </tr>\n",
              "    <tr>\n",
              "      <th>4</th>\n",
              "      <td>5</td>\n",
              "      <td>0</td>\n",
              "      <td>3</td>\n",
              "      <td>Allen, Mr. William Henry</td>\n",
              "      <td>male</td>\n",
              "      <td>35.0</td>\n",
              "      <td>0</td>\n",
              "      <td>0</td>\n",
              "      <td>373450</td>\n",
              "      <td>8.0500</td>\n",
              "      <td>NaN</td>\n",
              "      <td>S</td>\n",
              "      <td>0</td>\n",
              "      <td>1</td>\n",
              "      <td>0</td>\n",
              "      <td>1</td>\n",
              "      <td>0</td>\n",
              "      <td>0</td>\n",
              "      <td>0</td>\n",
              "      <td>0</td>\n",
              "      <td>0</td>\n",
              "      <td>1</td>\n",
              "    </tr>\n",
              "  </tbody>\n",
              "</table>\n",
              "</div>"
            ],
            "text/plain": [
              "   PassengerId  Survived  ...  Name_contain_Major Name_contain_Mr\n",
              "0            1         0  ...                   0               1\n",
              "1            2         1  ...                   0               1\n",
              "2            3         1  ...                   0               0\n",
              "3            4         1  ...                   0               1\n",
              "4            5         0  ...                   0               1\n",
              "\n",
              "[5 rows x 22 columns]"
            ]
          },
          "metadata": {
            "tags": []
          },
          "execution_count": 12
        }
      ]
    },
    {
      "cell_type": "code",
      "metadata": {
        "id": "yPkCY5-EklMF"
      },
      "source": [
        "variables = ['Sex_binary', 'Age','Pclass','SibSp', 'Parch','Fare','Embarked_S','Embarked_C','Cabin_null',\n",
        "             'Name_contain_Miss','Name_contain_Mrs',\n",
        "             'Name_contain_Master','Name_contain_Col','Name_contain_Major','Name_contain_Mr']\n",
        "\n",
        "X = train[variables].fillna(-1)\n",
        "y = train['Survived']"
      ],
      "execution_count": null,
      "outputs": []
    },
    {
      "cell_type": "markdown",
      "metadata": {
        "id": "IMrbw_MttpnK"
      },
      "source": [
        "* Testing Logistic Regression, a simple model compared to the random forest"
      ]
    },
    {
      "cell_type": "code",
      "metadata": {
        "id": "ngcmUOwWtcCR"
      },
      "source": [
        "from sklearn.linear_model import LogisticRegression\n",
        "from sklearn.tree import DecisionTreeClassifier\n",
        "from sklearn.svm import SVC"
      ],
      "execution_count": null,
      "outputs": []
    },
    {
      "cell_type": "code",
      "metadata": {
        "colab": {
          "base_uri": "https://localhost:8080/"
        },
        "id": "Q5CjA9IckfX3",
        "outputId": "053498e6-22a4-4e5c-974e-46c7882a9cf5"
      },
      "source": [
        "results2 = []\n",
        "kf = RepeatedKFold(n_splits = 2, n_repeats = 10, random_state= 0)\n",
        "\n",
        "\n",
        "for lines_train, lines_valid in kf.split(X):\n",
        "  print('Train:', lines_train.shape[0])\n",
        "  print('Validation:', lines_valid.shape[0])\n",
        "  \n",
        "\n",
        "  X_train, X_valid = X.iloc[lines_train], X.iloc[lines_valid]\n",
        "  y_train, y_valid = y.iloc[lines_train], y.iloc[lines_valid]\n",
        "\n",
        "  # model = RandomForestClassifier(n_estimators=100, n_jobs= -1, random_state= 0)\n",
        "  # model = DecisionTreeClassifier(criterion='gini', random_state=0)\n",
        "  model = SVC(kernel = 'linear', random_state = 1, C = 1.0 )\n",
        "  #model = LogisticRegression(solver= 'newton-cg', multi_class = 'multinomial',n_jobs = -1)\n",
        "  model.fit(X_train,y_train)\n",
        "\n",
        "  p = model.predict(X_valid)\n",
        "  \n",
        "  acc = np.mean(y_valid == p)\n",
        "  results2.append(acc)\n",
        "  print(f'Accuracy: {acc}')\n",
        "  print()"
      ],
      "execution_count": null,
      "outputs": [
        {
          "output_type": "stream",
          "text": [
            "Train: 445\n",
            "Validation: 446\n",
            "Accuracy: 0.8183856502242153\n",
            "\n",
            "Train: 446\n",
            "Validation: 445\n",
            "Accuracy: 0.8337078651685393\n",
            "\n",
            "Train: 445\n",
            "Validation: 446\n",
            "Accuracy: 0.804932735426009\n",
            "\n",
            "Train: 446\n",
            "Validation: 445\n",
            "Accuracy: 0.8134831460674158\n",
            "\n",
            "Train: 445\n",
            "Validation: 446\n",
            "Accuracy: 0.8026905829596412\n",
            "\n",
            "Train: 446\n",
            "Validation: 445\n",
            "Accuracy: 0.8314606741573034\n",
            "\n",
            "Train: 445\n",
            "Validation: 446\n",
            "Accuracy: 0.804932735426009\n",
            "\n",
            "Train: 446\n",
            "Validation: 445\n",
            "Accuracy: 0.8224719101123595\n",
            "\n",
            "Train: 445\n",
            "Validation: 446\n",
            "Accuracy: 0.7825112107623319\n",
            "\n",
            "Train: 446\n",
            "Validation: 445\n",
            "Accuracy: 0.8224719101123595\n",
            "\n",
            "Train: 445\n",
            "Validation: 446\n",
            "Accuracy: 0.804932735426009\n",
            "\n",
            "Train: 446\n",
            "Validation: 445\n",
            "Accuracy: 0.8202247191011236\n",
            "\n",
            "Train: 445\n",
            "Validation: 446\n",
            "Accuracy: 0.804932735426009\n",
            "\n",
            "Train: 446\n",
            "Validation: 445\n",
            "Accuracy: 0.8292134831460675\n",
            "\n",
            "Train: 445\n",
            "Validation: 446\n",
            "Accuracy: 0.7982062780269058\n",
            "\n",
            "Train: 446\n",
            "Validation: 445\n",
            "Accuracy: 0.8584269662921349\n",
            "\n",
            "Train: 445\n",
            "Validation: 446\n",
            "Accuracy: 0.8295964125560538\n",
            "\n",
            "Train: 446\n",
            "Validation: 445\n",
            "Accuracy: 0.8224719101123595\n",
            "\n",
            "Train: 445\n",
            "Validation: 446\n",
            "Accuracy: 0.827354260089686\n",
            "\n",
            "Train: 446\n",
            "Validation: 445\n",
            "Accuracy: 0.8179775280898877\n",
            "\n"
          ],
          "name": "stdout"
        }
      ]
    },
    {
      "cell_type": "markdown",
      "metadata": {
        "id": "oz82M933nXcy"
      },
      "source": [
        "* Plotting the new (blue) and previous(orange) histogram"
      ]
    },
    {
      "cell_type": "code",
      "metadata": {
        "colab": {
          "base_uri": "https://localhost:8080/",
          "height": 435
        },
        "id": "P_gnZOWYnHpK",
        "outputId": "4deac76c-ec3e-4e64-f4e2-deb7e1a3f160"
      },
      "source": [
        "pylab.hist(results2), pylab.hist(results,alpha= 0.8)"
      ],
      "execution_count": null,
      "outputs": [
        {
          "output_type": "execute_result",
          "data": {
            "text/plain": [
              "((array([1., 0., 6., 0., 4., 4., 4., 0., 0., 1.]),\n",
              "  array([0.78251121, 0.79010279, 0.79769436, 0.80528594, 0.81287751,\n",
              "         0.82046909, 0.82806066, 0.83565224, 0.84324382, 0.85083539,\n",
              "         0.85842697]),\n",
              "  <a list of 10 Patch objects>),\n",
              " (array([1., 0., 1., 2., 0., 4., 5., 3., 1., 3.]),\n",
              "  array([0.7690583 , 0.77488789, 0.78071749, 0.78654709, 0.79237668,\n",
              "         0.79820628, 0.80403587, 0.80986547, 0.81569507, 0.82152466,\n",
              "         0.82735426]),\n",
              "  <a list of 10 Patch objects>))"
            ]
          },
          "metadata": {
            "tags": []
          },
          "execution_count": 52
        },
        {
          "output_type": "display_data",
          "data": {
            "image/png": "[encoded data removed]",
            "text/plain": [
              "<Figure size 432x288 with 1 Axes>"
            ]
          },
          "metadata": {
            "tags": [],
            "needs_background": "light"
          }
        }
      ]
    },
    {
      "cell_type": "code",
      "metadata": {
        "colab": {
          "base_uri": "https://localhost:8080/"
        },
        "id": "6LACKojxoXcm",
        "outputId": "4b075473-1641-4575-c73d-d2993e1171e4"
      },
      "source": [
        "np.mean(results2)"
      ],
      "execution_count": null,
      "outputs": [
        {
          "output_type": "execute_result",
          "data": {
            "text/plain": [
              "0.817519272434121"
            ]
          },
          "metadata": {
            "tags": []
          },
          "execution_count": 53
        }
      ]
    },
    {
      "cell_type": "code",
      "metadata": {
        "id": "_DLVORx7oxxj"
      },
      "source": [
        "test['Embarked_S'] = (test['Embarked'] == 'S').astype(int)\n",
        "test['Embarked_C'] = (test['Embarked'] == 'C').astype(int)\n",
        "#train['Embarked_Q'] = (train['Embarked']== 'Q').astype(int)\n",
        "\n",
        "test['Cabin_null'] = test['Cabin'].isnull().astype(int)\n",
        "\n",
        "# Women\n",
        "test['Name_contain_Miss'] =test['Name'].str.contains('Miss').astype(int)\n",
        "test['Name_contain_Mrs'] = test['Name'].str.contains('Mrs').astype(int)\n",
        "\n",
        "# Men\n",
        "test['Name_contain_Master'] = test['Name'].str.contains('Master').astype(int)\n",
        "test['Name_contain_Col'] = test['Name'].str.contains('Col').astype(int)\n",
        "test['Name_contain_Major'] = test['Name'].str.contains('Major').astype(int)\n",
        "test['Name_contain_Mr'] = test['Name'].str.contains('Mr').astype(int)\n",
        "\n",
        "model = SVC(kernel = 'linear', random_state = 1, C = 1.0 )\n",
        "\n",
        "# Creating a model with entire dataset\n",
        "model.fit(X,y)\n",
        "p = model.predict(test[variables].fillna(-1))"
      ],
      "execution_count": null,
      "outputs": []
    },
    {
      "cell_type": "markdown",
      "metadata": {
        "id": "qDkOrCDyrOZf"
      },
      "source": [
        "\n",
        "## Creating submission\n",
        "\n"
      ]
    },
    {
      "cell_type": "code",
      "metadata": {
        "colab": {
          "base_uri": "https://localhost:8080/"
        },
        "id": "1O8FbVQorNVz",
        "outputId": "4b5637fb-ed92-44e0-cb62-302c21872583"
      },
      "source": [
        "sub = pd.Series(p, index = test['PassengerId'], name = 'Survived')\n",
        "sub.shape"
      ],
      "execution_count": null,
      "outputs": [
        {
          "output_type": "execute_result",
          "data": {
            "text/plain": [
              "(418,)"
            ]
          },
          "metadata": {
            "tags": []
          },
          "execution_count": 55
        }
      ]
    },
    {
      "cell_type": "code",
      "metadata": {
        "id": "i-lUvrPvsRwk"
      },
      "source": [
        "sub.to_csv('third_model_final.csv',header = True)"
      ],
      "execution_count": null,
      "outputs": []
    },
    {
      "cell_type": "markdown",
      "metadata": {
        "id": "XAS6hZiPryLg"
      },
      "source": [
        "* Below we can see the score of this third model that was submitted in the Kaggle.\n",
        "\n",
        "<p align=\"center\">\n",
        "  <img src=\"https://drive.google.com/uc?id=1GuDzUR_de9Azh03tTD4UCi-5qpGW9d4M\" >\n",
        "</p>\n",
        "\n",
        "* As it can be seen in the image above, the score improve to 0.77511. \n"
      ]
    },
    {
      "cell_type": "markdown",
      "metadata": {
        "id": "Yn-3VfXc_8R_"
      },
      "source": [
        "# Part 6: Conclusions of the project\n",
        "___ "
      ]
    },
    {
      "cell_type": "markdown",
      "metadata": {
        "id": "C3Hr0cyhDD_0"
      },
      "source": [
        "The sinking of the Titanic was on  April 15, 1912. This accident resulted in **the death of 1502 out of 2224 passengers and crew**. This project is expected to be able to make an analysis of which variables have the greatest influence in one of the most infamous shipwrecks in history and find the accuracy in the classification on the people that survived or not. The dataset used for this project is taken from **[Kaggle](https://www.kaggle.com/c/titanic)**.\n",
        "\n",
        "In **first part**, it is used only the labels Gender and Age to build the model. This assumption was made from the dataset Train. The accuracy obtained is *0.71291* which is lower than the file gender_submission (0.76555).\n",
        "\n",
        "In the **second part**, it is used the dataset of train and test to validate the model. The Machine Learning classifier used is the **[Random Forest](https://scikit-learn.org/stable/modules/generated/sklearn.ensemble.RandomForestClassifier.html?highlight=random%20forest#sklearn.ensemble.RandomForestClassifier)**. In spite of this fact, the accuracy calculate is of *0.76906*.\n",
        "\n",
        "The **third part** consists of the cross-validation, a technique of resampling, to remove that randomness of the dataset. The **[K-Folds cross-validator](https://scikit-learn.org/stable/modules/generated/sklearn.model_selection.KFold.html)** from the scikit learn that provides train/test indices to split data in train/test sets is used. The mean of the accuracies found is *0.764310*.\n",
        "\n",
        "The **fourth part** is to add new variables in the training and test data to build a model of Machine Learning. The numerical variables added are Sex_binary, Age, P-class, SibSp, Parch, and Fare. The **[RepeatedKFold](https://scikit-learn.org/stable/modules/generated/sklearn.model_selection.RepeatedKFold.html)** is used in order to repeats K-Fold n times with different randomization in each repetition. In spite of this fact, the accuracy calculate is of *0.74641*.\n",
        "\n",
        "Finally, the **fifth part** it is seen that the data  is classifier in a wrong way. That is, some people in the dataset have the title such as *'Miss', 'Mrs', 'Master', 'Col', 'Major' and 'Mr'* in their names. Furthermore, the cabin number is missing for a lot of people in this subset. The **[Support vector machine (SVM)](https://scikit-learn.org/stable/modules/generated/sklearn.svm.SVC.html)** so as to improve the accuracy of the project. On the whole, the accuracy in this part is of *0.77511*, the best one in this project, and is higher than that of the gender_submission file.\n",
        "\n",
        "\n",
        "\n"
      ]
    },
    {
      "cell_type": "markdown",
      "metadata": {
        "id": "PZ2wdOWQ-gea"
      },
      "source": [
        "# Author and Proofreader\n",
        "---\n",
        " * Author: [Luís Fernando Matias de Farias](https://www.linkedin.com/in/lu%C3%ADs-fernando-matias-de-farias-52234b20a/?locale=en_US) \n",
        " * English proofreader - [James Alves](https://www.linkedin.com/in/james-alves-jr/)"
      ]
    }
  ]
}
