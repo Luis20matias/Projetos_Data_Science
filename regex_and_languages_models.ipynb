{
 "cells": [
  {
   "cell_type": "markdown",
   "metadata": {},
   "source": [
    "# Identify idiom for a specific phrase - Regex and languages models"
   ]
  },
  {
   "cell_type": "markdown",
   "metadata": {
    "colab_type": "text",
    "id": "GAIecxp8s-EZ"
   },
   "source": [
    "## Loading the data"
   ]
  },
  {
   "cell_type": "code",
   "execution_count": 1,
   "metadata": {},
   "outputs": [],
   "source": [
    "import pandas as pd"
   ]
  },
  {
   "cell_type": "code",
   "execution_count": 2,
   "metadata": {
    "colab": {},
    "colab_type": "code",
    "id": "6dxLisCjomQe",
    "outputId": "7296304d-30b8-4c95-8e03-b02d20859285"
   },
   "outputs": [
    {
     "data": {
      "text/html": [
       "<div>\n",
       "<style scoped>\n",
       "    .dataframe tbody tr th:only-of-type {\n",
       "        vertical-align: middle;\n",
       "    }\n",
       "\n",
       "    .dataframe tbody tr th {\n",
       "        vertical-align: top;\n",
       "    }\n",
       "\n",
       "    .dataframe thead th {\n",
       "        text-align: right;\n",
       "    }\n",
       "</style>\n",
       "<table border=\"1\" class=\"dataframe\">\n",
       "  <thead>\n",
       "    <tr style=\"text-align: right;\">\n",
       "      <th></th>\n",
       "      <th>Id</th>\n",
       "      <th>Título</th>\n",
       "      <th>Questão</th>\n",
       "      <th>Tags</th>\n",
       "      <th>Pontuação</th>\n",
       "      <th>Visualizações</th>\n",
       "    </tr>\n",
       "  </thead>\n",
       "  <tbody>\n",
       "    <tr>\n",
       "      <th>0</th>\n",
       "      <td>2402</td>\n",
       "      <td>Como fazer hash de senhas de forma segura?</td>\n",
       "      <td>&lt;p&gt;Se eu fizer o &lt;em&gt;&lt;a href=\"http://pt.wikipe...</td>\n",
       "      <td>&lt;hash&gt;&lt;segurança&gt;&lt;senhas&gt;&lt;criptografia&gt;</td>\n",
       "      <td>350</td>\n",
       "      <td>22367</td>\n",
       "    </tr>\n",
       "    <tr>\n",
       "      <th>1</th>\n",
       "      <td>6441</td>\n",
       "      <td>Qual é a diferença entre INNER JOIN e OUTER JOIN?</td>\n",
       "      <td>&lt;p&gt;Qual é a diferença entre &lt;code&gt;INNER JOIN&lt;/...</td>\n",
       "      <td>&lt;sql&gt;&lt;join&gt;</td>\n",
       "      <td>276</td>\n",
       "      <td>176953</td>\n",
       "    </tr>\n",
       "    <tr>\n",
       "      <th>2</th>\n",
       "      <td>579</td>\n",
       "      <td>Por que não devemos usar funções do tipo mysql_*?</td>\n",
       "      <td>&lt;p&gt;Uma dúvida muito comum é por que devemos pa...</td>\n",
       "      <td>&lt;php&gt;&lt;mysql&gt;</td>\n",
       "      <td>226</td>\n",
       "      <td>9761</td>\n",
       "    </tr>\n",
       "    <tr>\n",
       "      <th>3</th>\n",
       "      <td>2539</td>\n",
       "      <td>As mensagens de erro devem se desculpar?</td>\n",
       "      <td>&lt;p&gt;É comum encontrar uma mensagem de erro que ...</td>\n",
       "      <td>&lt;aplicação-web&gt;&lt;gui&gt;&lt;console&gt;&lt;ux&gt;</td>\n",
       "      <td>214</td>\n",
       "      <td>5075</td>\n",
       "    </tr>\n",
       "    <tr>\n",
       "      <th>4</th>\n",
       "      <td>17501</td>\n",
       "      <td>Qual é a diferença de API, biblioteca e Framew...</td>\n",
       "      <td>&lt;p&gt;Me parecem termos muito próximos e eventual...</td>\n",
       "      <td>&lt;api&gt;&lt;framework&gt;&lt;terminologia&gt;&lt;biblioteca&gt;</td>\n",
       "      <td>193</td>\n",
       "      <td>54191</td>\n",
       "    </tr>\n",
       "    <tr>\n",
       "      <th>5</th>\n",
       "      <td>3864</td>\n",
       "      <td>Como prevenir injeção de código SQL no meu cód...</td>\n",
       "      <td>&lt;p&gt;Desenvolvi uma página em PHP para uso inter...</td>\n",
       "      <td>&lt;php&gt;&lt;mysql&gt;&lt;sql&gt;&lt;sql-injection&gt;</td>\n",
       "      <td>180</td>\n",
       "      <td>10243</td>\n",
       "    </tr>\n",
       "  </tbody>\n",
       "</table>\n",
       "</div>"
      ],
      "text/plain": [
       "      Id                                             Título  \\\n",
       "0   2402         Como fazer hash de senhas de forma segura?   \n",
       "1   6441  Qual é a diferença entre INNER JOIN e OUTER JOIN?   \n",
       "2    579  Por que não devemos usar funções do tipo mysql_*?   \n",
       "3   2539           As mensagens de erro devem se desculpar?   \n",
       "4  17501  Qual é a diferença de API, biblioteca e Framew...   \n",
       "5   3864  Como prevenir injeção de código SQL no meu cód...   \n",
       "\n",
       "                                             Questão  \\\n",
       "0  <p>Se eu fizer o <em><a href=\"http://pt.wikipe...   \n",
       "1  <p>Qual é a diferença entre <code>INNER JOIN</...   \n",
       "2  <p>Uma dúvida muito comum é por que devemos pa...   \n",
       "3  <p>É comum encontrar uma mensagem de erro que ...   \n",
       "4  <p>Me parecem termos muito próximos e eventual...   \n",
       "5  <p>Desenvolvi uma página em PHP para uso inter...   \n",
       "\n",
       "                                         Tags  Pontuação  Visualizações  \n",
       "0     <hash><segurança><senhas><criptografia>        350          22367  \n",
       "1                                 <sql><join>        276         176953  \n",
       "2                                <php><mysql>        226           9761  \n",
       "3           <aplicação-web><gui><console><ux>        214           5075  \n",
       "4  <api><framework><terminologia><biblioteca>        193          54191  \n",
       "5            <php><mysql><sql><sql-injection>        180          10243  "
      ]
     },
     "execution_count": 2,
     "metadata": {},
     "output_type": "execute_result"
    }
   ],
   "source": [
    "portuguese_data = pd.read_csv(\"dataset/stackoverflow_portugues.csv\")\n",
    "portuguese_data.head(6)"
   ]
  },
  {
   "cell_type": "code",
   "execution_count": 3,
   "metadata": {
    "colab": {},
    "colab_type": "code",
    "id": "bgdV-O56omQ2",
    "outputId": "74fffbe3-7d7d-4531-c266-74cbdf069212"
   },
   "outputs": [
    {
     "name": "stdout",
     "output_type": "stream",
     "text": [
      "<p>Desenvolvi uma página em PHP para uso interno da empresa que trabalho e apenas pouquíssimas pessoas a utilizam. Através dessa página é possível fazer algumas consultas, inserções, alterações e remoções de dados de uma tabela em um banco de dados MySQL, porém eu acredito que meu código em PHP não está protegido contra injeção de código SQL, por exemplo:</p>\n",
      "\n",
      "<pre><code>//----CONSULTA SQL----//\n",
      "$busca = mysql_query ('insert into Produtos (coluna) values(' . $valor . ')');\n",
      "</code></pre>\n",
      "\n",
      "<p>Logo, digamos que o usuário usar a sentença: <code>1); DROP TABLE Produtos;</code> para ao campo <code>valor</code> o comando ficaria: </p>\n",
      "\n",
      "<pre><code>insert into Produtos (coluna) values(1); DROP TABLE Produtos;\n",
      "</code></pre>\n",
      "\n",
      "<p>Ele vai inserir um novo registro cujo o campo <code>coluna</code> será <code>1</code> e logo em seguida ele vai deletar a tabela Produtos.</p>\n",
      "\n",
      "<p>Como posso melhorar meu código para prevenir essa situação?</p>\n",
      "\n"
     ]
    }
   ],
   "source": [
    "portuguese_questions = portuguese_data.Questão[5]\n",
    "print(portuguese_questions)"
   ]
  },
  {
   "cell_type": "markdown",
   "metadata": {},
   "source": [
    "We can notice that we can take of the punctuation, the HTML elements and the codes"
   ]
  },
  {
   "cell_type": "markdown",
   "metadata": {
    "colab_type": "text",
    "id": "SpJ_2yRMtIJ6"
   },
   "source": [
    "## Regex: introduction"
   ]
  },
  {
   "cell_type": "markdown",
   "metadata": {},
   "source": [
    "A regular expression is a sequence of characters that specifies a search pattern in text. Usually such patterns are used by string-searching algorithms for \"find\" or \"find and replace\" operations on strings, or for input validation.\n",
    "\n",
    "Read more this two sites: [Python RegEx Meta Characters](https://www.w3schools.com/python/gloss_python_regex_metacharacters.asp) and [Regular Expressions](https://www3.ntu.edu.sg/home/ehchua/programming/howto/Regexe.html#:~:text=In%20regex%2C%20the%20uppercase%20metacharacter,%5E0%2D9%5D%20)."
   ]
  },
  {
   "cell_type": "markdown",
   "metadata": {},
   "source": [
    "### Loading english and spanish data"
   ]
  },
  {
   "cell_type": "code",
   "execution_count": 4,
   "metadata": {
    "colab": {},
    "colab_type": "code",
    "id": "OIKLh-F2omRJ",
    "outputId": "c188cfda-501c-44c1-88b0-b7eb68d879ac"
   },
   "outputs": [
    {
     "data": {
      "text/html": [
       "<div>\n",
       "<style scoped>\n",
       "    .dataframe tbody tr th:only-of-type {\n",
       "        vertical-align: middle;\n",
       "    }\n",
       "\n",
       "    .dataframe tbody tr th {\n",
       "        vertical-align: top;\n",
       "    }\n",
       "\n",
       "    .dataframe thead th {\n",
       "        text-align: right;\n",
       "    }\n",
       "</style>\n",
       "<table border=\"1\" class=\"dataframe\">\n",
       "  <thead>\n",
       "    <tr style=\"text-align: right;\">\n",
       "      <th></th>\n",
       "      <th>Id</th>\n",
       "      <th>Título</th>\n",
       "      <th>Questão</th>\n",
       "      <th>Tags</th>\n",
       "      <th>Pontuação</th>\n",
       "      <th>Visualizações</th>\n",
       "    </tr>\n",
       "  </thead>\n",
       "  <tbody>\n",
       "    <tr>\n",
       "      <th>0</th>\n",
       "      <td>11227809</td>\n",
       "      <td>Why is it faster to process a sorted array tha...</td>\n",
       "      <td>&lt;p&gt;Here is a piece of C++ code that seems very...</td>\n",
       "      <td>&lt;java&gt;&lt;c++&gt;&lt;performance&gt;&lt;optimization&gt;&lt;branch-...</td>\n",
       "      <td>23057</td>\n",
       "      <td>1358574</td>\n",
       "    </tr>\n",
       "    <tr>\n",
       "      <th>1</th>\n",
       "      <td>927358</td>\n",
       "      <td>How do I undo the most recent local commits in...</td>\n",
       "      <td>&lt;p&gt;I accidentally committed the wrong files to...</td>\n",
       "      <td>&lt;git&gt;&lt;version-control&gt;&lt;git-commit&gt;&lt;undo&gt;</td>\n",
       "      <td>19640</td>\n",
       "      <td>7906137</td>\n",
       "    </tr>\n",
       "    <tr>\n",
       "      <th>2</th>\n",
       "      <td>2003505</td>\n",
       "      <td>How do I delete a Git branch locally and remot...</td>\n",
       "      <td>&lt;p&gt;I want to delete a branch both locally and ...</td>\n",
       "      <td>&lt;git&gt;&lt;git-branch&gt;&lt;git-remote&gt;</td>\n",
       "      <td>15249</td>\n",
       "      <td>6940906</td>\n",
       "    </tr>\n",
       "    <tr>\n",
       "      <th>3</th>\n",
       "      <td>292357</td>\n",
       "      <td>What is the difference between 'git pull' and ...</td>\n",
       "      <td>&lt;blockquote&gt;\\n  &lt;p&gt;&lt;strong&gt;Moderator Note:&lt;/st...</td>\n",
       "      <td>&lt;git&gt;&lt;git-pull&gt;&lt;git-fetch&gt;</td>\n",
       "      <td>11008</td>\n",
       "      <td>2543052</td>\n",
       "    </tr>\n",
       "    <tr>\n",
       "      <th>4</th>\n",
       "      <td>477816</td>\n",
       "      <td>What is the correct JSON content type?</td>\n",
       "      <td>&lt;p&gt;I've been messing around with &lt;a href=\"http...</td>\n",
       "      <td>&lt;json&gt;&lt;http-headers&gt;&lt;content-type&gt;</td>\n",
       "      <td>9701</td>\n",
       "      <td>2478940</td>\n",
       "    </tr>\n",
       "  </tbody>\n",
       "</table>\n",
       "</div>"
      ],
      "text/plain": [
       "         Id                                             Título  \\\n",
       "0  11227809  Why is it faster to process a sorted array tha...   \n",
       "1    927358  How do I undo the most recent local commits in...   \n",
       "2   2003505  How do I delete a Git branch locally and remot...   \n",
       "3    292357  What is the difference between 'git pull' and ...   \n",
       "4    477816             What is the correct JSON content type?   \n",
       "\n",
       "                                             Questão  \\\n",
       "0  <p>Here is a piece of C++ code that seems very...   \n",
       "1  <p>I accidentally committed the wrong files to...   \n",
       "2  <p>I want to delete a branch both locally and ...   \n",
       "3  <blockquote>\\n  <p><strong>Moderator Note:</st...   \n",
       "4  <p>I've been messing around with <a href=\"http...   \n",
       "\n",
       "                                                Tags  Pontuação  Visualizações  \n",
       "0  <java><c++><performance><optimization><branch-...      23057        1358574  \n",
       "1           <git><version-control><git-commit><undo>      19640        7906137  \n",
       "2                      <git><git-branch><git-remote>      15249        6940906  \n",
       "3                         <git><git-pull><git-fetch>      11008        2543052  \n",
       "4                 <json><http-headers><content-type>       9701        2478940  "
      ]
     },
     "execution_count": 4,
     "metadata": {},
     "output_type": "execute_result"
    }
   ],
   "source": [
    "english_data = pd.read_csv(\"dataset/stackoverflow_ingles.csv\")\n",
    "english_data.head()"
   ]
  },
  {
   "cell_type": "code",
   "execution_count": 5,
   "metadata": {
    "colab": {},
    "colab_type": "code",
    "id": "p8EVorc_omRW",
    "outputId": "f88a67d0-3c5e-4518-f18b-a0c6a7094e1f"
   },
   "outputs": [
    {
     "name": "stdout",
     "output_type": "stream",
     "text": [
      "<p>Here is a piece of C++ code that seems very peculiar. For some strange reason, sorting the data miraculously makes the code almost six times faster.</p>\n",
      "\n",
      "<pre class=\"lang-cpp prettyprint-override\"><code>#include &lt;algorithm&gt;\n",
      "#include &lt;ctime&gt;\n",
      "#include &lt;iostream&gt;\n",
      "\n",
      "int main()\n",
      "{\n",
      "    // Generate data\n",
      "    const unsigned arraySize = 32768;\n",
      "    int data[arraySize];\n",
      "\n",
      "    for (unsigned c = 0; c &lt; arraySize; ++c)\n",
      "        data[c] = std::rand() % 256;\n",
      "\n",
      "    // !!! With this, the next loop runs faster\n",
      "    std::sort(data, data + arraySize);\n",
      "\n",
      "    // Test\n",
      "    clock_t start = clock();\n",
      "    long long sum = 0;\n",
      "\n",
      "    for (unsigned i = 0; i &lt; 100000; ++i)\n",
      "    {\n",
      "        // Primary loop\n",
      "        for (unsigned c = 0; c &lt; arraySize; ++c)\n",
      "        {\n",
      "            if (data[c] &gt;= 128)\n",
      "                sum += data[c];\n",
      "        }\n",
      "    }\n",
      "\n",
      "    double elapsedTime = static_cast&lt;double&gt;(clock() - start) / CLOCKS_PER_SEC;\n",
      "\n",
      "    std::cout &lt;&lt; elapsedTime &lt;&lt; std::endl;\n",
      "    std::cout &lt;&lt; \"sum = \" &lt;&lt; sum &lt;&lt; std::endl;\n",
      "}\n",
      "</code></pre>\n",
      "\n",
      "<ul>\n",
      "<li>Without <code>std::sort(data, data + arraySize);</code>, the code runs in 11.54 seconds.</li>\n",
      "<li>With the sorted data, the code runs in 1.93 seconds.</li>\n",
      "</ul>\n",
      "\n",
      "<p>Initially, I thought this might be just a language or compiler anomaly. So I tried it in Java.</p>\n",
      "\n",
      "<pre class=\"lang-java prettyprint-override\"><code>import java.util.Arrays;\n",
      "import java.util.Random;\n",
      "\n",
      "public class Main\n",
      "{\n",
      "    public static void main(String[] args)\n",
      "    {\n",
      "        // Generate data\n",
      "        int arraySize = 32768;\n",
      "        int data[] = new int[arraySize];\n",
      "\n",
      "        Random rnd = new Random(0);\n",
      "        for (int c = 0; c &lt; arraySize; ++c)\n",
      "            data[c] = rnd.nextInt() % 256;\n",
      "\n",
      "        // !!! With this, the next loop runs faster\n",
      "        Arrays.sort(data);\n",
      "\n",
      "        // Test\n",
      "        long start = System.nanoTime();\n",
      "        long sum = 0;\n",
      "\n",
      "        for (int i = 0; i &lt; 100000; ++i)\n",
      "        {\n",
      "            // Primary loop\n",
      "            for (int c = 0; c &lt; arraySize; ++c)\n",
      "            {\n",
      "                if (data[c] &gt;= 128)\n",
      "                    sum += data[c];\n",
      "            }\n",
      "        }\n",
      "\n",
      "        System.out.println((System.nanoTime() - start) / 1000000000.0);\n",
      "        System.out.println(\"sum = \" + sum);\n",
      "    }\n",
      "}\n",
      "</code></pre>\n",
      "\n",
      "<p>With a somewhat similar but less extreme result.</p>\n",
      "\n",
      "<hr>\n",
      "\n",
      "<p>My first thought was that sorting brings the data into the cache, but then I thought how silly that is because the array was just generated.</p>\n",
      "\n",
      "<ul>\n",
      "<li>What is going on?</li>\n",
      "<li>Why is it faster to process a sorted array than an unsorted array?</li>\n",
      "<li>The code is summing up some independent terms, and the order should not matter.</li>\n",
      "</ul>\n",
      "\n"
     ]
    }
   ],
   "source": [
    "english_question = english_data.Questão[0]\n",
    "print(english_question)"
   ]
  },
  {
   "cell_type": "code",
   "execution_count": 6,
   "metadata": {
    "colab": {},
    "colab_type": "code",
    "id": "dXR0IhKComRj",
    "outputId": "88a38c59-3f54-421e-cd9e-afe80f69bc6e"
   },
   "outputs": [
    {
     "data": {
      "text/html": [
       "<div>\n",
       "<style scoped>\n",
       "    .dataframe tbody tr th:only-of-type {\n",
       "        vertical-align: middle;\n",
       "    }\n",
       "\n",
       "    .dataframe tbody tr th {\n",
       "        vertical-align: top;\n",
       "    }\n",
       "\n",
       "    .dataframe thead th {\n",
       "        text-align: right;\n",
       "    }\n",
       "</style>\n",
       "<table border=\"1\" class=\"dataframe\">\n",
       "  <thead>\n",
       "    <tr style=\"text-align: right;\">\n",
       "      <th></th>\n",
       "      <th>Id</th>\n",
       "      <th>Título</th>\n",
       "      <th>Questão</th>\n",
       "      <th>Tags</th>\n",
       "      <th>Pontuação</th>\n",
       "      <th>Visualizações</th>\n",
       "    </tr>\n",
       "  </thead>\n",
       "  <tbody>\n",
       "    <tr>\n",
       "      <th>0</th>\n",
       "      <td>18232</td>\n",
       "      <td>¿Cómo evitar la inyección SQL en PHP?</td>\n",
       "      <td>&lt;p&gt;Las sentencias dinámicas son sentencias SQL...</td>\n",
       "      <td>&lt;php&gt;&lt;mysql&gt;&lt;sql&gt;&lt;seguridad&gt;&lt;inyección-sql&gt;</td>\n",
       "      <td>169</td>\n",
       "      <td>38614</td>\n",
       "    </tr>\n",
       "    <tr>\n",
       "      <th>1</th>\n",
       "      <td>197</td>\n",
       "      <td>¿Por qué mis programas no pueden hacer cálculo...</td>\n",
       "      <td>&lt;p&gt;Unas veces los cálculos funcionan correctam...</td>\n",
       "      <td>&lt;matemáticas&gt;&lt;coma-flotante&gt;&lt;lenguaje-agnóstico&gt;</td>\n",
       "      <td>141</td>\n",
       "      <td>3860</td>\n",
       "    </tr>\n",
       "    <tr>\n",
       "      <th>2</th>\n",
       "      <td>36</td>\n",
       "      <td>¿Cuál es la diferencia entre un inner y un out...</td>\n",
       "      <td>&lt;p&gt;¿Cuál es la diferencia entre un &lt;code&gt;inner...</td>\n",
       "      <td>&lt;mysql&gt;&lt;sql&gt;&lt;join&gt;</td>\n",
       "      <td>97</td>\n",
       "      <td>53627</td>\n",
       "    </tr>\n",
       "    <tr>\n",
       "      <th>3</th>\n",
       "      <td>29177</td>\n",
       "      <td>¿Por qué es considerado una mala práctica util...</td>\n",
       "      <td>&lt;p&gt;La mayoría de nosotros decimos, (muchas vec...</td>\n",
       "      <td>&lt;variables&gt;&lt;variables-globales&gt;&lt;patrones-de-di...</td>\n",
       "      <td>89</td>\n",
       "      <td>9987</td>\n",
       "    </tr>\n",
       "    <tr>\n",
       "      <th>4</th>\n",
       "      <td>142</td>\n",
       "      <td>Validar un email en JavaScript que acepte todo...</td>\n",
       "      <td>&lt;h3&gt;Pregunta&lt;/h3&gt;\\n\\n&lt;p&gt;¿Cómo validar un e-mai...</td>\n",
       "      <td>&lt;javascript&gt;&lt;validación&gt;&lt;email&gt;&lt;regex&gt;</td>\n",
       "      <td>87</td>\n",
       "      <td>73129</td>\n",
       "    </tr>\n",
       "  </tbody>\n",
       "</table>\n",
       "</div>"
      ],
      "text/plain": [
       "      Id                                             Título  \\\n",
       "0  18232              ¿Cómo evitar la inyección SQL en PHP?   \n",
       "1    197  ¿Por qué mis programas no pueden hacer cálculo...   \n",
       "2     36  ¿Cuál es la diferencia entre un inner y un out...   \n",
       "3  29177  ¿Por qué es considerado una mala práctica util...   \n",
       "4    142  Validar un email en JavaScript que acepte todo...   \n",
       "\n",
       "                                             Questão  \\\n",
       "0  <p>Las sentencias dinámicas son sentencias SQL...   \n",
       "1  <p>Unas veces los cálculos funcionan correctam...   \n",
       "2  <p>¿Cuál es la diferencia entre un <code>inner...   \n",
       "3  <p>La mayoría de nosotros decimos, (muchas vec...   \n",
       "4  <h3>Pregunta</h3>\\n\\n<p>¿Cómo validar un e-mai...   \n",
       "\n",
       "                                                Tags  Pontuação  Visualizações  \n",
       "0        <php><mysql><sql><seguridad><inyección-sql>        169          38614  \n",
       "1   <matemáticas><coma-flotante><lenguaje-agnóstico>        141           3860  \n",
       "2                                 <mysql><sql><join>         97          53627  \n",
       "3  <variables><variables-globales><patrones-de-di...         89           9987  \n",
       "4             <javascript><validación><email><regex>         87          73129  "
      ]
     },
     "execution_count": 6,
     "metadata": {},
     "output_type": "execute_result"
    }
   ],
   "source": [
    "spanish_data = pd.read_csv(\"dataset/stackoverflow_espanhol.csv\")\n",
    "spanish_data.head()"
   ]
  },
  {
   "cell_type": "code",
   "execution_count": 7,
   "metadata": {
    "colab": {},
    "colab_type": "code",
    "id": "91ObOGS5omRz",
    "outputId": "a11b40c0-b424-45e7-f82e-eea2ab07397f"
   },
   "outputs": [
    {
     "name": "stdout",
     "output_type": "stream",
     "text": [
      "<p>Las sentencias dinámicas son sentencias SQL que se crean como cadenas de texto (strings) y en las que se insertan/concatenan valores obtenidos de alguna fuente (normalmente proveniente del usuario), lo que puede hacer que sean vulnerables a inyección SQL si no se sanean las entradas, como por ejemplo:</p>\n",
      "\n",
      "<pre><code>$id_usuario = $_POST[\"id\"];\n",
      "\n",
      "mysql_query(\"SELECT * FROM usuarios WHERE id = $id_usuario\");\n",
      "</code></pre>\n",
      "\n",
      "<p>Eso es un ejemplo de una vulnerabilidad grave en la seguridad de una aplicación (web o no) porque si el usuario introdujese un valor como <code>1; DROP TABLE usuarios;--</code> nos encontraríamos con que la sentencia ejecutada sería:</p>\n",
      "\n",
      "<pre><code>SELECT * FROM usuarios WHERE id = 1; DROP TABLE usuarios;--\n",
      "</code></pre>\n",
      "\n",
      "<p>Y se eliminaría la tabla Usuarios con todos los datos contenidos en ella. </p>\n",
      "\n",
      "<p><strong>¿Cómo puedo evitar que la inyección SQL ocurra en PHP?</strong></p>\n",
      "\n"
     ]
    }
   ],
   "source": [
    "spanish_question = spanish_data.Questão[0]\n",
    "print(spanish_question)"
   ]
  },
  {
   "cell_type": "markdown",
   "metadata": {},
   "source": [
    "English and Spanish data are in the same format as the Portuguese data"
   ]
  },
  {
   "cell_type": "markdown",
   "metadata": {},
   "source": [
    "## Using Metacharacters"
   ]
  },
  {
   "cell_type": "markdown",
   "metadata": {},
   "source": [
    "Metacharacters are considered as the building blocks of regular expressions. Regular expressions are patterns used to match character combinations in the strings. Metacharacter has special meaning in finding patterns and are mostly used to define the search criteria and any text manipulations.\n",
    "\n",
    "Read [more](https://www.w3schools.com/python/gloss_python_regex_metacharacters.asp).\n",
    "\n",
    "Test you regex in [regex101](https://regex101.com/).\n",
    "\n",
    "Library [re](https://docs.python.org/3/library/re.html).\n",
    "\n",
    "[Regular Expression HOWTO](https://docs.python.org/3/howto/regex.html#regex-howto)."
   ]
  },
  {
   "cell_type": "code",
   "execution_count": 8,
   "metadata": {},
   "outputs": [
    {
     "data": {
      "text/plain": [
       "['<p>', '<p>', '<p>', '<p>']"
      ]
     },
     "execution_count": 8,
     "metadata": {},
     "output_type": "execute_result"
    }
   ],
   "source": [
    "import re\n",
    "re.findall(r\"<p>\", portuguese_questions)"
   ]
  },
  {
   "cell_type": "code",
   "execution_count": 9,
   "metadata": {
    "colab": {},
    "colab_type": "code",
    "id": "M6umvpVpomR-",
    "outputId": "a0770ec0-9121-496b-8253-0494cbb89304"
   },
   "outputs": [
    {
     "data": {
      "text/plain": [
       "['<p>',\n",
       " '</p>',\n",
       " '<pre>',\n",
       " '<code>',\n",
       " '</code>',\n",
       " '</pre>',\n",
       " '<p>',\n",
       " '<code>',\n",
       " '</code>',\n",
       " '<code>',\n",
       " '</code>',\n",
       " '</p>',\n",
       " '<pre>',\n",
       " '<code>',\n",
       " '</code>',\n",
       " '</pre>',\n",
       " '<p>',\n",
       " '<code>',\n",
       " '</code>',\n",
       " '<code>',\n",
       " '</code>',\n",
       " '</p>',\n",
       " '<p>',\n",
       " '</p>']"
      ]
     },
     "execution_count": 9,
     "metadata": {},
     "output_type": "execute_result"
    }
   ],
   "source": [
    "# Find all HTML tags\n",
    "re.findall(r\"<.*?>\", portuguese_questions) # <.*> stops just for a newline character"
   ]
  },
  {
   "cell_type": "code",
   "execution_count": 23,
   "metadata": {
    "colab": {},
    "colab_type": "code",
    "id": "m4uKuMTfomST",
    "outputId": "26970aa4-04bd-4456-bc94-34e41b9851f7"
   },
   "outputs": [
    {
     "name": "stdout",
     "output_type": "stream",
     "text": [
      "  T----E----S----T  Desenvolvi uma página em PHP para uso interno da empresa que trabalho e apenas pouquíssimas pessoas a utilizam. Através dessa página é possível fazer algumas consultas, inserções, alterações e remoções de dados de uma tabela em um banco de dados MySQL, porém eu acredito que meu código em PHP não está protegido contra injeção de código SQL, por exemplo:  T----E----S----T  \n",
      "\n",
      "  T----E----S----T    T----E----S----T  //----CONSULTA SQL----//\n",
      "$busca = mysql_query ('insert into Produtos (coluna) values(' . $valor . ')');\n",
      "  T----E----S----T    T----E----S----T  \n",
      "\n",
      "  T----E----S----T  Logo, digamos que o usuário usar a sentença:   T----E----S----T  1); DROP TABLE Produtos;  T----E----S----T   para ao campo   T----E----S----T  valor  T----E----S----T   o comando ficaria:   T----E----S----T  \n",
      "\n",
      "  T----E----S----T    T----E----S----T  insert into Produtos (coluna) values(1); DROP TABLE Produtos;\n",
      "  T----E----S----T    T----E----S----T  \n",
      "\n",
      "  T----E----S----T  Ele vai inserir um novo registro cujo o campo   T----E----S----T  coluna  T----E----S----T   será   T----E----S----T  1  T----E----S----T   e logo em seguida ele vai deletar a tabela Produtos.  T----E----S----T  \n",
      "\n",
      "  T----E----S----T  Como posso melhorar meu código para prevenir essa situação?  T----E----S----T  \n",
      "\n"
     ]
    }
   ],
   "source": [
    "# Find all regex and substitute for something\n",
    "test_text = re.sub(r\"<.*?>\",\"  T----E----S----T  \", portuguese_questions)\n",
    "print(test_text)"
   ]
  },
  {
   "cell_type": "code",
   "execution_count": 24,
   "metadata": {
    "colab": {},
    "colab_type": "code",
    "id": "SXIJmTONomSd",
    "outputId": "2f8148b8-e8f1-458c-ac73-352d8271adf9"
   },
   "outputs": [
    {
     "data": {
      "text/plain": [
       "<re.Match object; span=(36, 38), match='70'>"
      ]
     },
     "execution_count": 24,
     "metadata": {},
     "output_type": "execute_result"
    }
   ],
   "source": [
    "# Search the pattern and returns the position (return an object re.Match - see more in the documentation)\n",
    "re.search(r\"70\", \"18728736187263817628631872638716283670\")"
   ]
  },
  {
   "cell_type": "code",
   "execution_count": 25,
   "metadata": {
    "colab": {},
    "colab_type": "code",
    "id": "ck6-XKotomSt"
   },
   "outputs": [],
   "source": [
    "# Transform a string in a regex\n",
    "regex = re.compile(r\"70\")"
   ]
  },
  {
   "cell_type": "code",
   "execution_count": 26,
   "metadata": {
    "colab": {},
    "colab_type": "code",
    "id": "EnTAIqjzomS7",
    "outputId": "56e95acd-b132-45c9-cc7f-dab05c4dd5f0"
   },
   "outputs": [
    {
     "data": {
      "text/plain": [
       "<re.Match object; span=(36, 38), match='70'>"
      ]
     },
     "execution_count": 26,
     "metadata": {},
     "output_type": "execute_result"
    }
   ],
   "source": [
    "regex.search(\"18728736187263817628631872638716283670\")"
   ]
  },
  {
   "cell_type": "markdown",
   "metadata": {},
   "source": [
    "Analyzing the performance of using re.compile and regex.search rather than re.search just once"
   ]
  },
  {
   "cell_type": "code",
   "execution_count": 10,
   "metadata": {
    "colab": {},
    "colab_type": "code",
    "id": "GDANb70WomTJ"
   },
   "outputs": [],
   "source": [
    "from timeit import timeit"
   ]
  },
  {
   "cell_type": "code",
   "execution_count": 28,
   "metadata": {
    "colab": {},
    "colab_type": "code",
    "id": "guBginBRomTR",
    "outputId": "625b333a-d482-456e-ce02-65964a8ca1bf"
   },
   "outputs": [
    {
     "data": {
      "text/plain": [
       "0.4425977470000362"
      ]
     },
     "execution_count": 28,
     "metadata": {},
     "output_type": "execute_result"
    }
   ],
   "source": [
    "setup = \"\"\"import re\"\"\"\n",
    "timeit(\"\"\"re.search(r\"70\",\"18728736187263817628631872638716283670\")\"\"\",\n",
    "      setup)"
   ]
  },
  {
   "cell_type": "code",
   "execution_count": 29,
   "metadata": {
    "colab": {},
    "colab_type": "code",
    "id": "JnOtt9vYomTb",
    "outputId": "f17422f2-9d14-444b-dfe2-e56f9a441bbc"
   },
   "outputs": [
    {
     "data": {
      "text/plain": [
       "0.08850591700138466"
      ]
     },
     "execution_count": 29,
     "metadata": {},
     "output_type": "execute_result"
    }
   ],
   "source": [
    "setup = \"\"\"import re\n",
    "regex = re.compile(r\"70\")\"\"\"\n",
    "\n",
    "timeit(\"\"\"regex.search(\"18728736187263817628631872638716283670\")\"\"\",\n",
    "      setup)"
   ]
  },
  {
   "cell_type": "markdown",
   "metadata": {},
   "source": [
    "Using the function re.compile as best pratice in the project"
   ]
  },
  {
   "cell_type": "markdown",
   "metadata": {
    "colab_type": "text",
    "id": "LPQm_-cNxcl9"
   },
   "source": [
    "## Preprocessing web data"
   ]
  },
  {
   "cell_type": "markdown",
   "metadata": {},
   "source": [
    "### Removing the tags HTML"
   ]
  },
  {
   "cell_type": "code",
   "execution_count": 11,
   "metadata": {
    "colab": {},
    "colab_type": "code",
    "id": "RoFPfZiWomTl"
   },
   "outputs": [],
   "source": [
    "# Function for just one string of a list of strings\n",
    "def remove_func(texts, regex):\n",
    "    if type(texts) == str:\n",
    "        return regex.sub(\"\", texts) \n",
    "    else:\n",
    "        return [regex.sub(\"\", text) for text in texts]"
   ]
  },
  {
   "cell_type": "code",
   "execution_count": 12,
   "metadata": {
    "colab": {},
    "colab_type": "code",
    "id": "f7vUPlIXomTt",
    "outputId": "75f50318-04ea-45bf-809b-a364d42231e8"
   },
   "outputs": [
    {
     "name": "stdout",
     "output_type": "stream",
     "text": [
      "Here is a piece of C++ code that seems very peculiar. For some strange reason, sorting the data miraculously makes the code almost six times faster.\n",
      "\n",
      "#include &lt;algorithm&gt;\n",
      "#include &lt;ctime&gt;\n",
      "#include &lt;iostream&gt;\n",
      "\n",
      "int main()\n",
      "{\n",
      "    // Generate data\n",
      "    const unsigned arraySize = 32768;\n",
      "    int data[arraySize];\n",
      "\n",
      "    for (unsigned c = 0; c &lt; arraySize; ++c)\n",
      "        data[c] = std::rand() % 256;\n",
      "\n",
      "    // !!! With this, the next loop runs faster\n",
      "    std::sort(data, data + arraySize);\n",
      "\n",
      "    // Test\n",
      "    clock_t start = clock();\n",
      "    long long sum = 0;\n",
      "\n",
      "    for (unsigned i = 0; i &lt; 100000; ++i)\n",
      "    {\n",
      "        // Primary loop\n",
      "        for (unsigned c = 0; c &lt; arraySize; ++c)\n",
      "        {\n",
      "            if (data[c] &gt;= 128)\n",
      "                sum += data[c];\n",
      "        }\n",
      "    }\n",
      "\n",
      "    double elapsedTime = static_cast&lt;double&gt;(clock() - start) / CLOCKS_PER_SEC;\n",
      "\n",
      "    std::cout &lt;&lt; elapsedTime &lt;&lt; std::endl;\n",
      "    std::cout &lt;&lt; \"sum = \" &lt;&lt; sum &lt;&lt; std::endl;\n",
      "}\n",
      "\n",
      "\n",
      "\n",
      "Without std::sort(data, data + arraySize);, the code runs in 11.54 seconds.\n",
      "With the sorted data, the code runs in 1.93 seconds.\n",
      "\n",
      "\n",
      "Initially, I thought this might be just a language or compiler anomaly. So I tried it in Java.\n",
      "\n",
      "import java.util.Arrays;\n",
      "import java.util.Random;\n",
      "\n",
      "public class Main\n",
      "{\n",
      "    public static void main(String[] args)\n",
      "    {\n",
      "        // Generate data\n",
      "        int arraySize = 32768;\n",
      "        int data[] = new int[arraySize];\n",
      "\n",
      "        Random rnd = new Random(0);\n",
      "        for (int c = 0; c &lt; arraySize; ++c)\n",
      "            data[c] = rnd.nextInt() % 256;\n",
      "\n",
      "        // !!! With this, the next loop runs faster\n",
      "        Arrays.sort(data);\n",
      "\n",
      "        // Test\n",
      "        long start = System.nanoTime();\n",
      "        long sum = 0;\n",
      "\n",
      "        for (int i = 0; i &lt; 100000; ++i)\n",
      "        {\n",
      "            // Primary loop\n",
      "            for (int c = 0; c &lt; arraySize; ++c)\n",
      "            {\n",
      "                if (data[c] &gt;= 128)\n",
      "                    sum += data[c];\n",
      "            }\n",
      "        }\n",
      "\n",
      "        System.out.println((System.nanoTime() - start) / 1000000000.0);\n",
      "        System.out.println(\"sum = \" + sum);\n",
      "    }\n",
      "}\n",
      "\n",
      "\n",
      "With a somewhat similar but less extreme result.\n",
      "\n",
      "\n",
      "\n",
      "My first thought was that sorting brings the data into the cache, but then I thought how silly that is because the array was just generated.\n",
      "\n",
      "\n",
      "What is going on?\n",
      "Why is it faster to process a sorted array than an unsorted array?\n",
      "The code is summing up some independent terms, and the order should not matter.\n",
      "\n",
      "\n"
     ]
    }
   ],
   "source": [
    "regex_html = re.compile(r\"<.*?>\")\n",
    "question_without_tag = remove_func(english_question, regex_html)\n",
    "print(question_without_tag)"
   ]
  },
  {
   "cell_type": "markdown",
   "metadata": {},
   "source": [
    "### Taking off the code using the HTML code "
   ]
  },
  {
   "cell_type": "code",
   "execution_count": 36,
   "metadata": {
    "colab": {},
    "colab_type": "code",
    "id": "aF3Peh78omT-",
    "outputId": "f806c801-2736-48f0-efaa-1355627cb7d1"
   },
   "outputs": [
    {
     "name": "stdout",
     "output_type": "stream",
     "text": [
      "<p>Here is a piece of C++ code that seems very peculiar. For some strange reason, sorting the data miraculously makes the code almost six times faster.</p>\n",
      "\n",
      "<pre class=\"lang-cpp prettyprint-override\"><code>#include &lt;algorithm&gt;\n",
      "#include &lt;ctime&gt;\n",
      "#include &lt;iostream&gt;\n",
      "\n",
      "int main()\n",
      "{\n",
      "    // Generate data\n",
      "    const unsigned arraySize = 32768;\n",
      "    int data[arraySize];\n",
      "\n",
      "    for (unsigned c = 0; c &lt; arraySize; ++c)\n",
      "        data[c] = std::rand() % 256;\n",
      "\n",
      "    // !!! With this, the next loop runs faster\n",
      "    std::sort(data, data + arraySize);\n",
      "\n",
      "    // Test\n",
      "    clock_t start = clock();\n",
      "    long long sum = 0;\n",
      "\n",
      "    for (unsigned i = 0; i &lt; 100000; ++i)\n",
      "    {\n",
      "        // Primary loop\n",
      "        for (unsigned c = 0; c &lt; arraySize; ++c)\n",
      "        {\n",
      "            if (data[c] &gt;= 128)\n",
      "                sum += data[c];\n",
      "        }\n",
      "    }\n",
      "\n",
      "    double elapsedTime = static_cast&lt;double&gt;(clock() - start) / CLOCKS_PER_SEC;\n",
      "\n",
      "    std::cout &lt;&lt; elapsedTime &lt;&lt; std::endl;\n",
      "    std::cout &lt;&lt; \"sum = \" &lt;&lt; sum &lt;&lt; std::endl;\n",
      "}\n",
      "</code></pre>\n",
      "\n",
      "<ul>\n",
      "<li>Without <code>std::sort(data, data + arraySize);</code>, the code runs in 11.54 seconds.</li>\n",
      "<li>With the sorted data, the code runs in 1.93 seconds.</li>\n",
      "</ul>\n",
      "\n",
      "<p>Initially, I thought this might be just a language or compiler anomaly. So I tried it in Java.</p>\n",
      "\n",
      "<pre class=\"lang-java prettyprint-override\"><code>import java.util.Arrays;\n",
      "import java.util.Random;\n",
      "\n",
      "public class Main\n",
      "{\n",
      "    public static void main(String[] args)\n",
      "    {\n",
      "        // Generate data\n",
      "        int arraySize = 32768;\n",
      "        int data[] = new int[arraySize];\n",
      "\n",
      "        Random rnd = new Random(0);\n",
      "        for (int c = 0; c &lt; arraySize; ++c)\n",
      "            data[c] = rnd.nextInt() % 256;\n",
      "\n",
      "        // !!! With this, the next loop runs faster\n",
      "        Arrays.sort(data);\n",
      "\n",
      "        // Test\n",
      "        long start = System.nanoTime();\n",
      "        long sum = 0;\n",
      "\n",
      "        for (int i = 0; i &lt; 100000; ++i)\n",
      "        {\n",
      "            // Primary loop\n",
      "            for (int c = 0; c &lt; arraySize; ++c)\n",
      "            {\n",
      "                if (data[c] &gt;= 128)\n",
      "                    sum += data[c];\n",
      "            }\n",
      "        }\n",
      "\n",
      "        System.out.println((System.nanoTime() - start) / 1000000000.0);\n",
      "        System.out.println(\"sum = \" + sum);\n",
      "    }\n",
      "}\n",
      "</code></pre>\n",
      "\n",
      "<p>With a somewhat similar but less extreme result.</p>\n",
      "\n",
      "<hr>\n",
      "\n",
      "<p>My first thought was that sorting brings the data into the cache, but then I thought how silly that is because the array was just generated.</p>\n",
      "\n",
      "<ul>\n",
      "<li>What is going on?</li>\n",
      "<li>Why is it faster to process a sorted array than an unsorted array?</li>\n",
      "<li>The code is summing up some independent terms, and the order should not matter.</li>\n",
      "</ul>\n",
      "\n"
     ]
    }
   ],
   "source": [
    "print(english_question)"
   ]
  },
  {
   "cell_type": "code",
   "execution_count": 13,
   "metadata": {
    "colab": {},
    "colab_type": "code",
    "id": "8pMa1Gc-omUN"
   },
   "outputs": [],
   "source": [
    "def substitute_code(texts, regex):\n",
    "    if type(texts) == str:\n",
    "        return regex.sub(\"CODE\", texts)\n",
    "    else:\n",
    "        return [regex.sub(\"CODE\", text) for text in texts]"
   ]
  },
  {
   "cell_type": "code",
   "execution_count": 14,
   "metadata": {
    "colab": {},
    "colab_type": "code",
    "id": "W-WMEeHVomUa",
    "outputId": "7c2652ed-d6a0-47db-a4e4-3cee427f74ed"
   },
   "outputs": [
    {
     "data": {
      "text/plain": [
       "'<p>Here is a piece of C++ code that seems very peculiar. For some strange reason, sorting the data miraculously makes the code almost six times faster.</p>\\n\\n<pre class=\"lang-cpp prettyprint-override\"><code>#include &lt;algorithm&gt;\\n#include &lt;ctime&gt;\\n#include &lt;iostream&gt;\\n\\nint main()\\n{\\n    // Generate data\\n    const unsigned arraySize = 32768;\\n    int data[arraySize];\\n\\n    for (unsigned c = 0; c &lt; arraySize; ++c)\\n        data[c] = std::rand() % 256;\\n\\n    // !!! With this, the next loop runs faster\\n    std::sort(data, data + arraySize);\\n\\n    // Test\\n    clock_t start = clock();\\n    long long sum = 0;\\n\\n    for (unsigned i = 0; i &lt; 100000; ++i)\\n    {\\n        // Primary loop\\n        for (unsigned c = 0; c &lt; arraySize; ++c)\\n        {\\n            if (data[c] &gt;= 128)\\n                sum += data[c];\\n        }\\n    }\\n\\n    double elapsedTime = static_cast&lt;double&gt;(clock() - start) / CLOCKS_PER_SEC;\\n\\n    std::cout &lt;&lt; elapsedTime &lt;&lt; std::endl;\\n    std::cout &lt;&lt; \"sum = \" &lt;&lt; sum &lt;&lt; std::endl;\\n}\\n</code></pre>\\n\\n<ul>\\n<li>Without <code>std::sort(data, data + arraySize);</code>, the code runs in 11.54 seconds.</li>\\n<li>With the sorted data, the code runs in 1.93 seconds.</li>\\n</ul>\\n\\n<p>Initially, I thought this might be just a language or compiler anomaly. So I tried it in Java.</p>\\n\\n<pre class=\"lang-java prettyprint-override\"><code>import java.util.Arrays;\\nimport java.util.Random;\\n\\npublic class Main\\n{\\n    public static void main(String[] args)\\n    {\\n        // Generate data\\n        int arraySize = 32768;\\n        int data[] = new int[arraySize];\\n\\n        Random rnd = new Random(0);\\n        for (int c = 0; c &lt; arraySize; ++c)\\n            data[c] = rnd.nextInt() % 256;\\n\\n        // !!! With this, the next loop runs faster\\n        Arrays.sort(data);\\n\\n        // Test\\n        long start = System.nanoTime();\\n        long sum = 0;\\n\\n        for (int i = 0; i &lt; 100000; ++i)\\n        {\\n            // Primary loop\\n            for (int c = 0; c &lt; arraySize; ++c)\\n            {\\n                if (data[c] &gt;= 128)\\n                    sum += data[c];\\n            }\\n        }\\n\\n        System.out.println((System.nanoTime() - start) / 1000000000.0);\\n        System.out.println(\"sum = \" + sum);\\n    }\\n}\\n</code></pre>\\n\\n<p>With a somewhat similar but less extreme result.</p>\\n\\n<hr>\\n\\n<p>My first thought was that sorting brings the data into the cache, but then I thought how silly that is because the array was just generated.</p>\\n\\n<ul>\\n<li>What is going on?</li>\\n<li>Why is it faster to process a sorted array than an unsorted array?</li>\\n<li>The code is summing up some independent terms, and the order should not matter.</li>\\n</ul>\\n'"
      ]
     },
     "execution_count": 14,
     "metadata": {},
     "output_type": "execute_result"
    }
   ],
   "source": [
    "english_question"
   ]
  },
  {
   "cell_type": "code",
   "execution_count": 15,
   "metadata": {
    "colab": {},
    "colab_type": "code",
    "id": "ozNa8YgComUj"
   },
   "outputs": [],
   "source": [
    "regex_code = re.compile(r\"<code>(.|(\\n))*?</code>\")"
   ]
  },
  {
   "cell_type": "code",
   "execution_count": 16,
   "metadata": {
    "colab": {},
    "colab_type": "code",
    "id": "Aon7hOmfomUs",
    "outputId": "38afa285-3e1c-4639-fef3-06a40501f0a3"
   },
   "outputs": [
    {
     "name": "stdout",
     "output_type": "stream",
     "text": [
      "<p>Las sentencias dinámicas son sentencias SQL que se crean como cadenas de texto (strings) y en las que se insertan/concatenan valores obtenidos de alguna fuente (normalmente proveniente del usuario), lo que puede hacer que sean vulnerables a inyección SQL si no se sanean las entradas, como por ejemplo:</p>\n",
      "\n",
      "<pre>CODE</pre>\n",
      "\n",
      "<p>Eso es un ejemplo de una vulnerabilidad grave en la seguridad de una aplicación (web o no) porque si el usuario introdujese un valor como CODE nos encontraríamos con que la sentencia ejecutada sería:</p>\n",
      "\n",
      "<pre>CODE</pre>\n",
      "\n",
      "<p>Y se eliminaría la tabla Usuarios con todos los datos contenidos en ella. </p>\n",
      "\n",
      "<p><strong>¿Cómo puedo evitar que la inyección SQL ocurra en PHP?</strong></p>\n",
      "\n"
     ]
    }
   ],
   "source": [
    "question_without_code = substitute_code(spanish_question,regex_code)\n",
    "print(question_without_code)"
   ]
  },
  {
   "cell_type": "code",
   "execution_count": 17,
   "metadata": {
    "colab": {},
    "colab_type": "code",
    "id": "aIC1wfNlomU4",
    "outputId": "867eaf15-0b52-4388-a51e-6c34238fed53"
   },
   "outputs": [
    {
     "data": {
      "text/html": [
       "<div>\n",
       "<style scoped>\n",
       "    .dataframe tbody tr th:only-of-type {\n",
       "        vertical-align: middle;\n",
       "    }\n",
       "\n",
       "    .dataframe tbody tr th {\n",
       "        vertical-align: top;\n",
       "    }\n",
       "\n",
       "    .dataframe thead th {\n",
       "        text-align: right;\n",
       "    }\n",
       "</style>\n",
       "<table border=\"1\" class=\"dataframe\">\n",
       "  <thead>\n",
       "    <tr style=\"text-align: right;\">\n",
       "      <th></th>\n",
       "      <th>Id</th>\n",
       "      <th>Título</th>\n",
       "      <th>Questão</th>\n",
       "      <th>Tags</th>\n",
       "      <th>Pontuação</th>\n",
       "      <th>Visualizações</th>\n",
       "    </tr>\n",
       "  </thead>\n",
       "  <tbody>\n",
       "    <tr>\n",
       "      <th>0</th>\n",
       "      <td>2402</td>\n",
       "      <td>Como fazer hash de senhas de forma segura?</td>\n",
       "      <td>&lt;p&gt;Se eu fizer o &lt;em&gt;&lt;a href=\"http://pt.wikipe...</td>\n",
       "      <td>&lt;hash&gt;&lt;segurança&gt;&lt;senhas&gt;&lt;criptografia&gt;</td>\n",
       "      <td>350</td>\n",
       "      <td>22367</td>\n",
       "    </tr>\n",
       "    <tr>\n",
       "      <th>1</th>\n",
       "      <td>6441</td>\n",
       "      <td>Qual é a diferença entre INNER JOIN e OUTER JOIN?</td>\n",
       "      <td>&lt;p&gt;Qual é a diferença entre &lt;code&gt;INNER JOIN&lt;/...</td>\n",
       "      <td>&lt;sql&gt;&lt;join&gt;</td>\n",
       "      <td>276</td>\n",
       "      <td>176953</td>\n",
       "    </tr>\n",
       "    <tr>\n",
       "      <th>2</th>\n",
       "      <td>579</td>\n",
       "      <td>Por que não devemos usar funções do tipo mysql_*?</td>\n",
       "      <td>&lt;p&gt;Uma dúvida muito comum é por que devemos pa...</td>\n",
       "      <td>&lt;php&gt;&lt;mysql&gt;</td>\n",
       "      <td>226</td>\n",
       "      <td>9761</td>\n",
       "    </tr>\n",
       "    <tr>\n",
       "      <th>3</th>\n",
       "      <td>2539</td>\n",
       "      <td>As mensagens de erro devem se desculpar?</td>\n",
       "      <td>&lt;p&gt;É comum encontrar uma mensagem de erro que ...</td>\n",
       "      <td>&lt;aplicação-web&gt;&lt;gui&gt;&lt;console&gt;&lt;ux&gt;</td>\n",
       "      <td>214</td>\n",
       "      <td>5075</td>\n",
       "    </tr>\n",
       "    <tr>\n",
       "      <th>4</th>\n",
       "      <td>17501</td>\n",
       "      <td>Qual é a diferença de API, biblioteca e Framew...</td>\n",
       "      <td>&lt;p&gt;Me parecem termos muito próximos e eventual...</td>\n",
       "      <td>&lt;api&gt;&lt;framework&gt;&lt;terminologia&gt;&lt;biblioteca&gt;</td>\n",
       "      <td>193</td>\n",
       "      <td>54191</td>\n",
       "    </tr>\n",
       "  </tbody>\n",
       "</table>\n",
       "</div>"
      ],
      "text/plain": [
       "      Id                                             Título  \\\n",
       "0   2402         Como fazer hash de senhas de forma segura?   \n",
       "1   6441  Qual é a diferença entre INNER JOIN e OUTER JOIN?   \n",
       "2    579  Por que não devemos usar funções do tipo mysql_*?   \n",
       "3   2539           As mensagens de erro devem se desculpar?   \n",
       "4  17501  Qual é a diferença de API, biblioteca e Framew...   \n",
       "\n",
       "                                             Questão  \\\n",
       "0  <p>Se eu fizer o <em><a href=\"http://pt.wikipe...   \n",
       "1  <p>Qual é a diferença entre <code>INNER JOIN</...   \n",
       "2  <p>Uma dúvida muito comum é por que devemos pa...   \n",
       "3  <p>É comum encontrar uma mensagem de erro que ...   \n",
       "4  <p>Me parecem termos muito próximos e eventual...   \n",
       "\n",
       "                                         Tags  Pontuação  Visualizações  \n",
       "0     <hash><segurança><senhas><criptografia>        350          22367  \n",
       "1                                 <sql><join>        276         176953  \n",
       "2                                <php><mysql>        226           9761  \n",
       "3           <aplicação-web><gui><console><ux>        214           5075  \n",
       "4  <api><framework><terminologia><biblioteca>        193          54191  "
      ]
     },
     "execution_count": 17,
     "metadata": {},
     "output_type": "execute_result"
    }
   ],
   "source": [
    "portuguese_data.head()"
   ]
  },
  {
   "cell_type": "code",
   "execution_count": 18,
   "metadata": {
    "colab": {},
    "colab_type": "code",
    "id": "PY63Q7W_omVE"
   },
   "outputs": [],
   "source": [
    "questions_port_without_code = substitute_code(\n",
    "    portuguese_data.Questão,\n",
    "    regex_code\n",
    ")\n",
    "\n",
    "questions_port_without_code_tag = remove_func(\n",
    "    questions_port_without_code,\n",
    "    regex_html\n",
    ")\n",
    "\n",
    "portuguese_data[\"without_code_tag\"] = questions_port_without_code_tag"
   ]
  },
  {
   "cell_type": "code",
   "execution_count": 19,
   "metadata": {
    "colab": {},
    "colab_type": "code",
    "id": "f9Fd4dw0omVN",
    "outputId": "953c7503-6ecf-4dd6-f8dc-900c2f5155f6"
   },
   "outputs": [
    {
     "data": {
      "text/html": [
       "<div>\n",
       "<style scoped>\n",
       "    .dataframe tbody tr th:only-of-type {\n",
       "        vertical-align: middle;\n",
       "    }\n",
       "\n",
       "    .dataframe tbody tr th {\n",
       "        vertical-align: top;\n",
       "    }\n",
       "\n",
       "    .dataframe thead th {\n",
       "        text-align: right;\n",
       "    }\n",
       "</style>\n",
       "<table border=\"1\" class=\"dataframe\">\n",
       "  <thead>\n",
       "    <tr style=\"text-align: right;\">\n",
       "      <th></th>\n",
       "      <th>Id</th>\n",
       "      <th>Título</th>\n",
       "      <th>Questão</th>\n",
       "      <th>Tags</th>\n",
       "      <th>Pontuação</th>\n",
       "      <th>Visualizações</th>\n",
       "      <th>without_code_tag</th>\n",
       "    </tr>\n",
       "  </thead>\n",
       "  <tbody>\n",
       "    <tr>\n",
       "      <th>0</th>\n",
       "      <td>2402</td>\n",
       "      <td>Como fazer hash de senhas de forma segura?</td>\n",
       "      <td>&lt;p&gt;Se eu fizer o &lt;em&gt;&lt;a href=\"http://pt.wikipe...</td>\n",
       "      <td>&lt;hash&gt;&lt;segurança&gt;&lt;senhas&gt;&lt;criptografia&gt;</td>\n",
       "      <td>350</td>\n",
       "      <td>22367</td>\n",
       "      <td>Se eu fizer o hash de senhas antes de armazená...</td>\n",
       "    </tr>\n",
       "    <tr>\n",
       "      <th>1</th>\n",
       "      <td>6441</td>\n",
       "      <td>Qual é a diferença entre INNER JOIN e OUTER JOIN?</td>\n",
       "      <td>&lt;p&gt;Qual é a diferença entre &lt;code&gt;INNER JOIN&lt;/...</td>\n",
       "      <td>&lt;sql&gt;&lt;join&gt;</td>\n",
       "      <td>276</td>\n",
       "      <td>176953</td>\n",
       "      <td>Qual é a diferença entre CODE e CODE? Podem me...</td>\n",
       "    </tr>\n",
       "    <tr>\n",
       "      <th>2</th>\n",
       "      <td>579</td>\n",
       "      <td>Por que não devemos usar funções do tipo mysql_*?</td>\n",
       "      <td>&lt;p&gt;Uma dúvida muito comum é por que devemos pa...</td>\n",
       "      <td>&lt;php&gt;&lt;mysql&gt;</td>\n",
       "      <td>226</td>\n",
       "      <td>9761</td>\n",
       "      <td>Uma dúvida muito comum é por que devemos parar...</td>\n",
       "    </tr>\n",
       "    <tr>\n",
       "      <th>3</th>\n",
       "      <td>2539</td>\n",
       "      <td>As mensagens de erro devem se desculpar?</td>\n",
       "      <td>&lt;p&gt;É comum encontrar uma mensagem de erro que ...</td>\n",
       "      <td>&lt;aplicação-web&gt;&lt;gui&gt;&lt;console&gt;&lt;ux&gt;</td>\n",
       "      <td>214</td>\n",
       "      <td>5075</td>\n",
       "      <td>É comum encontrar uma mensagem de erro que diz...</td>\n",
       "    </tr>\n",
       "    <tr>\n",
       "      <th>4</th>\n",
       "      <td>17501</td>\n",
       "      <td>Qual é a diferença de API, biblioteca e Framew...</td>\n",
       "      <td>&lt;p&gt;Me parecem termos muito próximos e eventual...</td>\n",
       "      <td>&lt;api&gt;&lt;framework&gt;&lt;terminologia&gt;&lt;biblioteca&gt;</td>\n",
       "      <td>193</td>\n",
       "      <td>54191</td>\n",
       "      <td>Me parecem termos muito próximos e eventualmen...</td>\n",
       "    </tr>\n",
       "  </tbody>\n",
       "</table>\n",
       "</div>"
      ],
      "text/plain": [
       "      Id                                             Título  \\\n",
       "0   2402         Como fazer hash de senhas de forma segura?   \n",
       "1   6441  Qual é a diferença entre INNER JOIN e OUTER JOIN?   \n",
       "2    579  Por que não devemos usar funções do tipo mysql_*?   \n",
       "3   2539           As mensagens de erro devem se desculpar?   \n",
       "4  17501  Qual é a diferença de API, biblioteca e Framew...   \n",
       "\n",
       "                                             Questão  \\\n",
       "0  <p>Se eu fizer o <em><a href=\"http://pt.wikipe...   \n",
       "1  <p>Qual é a diferença entre <code>INNER JOIN</...   \n",
       "2  <p>Uma dúvida muito comum é por que devemos pa...   \n",
       "3  <p>É comum encontrar uma mensagem de erro que ...   \n",
       "4  <p>Me parecem termos muito próximos e eventual...   \n",
       "\n",
       "                                         Tags  Pontuação  Visualizações  \\\n",
       "0     <hash><segurança><senhas><criptografia>        350          22367   \n",
       "1                                 <sql><join>        276         176953   \n",
       "2                                <php><mysql>        226           9761   \n",
       "3           <aplicação-web><gui><console><ux>        214           5075   \n",
       "4  <api><framework><terminologia><biblioteca>        193          54191   \n",
       "\n",
       "                                    without_code_tag  \n",
       "0  Se eu fizer o hash de senhas antes de armazená...  \n",
       "1  Qual é a diferença entre CODE e CODE? Podem me...  \n",
       "2  Uma dúvida muito comum é por que devemos parar...  \n",
       "3  É comum encontrar uma mensagem de erro que diz...  \n",
       "4  Me parecem termos muito próximos e eventualmen...  "
      ]
     },
     "execution_count": 19,
     "metadata": {},
     "output_type": "execute_result"
    }
   ],
   "source": [
    "portuguese_data.head()"
   ]
  },
  {
   "cell_type": "code",
   "execution_count": 20,
   "metadata": {
    "colab": {},
    "colab_type": "code",
    "id": "eDqY5bgOomVU",
    "outputId": "07173867-20fe-4732-9c99-b83b7660b8f5"
   },
   "outputs": [
    {
     "data": {
      "text/html": [
       "<div>\n",
       "<style scoped>\n",
       "    .dataframe tbody tr th:only-of-type {\n",
       "        vertical-align: middle;\n",
       "    }\n",
       "\n",
       "    .dataframe tbody tr th {\n",
       "        vertical-align: top;\n",
       "    }\n",
       "\n",
       "    .dataframe thead th {\n",
       "        text-align: right;\n",
       "    }\n",
       "</style>\n",
       "<table border=\"1\" class=\"dataframe\">\n",
       "  <thead>\n",
       "    <tr style=\"text-align: right;\">\n",
       "      <th></th>\n",
       "      <th>Id</th>\n",
       "      <th>Título</th>\n",
       "      <th>Questão</th>\n",
       "      <th>Tags</th>\n",
       "      <th>Pontuação</th>\n",
       "      <th>Visualizações</th>\n",
       "      <th>without_code_tag</th>\n",
       "    </tr>\n",
       "  </thead>\n",
       "  <tbody>\n",
       "    <tr>\n",
       "      <th>0</th>\n",
       "      <td>11227809</td>\n",
       "      <td>Why is it faster to process a sorted array tha...</td>\n",
       "      <td>&lt;p&gt;Here is a piece of C++ code that seems very...</td>\n",
       "      <td>&lt;java&gt;&lt;c++&gt;&lt;performance&gt;&lt;optimization&gt;&lt;branch-...</td>\n",
       "      <td>23057</td>\n",
       "      <td>1358574</td>\n",
       "      <td>Here is a piece of C++ code that seems very pe...</td>\n",
       "    </tr>\n",
       "    <tr>\n",
       "      <th>1</th>\n",
       "      <td>927358</td>\n",
       "      <td>How do I undo the most recent local commits in...</td>\n",
       "      <td>&lt;p&gt;I accidentally committed the wrong files to...</td>\n",
       "      <td>&lt;git&gt;&lt;version-control&gt;&lt;git-commit&gt;&lt;undo&gt;</td>\n",
       "      <td>19640</td>\n",
       "      <td>7906137</td>\n",
       "      <td>I accidentally committed the wrong files to Gi...</td>\n",
       "    </tr>\n",
       "    <tr>\n",
       "      <th>2</th>\n",
       "      <td>2003505</td>\n",
       "      <td>How do I delete a Git branch locally and remot...</td>\n",
       "      <td>&lt;p&gt;I want to delete a branch both locally and ...</td>\n",
       "      <td>&lt;git&gt;&lt;git-branch&gt;&lt;git-remote&gt;</td>\n",
       "      <td>15249</td>\n",
       "      <td>6940906</td>\n",
       "      <td>I want to delete a branch both locally and rem...</td>\n",
       "    </tr>\n",
       "    <tr>\n",
       "      <th>3</th>\n",
       "      <td>292357</td>\n",
       "      <td>What is the difference between 'git pull' and ...</td>\n",
       "      <td>&lt;blockquote&gt;\\n  &lt;p&gt;&lt;strong&gt;Moderator Note:&lt;/st...</td>\n",
       "      <td>&lt;git&gt;&lt;git-pull&gt;&lt;git-fetch&gt;</td>\n",
       "      <td>11008</td>\n",
       "      <td>2543052</td>\n",
       "      <td>\\n  Moderator Note: Given that this question h...</td>\n",
       "    </tr>\n",
       "    <tr>\n",
       "      <th>4</th>\n",
       "      <td>477816</td>\n",
       "      <td>What is the correct JSON content type?</td>\n",
       "      <td>&lt;p&gt;I've been messing around with &lt;a href=\"http...</td>\n",
       "      <td>&lt;json&gt;&lt;http-headers&gt;&lt;content-type&gt;</td>\n",
       "      <td>9701</td>\n",
       "      <td>2478940</td>\n",
       "      <td>I've been messing around with JSON for some ti...</td>\n",
       "    </tr>\n",
       "  </tbody>\n",
       "</table>\n",
       "</div>"
      ],
      "text/plain": [
       "         Id                                             Título  \\\n",
       "0  11227809  Why is it faster to process a sorted array tha...   \n",
       "1    927358  How do I undo the most recent local commits in...   \n",
       "2   2003505  How do I delete a Git branch locally and remot...   \n",
       "3    292357  What is the difference between 'git pull' and ...   \n",
       "4    477816             What is the correct JSON content type?   \n",
       "\n",
       "                                             Questão  \\\n",
       "0  <p>Here is a piece of C++ code that seems very...   \n",
       "1  <p>I accidentally committed the wrong files to...   \n",
       "2  <p>I want to delete a branch both locally and ...   \n",
       "3  <blockquote>\\n  <p><strong>Moderator Note:</st...   \n",
       "4  <p>I've been messing around with <a href=\"http...   \n",
       "\n",
       "                                                Tags  Pontuação  \\\n",
       "0  <java><c++><performance><optimization><branch-...      23057   \n",
       "1           <git><version-control><git-commit><undo>      19640   \n",
       "2                      <git><git-branch><git-remote>      15249   \n",
       "3                         <git><git-pull><git-fetch>      11008   \n",
       "4                 <json><http-headers><content-type>       9701   \n",
       "\n",
       "   Visualizações                                   without_code_tag  \n",
       "0        1358574  Here is a piece of C++ code that seems very pe...  \n",
       "1        7906137  I accidentally committed the wrong files to Gi...  \n",
       "2        6940906  I want to delete a branch both locally and rem...  \n",
       "3        2543052  \\n  Moderator Note: Given that this question h...  \n",
       "4        2478940  I've been messing around with JSON for some ti...  "
      ]
     },
     "execution_count": 20,
     "metadata": {},
     "output_type": "execute_result"
    }
   ],
   "source": [
    "questions_ing_without_code = substitute_code(\n",
    "    english_data.Questão,\n",
    "    regex_code\n",
    ")\n",
    "\n",
    "questions_ing_without_code_tag = remove_func(\n",
    "    questions_ing_without_code,\n",
    "    regex_html\n",
    ")\n",
    "\n",
    "english_data[\"without_code_tag\"] = questions_ing_without_code_tag\n",
    "english_data.head()"
   ]
  },
  {
   "cell_type": "code",
   "execution_count": 21,
   "metadata": {
    "colab": {},
    "colab_type": "code",
    "id": "YLNIsRoiomVf",
    "outputId": "773fe7a6-9a01-4f59-c917-e03f606d1712"
   },
   "outputs": [
    {
     "data": {
      "text/html": [
       "<div>\n",
       "<style scoped>\n",
       "    .dataframe tbody tr th:only-of-type {\n",
       "        vertical-align: middle;\n",
       "    }\n",
       "\n",
       "    .dataframe tbody tr th {\n",
       "        vertical-align: top;\n",
       "    }\n",
       "\n",
       "    .dataframe thead th {\n",
       "        text-align: right;\n",
       "    }\n",
       "</style>\n",
       "<table border=\"1\" class=\"dataframe\">\n",
       "  <thead>\n",
       "    <tr style=\"text-align: right;\">\n",
       "      <th></th>\n",
       "      <th>Id</th>\n",
       "      <th>Título</th>\n",
       "      <th>Questão</th>\n",
       "      <th>Tags</th>\n",
       "      <th>Pontuação</th>\n",
       "      <th>Visualizações</th>\n",
       "      <th>without_code_tag</th>\n",
       "    </tr>\n",
       "  </thead>\n",
       "  <tbody>\n",
       "    <tr>\n",
       "      <th>0</th>\n",
       "      <td>18232</td>\n",
       "      <td>¿Cómo evitar la inyección SQL en PHP?</td>\n",
       "      <td>&lt;p&gt;Las sentencias dinámicas son sentencias SQL...</td>\n",
       "      <td>&lt;php&gt;&lt;mysql&gt;&lt;sql&gt;&lt;seguridad&gt;&lt;inyección-sql&gt;</td>\n",
       "      <td>169</td>\n",
       "      <td>38614</td>\n",
       "      <td>Las sentencias dinámicas son sentencias SQL qu...</td>\n",
       "    </tr>\n",
       "    <tr>\n",
       "      <th>1</th>\n",
       "      <td>197</td>\n",
       "      <td>¿Por qué mis programas no pueden hacer cálculo...</td>\n",
       "      <td>&lt;p&gt;Unas veces los cálculos funcionan correctam...</td>\n",
       "      <td>&lt;matemáticas&gt;&lt;coma-flotante&gt;&lt;lenguaje-agnóstico&gt;</td>\n",
       "      <td>141</td>\n",
       "      <td>3860</td>\n",
       "      <td>Unas veces los cálculos funcionan correctament...</td>\n",
       "    </tr>\n",
       "    <tr>\n",
       "      <th>2</th>\n",
       "      <td>36</td>\n",
       "      <td>¿Cuál es la diferencia entre un inner y un out...</td>\n",
       "      <td>&lt;p&gt;¿Cuál es la diferencia entre un &lt;code&gt;inner...</td>\n",
       "      <td>&lt;mysql&gt;&lt;sql&gt;&lt;join&gt;</td>\n",
       "      <td>97</td>\n",
       "      <td>53627</td>\n",
       "      <td>¿Cuál es la diferencia entre un CODE y un CODE...</td>\n",
       "    </tr>\n",
       "    <tr>\n",
       "      <th>3</th>\n",
       "      <td>29177</td>\n",
       "      <td>¿Por qué es considerado una mala práctica util...</td>\n",
       "      <td>&lt;p&gt;La mayoría de nosotros decimos, (muchas vec...</td>\n",
       "      <td>&lt;variables&gt;&lt;variables-globales&gt;&lt;patrones-de-di...</td>\n",
       "      <td>89</td>\n",
       "      <td>9987</td>\n",
       "      <td>La mayoría de nosotros decimos, (muchas veces ...</td>\n",
       "    </tr>\n",
       "    <tr>\n",
       "      <th>4</th>\n",
       "      <td>142</td>\n",
       "      <td>Validar un email en JavaScript que acepte todo...</td>\n",
       "      <td>&lt;h3&gt;Pregunta&lt;/h3&gt;\\n\\n&lt;p&gt;¿Cómo validar un e-mai...</td>\n",
       "      <td>&lt;javascript&gt;&lt;validación&gt;&lt;email&gt;&lt;regex&gt;</td>\n",
       "      <td>87</td>\n",
       "      <td>73129</td>\n",
       "      <td>Pregunta\\n\\n¿Cómo validar un e-mail que acepte...</td>\n",
       "    </tr>\n",
       "  </tbody>\n",
       "</table>\n",
       "</div>"
      ],
      "text/plain": [
       "      Id                                             Título  \\\n",
       "0  18232              ¿Cómo evitar la inyección SQL en PHP?   \n",
       "1    197  ¿Por qué mis programas no pueden hacer cálculo...   \n",
       "2     36  ¿Cuál es la diferencia entre un inner y un out...   \n",
       "3  29177  ¿Por qué es considerado una mala práctica util...   \n",
       "4    142  Validar un email en JavaScript que acepte todo...   \n",
       "\n",
       "                                             Questão  \\\n",
       "0  <p>Las sentencias dinámicas son sentencias SQL...   \n",
       "1  <p>Unas veces los cálculos funcionan correctam...   \n",
       "2  <p>¿Cuál es la diferencia entre un <code>inner...   \n",
       "3  <p>La mayoría de nosotros decimos, (muchas vec...   \n",
       "4  <h3>Pregunta</h3>\\n\\n<p>¿Cómo validar un e-mai...   \n",
       "\n",
       "                                                Tags  Pontuação  \\\n",
       "0        <php><mysql><sql><seguridad><inyección-sql>        169   \n",
       "1   <matemáticas><coma-flotante><lenguaje-agnóstico>        141   \n",
       "2                                 <mysql><sql><join>         97   \n",
       "3  <variables><variables-globales><patrones-de-di...         89   \n",
       "4             <javascript><validación><email><regex>         87   \n",
       "\n",
       "   Visualizações                                   without_code_tag  \n",
       "0          38614  Las sentencias dinámicas son sentencias SQL qu...  \n",
       "1           3860  Unas veces los cálculos funcionan correctament...  \n",
       "2          53627  ¿Cuál es la diferencia entre un CODE y un CODE...  \n",
       "3           9987  La mayoría de nosotros decimos, (muchas veces ...  \n",
       "4          73129  Pregunta\\n\\n¿Cómo validar un e-mail que acepte...  "
      ]
     },
     "execution_count": 21,
     "metadata": {},
     "output_type": "execute_result"
    }
   ],
   "source": [
    "questions_span_without_code = substitute_code(\n",
    "    spanish_data.Questão,\n",
    "    regex_code\n",
    ")\n",
    "\n",
    "questions_span_without_code_tag = remove_func(\n",
    "    questions_span_without_code,\n",
    "    regex_html\n",
    ")\n",
    "\n",
    "spanish_data[\"without_code_tag\"] = questions_span_without_code_tag\n",
    "spanish_data.head()"
   ]
  },
  {
   "cell_type": "code",
   "execution_count": 22,
   "metadata": {
    "colab": {},
    "colab_type": "code",
    "id": "3hiAooQwomVn",
    "outputId": "8440eaea-e07e-4b53-8e27-72b47778dd43",
    "scrolled": true
   },
   "outputs": [
    {
     "data": {
      "text/plain": [
       "'Las sentencias dinámicas son sentencias SQL que se crean como cadenas de texto (strings) y en las que se insertan/concatenan valores obtenidos de alguna fuente (normalmente proveniente del usuario), lo que puede hacer que sean vulnerables a inyección SQL si no se sanean las entradas, como por ejemplo:\\n\\nCODE\\n\\nEso es un ejemplo de una vulnerabilidad grave en la seguridad de una aplicación (web o no) porque si el usuario introdujese un valor como CODE nos encontraríamos con que la sentencia ejecutada sería:\\n\\nCODE\\n\\nY se eliminaría la tabla Usuarios con todos los datos contenidos en ella. \\n\\n¿Cómo puedo evitar que la inyección SQL ocurra en PHP?\\n'"
      ]
     },
     "execution_count": 22,
     "metadata": {},
     "output_type": "execute_result"
    }
   ],
   "source": [
    "spanish_data.without_code_tag[0]"
   ]
  },
  {
   "cell_type": "code",
   "execution_count": 23,
   "metadata": {},
   "outputs": [
    {
     "name": "stdout",
     "output_type": "stream",
     "text": [
      "Las sentencias dinámicas son sentencias SQL que se crean como cadenas de texto (strings) y en las que se insertan/concatenan valores obtenidos de alguna fuente (normalmente proveniente del usuario), lo que puede hacer que sean vulnerables a inyección SQL si no se sanean las entradas, como por ejemplo:\n",
      "\n",
      "CODE\n",
      "\n",
      "Eso es un ejemplo de una vulnerabilidad grave en la seguridad de una aplicación (web o no) porque si el usuario introdujese un valor como CODE nos encontraríamos con que la sentencia ejecutada sería:\n",
      "\n",
      "CODE\n",
      "\n",
      "Y se eliminaría la tabla Usuarios con todos los datos contenidos en ella. \n",
      "\n",
      "¿Cómo puedo evitar que la inyección SQL ocurra en PHP?\n",
      "\n"
     ]
    }
   ],
   "source": [
    "print(spanish_data.without_code_tag[0])"
   ]
  },
  {
   "cell_type": "markdown",
   "metadata": {
    "colab_type": "text",
    "id": "Obmk_5vkzEnS"
   },
   "source": [
    "## Removing the digits and the punctuation"
   ]
  },
  {
   "cell_type": "code",
   "execution_count": 24,
   "metadata": {},
   "outputs": [
    {
     "name": "stdout",
     "output_type": "stream",
     "text": [
      "LassentenciasdinámicassonsentenciasSQLquesecreancomocadenasdetextostringsyenlasqueseinsertanconcatenanvaloresobtenidosdealgunafuentenormalmenteprovenientedelusuarioloquepuedehacerqueseanvulnerablesainyecciónSQLsinosesaneanlasentradascomoporejemploCODEEsoesunejemplodeunavulnerabilidadgraveenlaseguridaddeunaaplicaciónwebonoporquesielusuariointrodujeseunvalorcomoCODEnosencontraríamosconquelasentenciaejecutadaseríaCODEYseeliminaríalatablaUsuarioscontodoslosdatoscontenidosenellaCómopuedoevitarquelainyecciónSQLocurraenPHP\n"
     ]
    }
   ],
   "source": [
    "regex_punctutation = re.compile(r\"[^\\w]\")\n",
    "print(remove_func(questions_span_without_code_tag[0], regex_punctutation))"
   ]
  },
  {
   "cell_type": "code",
   "execution_count": 25,
   "metadata": {
    "colab": {},
    "colab_type": "code",
    "id": "sRAouLjAomVs",
    "outputId": "e4fa5943-0743-45c3-da2a-2b7a82b2a58b"
   },
   "outputs": [
    {
     "name": "stdout",
     "output_type": "stream",
     "text": [
      "Las sentencias dinámicas son sentencias SQL que se crean como cadenas de texto strings y en las que se insertanconcatenan valores obtenidos de alguna fuente normalmente proveniente del usuario lo que puede hacer que sean vulnerables a inyección SQL si no se sanean las entradas como por ejemplo\n",
      "\n",
      "CODE\n",
      "\n",
      "Eso es un ejemplo de una vulnerabilidad grave en la seguridad de una aplicación web o no porque si el usuario introdujese un valor como CODE nos encontraríamos con que la sentencia ejecutada sería\n",
      "\n",
      "CODE\n",
      "\n",
      "Y se eliminaría la tabla Usuarios con todos los datos contenidos en ella \n",
      "\n",
      "Cómo puedo evitar que la inyección SQL ocurra en PHP\n",
      "\n"
     ]
    }
   ],
   "source": [
    "regex_punctutation = re.compile(r\"[^\\w\\s]\")\n",
    "print(remove_func(questions_span_without_code_tag[0], regex_punctutation))"
   ]
  },
  {
   "cell_type": "markdown",
   "metadata": {},
   "source": [
    "### Normalizing the text"
   ]
  },
  {
   "cell_type": "code",
   "execution_count": 26,
   "metadata": {
    "colab": {},
    "colab_type": "code",
    "id": "3ThZWGNAomV4",
    "outputId": "82580e26-c7e9-4b31-995b-a6c7d6417686"
   },
   "outputs": [
    {
     "name": "stdout",
     "output_type": "stream",
     "text": [
      "las sentencias dinámicas son sentencias sql que se crean como cadenas de texto (strings) y en las que se insertan/concatenan valores obtenidos de alguna fuente (normalmente proveniente del usuario), lo que puede hacer que sean vulnerables a inyección sql si no se sanean las entradas, como por ejemplo:\n",
      "\n",
      "code\n",
      "\n",
      "eso es un ejemplo de una vulnerabilidad grave en la seguridad de una aplicación (web o no) porque si el usuario introdujese un valor como code nos encontraríamos con que la sentencia ejecutada sería:\n",
      "\n",
      "code\n",
      "\n",
      "y se eliminaría la tabla usuarios con todos los datos contenidos en ella. \n",
      "\n",
      "¿cómo puedo evitar que la inyección sql ocurra en php?\n",
      "\n"
     ]
    }
   ],
   "source": [
    "def lower_case(texts):\n",
    "    if type(texts) == str:\n",
    "        return texts.lower()\n",
    "    else:\n",
    "        return [text.lower() for text in texts]\n",
    "print(lower_case(questions_span_without_code_tag[0]))"
   ]
  },
  {
   "cell_type": "code",
   "execution_count": 27,
   "metadata": {
    "colab": {},
    "colab_type": "code",
    "id": "z_z3MGHeomV_",
    "outputId": "de37cacb-a2c2-44ef-e731-2ec0a58bbb23"
   },
   "outputs": [
    {
     "name": "stdout",
     "output_type": "stream",
     "text": [
      "Alura \n",
      "  Caelum \n"
     ]
    }
   ],
   "source": [
    "regex_digits = re.compile(r\"\\d+\")\n",
    "print(remove_func(\"Alura \\n 1234 Caelum 1234\", regex_digits))"
   ]
  },
  {
   "cell_type": "markdown",
   "metadata": {},
   "source": [
    "### Substitute whitespaces"
   ]
  },
  {
   "cell_type": "code",
   "execution_count": 28,
   "metadata": {
    "colab": {},
    "colab_type": "code",
    "id": "qzvT7b0zomWF",
    "outputId": "bf6a39f1-718d-4f07-a521-bec6e59be955"
   },
   "outputs": [],
   "source": [
    "def substitute_for_whitespace(texts, regex):\n",
    "    if type(texts) == str:\n",
    "        return regex.sub(\" \", texts)\n",
    "    else:\n",
    "        return [regex.sub(\" \", text) for text in texts]"
   ]
  },
  {
   "cell_type": "code",
   "execution_count": 29,
   "metadata": {},
   "outputs": [
    {
     "name": "stdout",
     "output_type": "stream",
     "text": [
      "Alura \n",
      " \n",
      " Caleum\n"
     ]
    }
   ],
   "source": [
    "regex_space = re.compile(r\" +\")\n",
    "print(substitute_for_whitespace(\"Alura \\n \\n     Caleum\", regex_space))"
   ]
  },
  {
   "cell_type": "code",
   "execution_count": 30,
   "metadata": {},
   "outputs": [
    {
     "name": "stdout",
     "output_type": "stream",
     "text": [
      "Alura         Caleum\n"
     ]
    }
   ],
   "source": [
    "regex_newline = re.compile(r\"(\\n)\") \n",
    "print(substitute_for_whitespace(\"Alura \\n \\n     Caleum\", regex_newline))"
   ]
  },
  {
   "cell_type": "markdown",
   "metadata": {},
   "source": [
    "## Applying all the filters for portuguese, english and spanish texts"
   ]
  },
  {
   "cell_type": "code",
   "execution_count": 31,
   "metadata": {},
   "outputs": [],
   "source": [
    "def remove_func(texts, regex):\n",
    "    if type(texts) == str:\n",
    "        return regex.sub(\"\", texts) \n",
    "    else:\n",
    "        return [regex.sub(\"\", text) for text in texts]\n",
    "\n",
    "def lower_case(texts):\n",
    "    if type(texts) == str:\n",
    "        return texts.lower()\n",
    "    else:\n",
    "        return [text.lower() for text in texts]\n",
    "\n",
    "def substitute_for_whitespace(texts, regex):\n",
    "    if type(texts) == str:\n",
    "        return regex.sub(\" \", texts)\n",
    "    else:\n",
    "        return [regex.sub(\" \", text) for text in texts]"
   ]
  },
  {
   "cell_type": "code",
   "execution_count": 33,
   "metadata": {
    "colab": {},
    "colab_type": "code",
    "id": "sIc25wcXomWN"
   },
   "outputs": [],
   "source": [
    "# Portuguese texts\n",
    "\n",
    "# Removing the punctuation\n",
    "regex_punctutation = re.compile(r\"[^\\w\\s]\")\n",
    "questions_port_without_punct = remove_func(\n",
    "    portuguese_data.without_code_tag, \n",
    "    regex_punctutation\n",
    ")\n",
    "\n",
    "# Normalizing the text\n",
    "questions_port_without_punct_lower = lower_case(questions_port_without_punct)\n",
    "\n",
    "# Removing the digits\n",
    "regex_digits = re.compile(r\"\\d+\")\n",
    "questions_port_without_punct_lower_dig = remove_func(\n",
    "    questions_port_without_punct_lower,\n",
    "    regex_digits\n",
    ")\n",
    "\n",
    "# Removing the newlines\n",
    "regex_newline = re.compile(r\"(\\n)\") \n",
    "questions_port_without_newline = substitute_for_whitespace(\n",
    "    questions_port_without_punct_lower_dig,\n",
    "    regex_newline\n",
    ")\n",
    "\n",
    "# Removing unnecessary spaces\n",
    "regex_space = re.compile(r\" +\")\n",
    "questions_port_without_whitespaces_duplicated = substitute_for_whitespace(\n",
    "    questions_port_without_newline,\n",
    "    regex_space\n",
    ")\n",
    "\n",
    "portuguese_data[\"preprocessed_questions\"] = questions_port_without_whitespaces_duplicated"
   ]
  },
  {
   "cell_type": "code",
   "execution_count": 34,
   "metadata": {
    "colab": {},
    "colab_type": "code",
    "id": "jcAddCcHomWS",
    "outputId": "9268c9b8-9386-4dbb-b916-c6873ff7f476"
   },
   "outputs": [
    {
     "data": {
      "text/html": [
       "<div>\n",
       "<style scoped>\n",
       "    .dataframe tbody tr th:only-of-type {\n",
       "        vertical-align: middle;\n",
       "    }\n",
       "\n",
       "    .dataframe tbody tr th {\n",
       "        vertical-align: top;\n",
       "    }\n",
       "\n",
       "    .dataframe thead th {\n",
       "        text-align: right;\n",
       "    }\n",
       "</style>\n",
       "<table border=\"1\" class=\"dataframe\">\n",
       "  <thead>\n",
       "    <tr style=\"text-align: right;\">\n",
       "      <th></th>\n",
       "      <th>Id</th>\n",
       "      <th>Título</th>\n",
       "      <th>Questão</th>\n",
       "      <th>Tags</th>\n",
       "      <th>Pontuação</th>\n",
       "      <th>Visualizações</th>\n",
       "      <th>without_code_tag</th>\n",
       "      <th>preprocessed_questions</th>\n",
       "    </tr>\n",
       "  </thead>\n",
       "  <tbody>\n",
       "    <tr>\n",
       "      <th>0</th>\n",
       "      <td>2402</td>\n",
       "      <td>Como fazer hash de senhas de forma segura?</td>\n",
       "      <td>&lt;p&gt;Se eu fizer o &lt;em&gt;&lt;a href=\"http://pt.wikipe...</td>\n",
       "      <td>&lt;hash&gt;&lt;segurança&gt;&lt;senhas&gt;&lt;criptografia&gt;</td>\n",
       "      <td>350</td>\n",
       "      <td>22367</td>\n",
       "      <td>Se eu fizer o hash de senhas antes de armazená...</td>\n",
       "      <td>se eu fizer o hash de senhas antes de armazená...</td>\n",
       "    </tr>\n",
       "    <tr>\n",
       "      <th>1</th>\n",
       "      <td>6441</td>\n",
       "      <td>Qual é a diferença entre INNER JOIN e OUTER JOIN?</td>\n",
       "      <td>&lt;p&gt;Qual é a diferença entre &lt;code&gt;INNER JOIN&lt;/...</td>\n",
       "      <td>&lt;sql&gt;&lt;join&gt;</td>\n",
       "      <td>276</td>\n",
       "      <td>176953</td>\n",
       "      <td>Qual é a diferença entre CODE e CODE? Podem me...</td>\n",
       "      <td>qual é a diferença entre code e code podem me ...</td>\n",
       "    </tr>\n",
       "    <tr>\n",
       "      <th>2</th>\n",
       "      <td>579</td>\n",
       "      <td>Por que não devemos usar funções do tipo mysql_*?</td>\n",
       "      <td>&lt;p&gt;Uma dúvida muito comum é por que devemos pa...</td>\n",
       "      <td>&lt;php&gt;&lt;mysql&gt;</td>\n",
       "      <td>226</td>\n",
       "      <td>9761</td>\n",
       "      <td>Uma dúvida muito comum é por que devemos parar...</td>\n",
       "      <td>uma dúvida muito comum é por que devemos parar...</td>\n",
       "    </tr>\n",
       "    <tr>\n",
       "      <th>3</th>\n",
       "      <td>2539</td>\n",
       "      <td>As mensagens de erro devem se desculpar?</td>\n",
       "      <td>&lt;p&gt;É comum encontrar uma mensagem de erro que ...</td>\n",
       "      <td>&lt;aplicação-web&gt;&lt;gui&gt;&lt;console&gt;&lt;ux&gt;</td>\n",
       "      <td>214</td>\n",
       "      <td>5075</td>\n",
       "      <td>É comum encontrar uma mensagem de erro que diz...</td>\n",
       "      <td>é comum encontrar uma mensagem de erro que diz...</td>\n",
       "    </tr>\n",
       "    <tr>\n",
       "      <th>4</th>\n",
       "      <td>17501</td>\n",
       "      <td>Qual é a diferença de API, biblioteca e Framew...</td>\n",
       "      <td>&lt;p&gt;Me parecem termos muito próximos e eventual...</td>\n",
       "      <td>&lt;api&gt;&lt;framework&gt;&lt;terminologia&gt;&lt;biblioteca&gt;</td>\n",
       "      <td>193</td>\n",
       "      <td>54191</td>\n",
       "      <td>Me parecem termos muito próximos e eventualmen...</td>\n",
       "      <td>me parecem termos muito próximos e eventualmen...</td>\n",
       "    </tr>\n",
       "  </tbody>\n",
       "</table>\n",
       "</div>"
      ],
      "text/plain": [
       "      Id                                             Título  \\\n",
       "0   2402         Como fazer hash de senhas de forma segura?   \n",
       "1   6441  Qual é a diferença entre INNER JOIN e OUTER JOIN?   \n",
       "2    579  Por que não devemos usar funções do tipo mysql_*?   \n",
       "3   2539           As mensagens de erro devem se desculpar?   \n",
       "4  17501  Qual é a diferença de API, biblioteca e Framew...   \n",
       "\n",
       "                                             Questão  \\\n",
       "0  <p>Se eu fizer o <em><a href=\"http://pt.wikipe...   \n",
       "1  <p>Qual é a diferença entre <code>INNER JOIN</...   \n",
       "2  <p>Uma dúvida muito comum é por que devemos pa...   \n",
       "3  <p>É comum encontrar uma mensagem de erro que ...   \n",
       "4  <p>Me parecem termos muito próximos e eventual...   \n",
       "\n",
       "                                         Tags  Pontuação  Visualizações  \\\n",
       "0     <hash><segurança><senhas><criptografia>        350          22367   \n",
       "1                                 <sql><join>        276         176953   \n",
       "2                                <php><mysql>        226           9761   \n",
       "3           <aplicação-web><gui><console><ux>        214           5075   \n",
       "4  <api><framework><terminologia><biblioteca>        193          54191   \n",
       "\n",
       "                                    without_code_tag  \\\n",
       "0  Se eu fizer o hash de senhas antes de armazená...   \n",
       "1  Qual é a diferença entre CODE e CODE? Podem me...   \n",
       "2  Uma dúvida muito comum é por que devemos parar...   \n",
       "3  É comum encontrar uma mensagem de erro que diz...   \n",
       "4  Me parecem termos muito próximos e eventualmen...   \n",
       "\n",
       "                              preprocessed_questions  \n",
       "0  se eu fizer o hash de senhas antes de armazená...  \n",
       "1  qual é a diferença entre code e code podem me ...  \n",
       "2  uma dúvida muito comum é por que devemos parar...  \n",
       "3  é comum encontrar uma mensagem de erro que diz...  \n",
       "4  me parecem termos muito próximos e eventualmen...  "
      ]
     },
     "execution_count": 34,
     "metadata": {},
     "output_type": "execute_result"
    }
   ],
   "source": [
    "portuguese_data.head()"
   ]
  },
  {
   "cell_type": "code",
   "execution_count": 35,
   "metadata": {
    "colab": {},
    "colab_type": "code",
    "id": "lTQgJGiAomWZ",
    "outputId": "1be53868-c56a-4112-c50c-cd73939db3b8"
   },
   "outputs": [
    {
     "data": {
      "text/plain": [
       "'se eu fizer o hash de senhas antes de armazenálas em meu banco de dados é suficiente para evitar que elas sejam recuperadas por alguém estou falando apenas da recuperação diretamente do banco de dados e não qualquer outro tipo de ataque como força bruta na página de login da aplicação keylogger no cliente e criptoanálise rubberhose qualquer forma de hash não vai impedir esses ataques tenho preocupação em dificultar ou até impossibilitar a obtenção das senhas originais caso o banco de dados seja comprometido como dar maior garantia de segurança neste aspecto quais preocupações adicionais evitariam o acesso às senhas existem formas melhores de fazer esse hash '"
      ]
     },
     "execution_count": 35,
     "metadata": {},
     "output_type": "execute_result"
    }
   ],
   "source": [
    "portuguese_data.preprocessed_questions[0]"
   ]
  },
  {
   "cell_type": "code",
   "execution_count": 36,
   "metadata": {
    "colab": {},
    "colab_type": "code",
    "id": "pIQFT54MomWf"
   },
   "outputs": [],
   "source": [
    "# English texts\n",
    "\n",
    "# Removing the punctuation\n",
    "questions_eng_without_punct = remove_func(\n",
    "    english_data.without_code_tag, \n",
    "    regex_punctutation\n",
    ")\n",
    "\n",
    "# Normalizing the text\n",
    "questions_eng_without_punct_lower = lower_case(questions_eng_without_punct)\n",
    "\n",
    "# Removing the digits\n",
    "questions_eng_without_punct_lower_dig = remove_func(\n",
    "    questions_eng_without_punct_lower,\n",
    "    regex_digits\n",
    ")\n",
    "\n",
    "# Removing the newlines\n",
    "questions_eng_without_newline = substitute_for_whitespace(\n",
    "    questions_eng_without_punct_lower_dig,\n",
    "    regex_newline\n",
    ")\n",
    "\n",
    "# Removing unnecessary spaces\n",
    "questions_eng_without_newline = substitute_for_whitespace(\n",
    "    questions_eng_without_newline,\n",
    "    regex_space\n",
    ")\n",
    "\n",
    "# Creating a new column\n",
    "english_data[\"preprocessed_questions\"] = questions_eng_without_newline"
   ]
  },
  {
   "cell_type": "code",
   "execution_count": 37,
   "metadata": {
    "colab": {},
    "colab_type": "code",
    "id": "ieugADgNomWj",
    "outputId": "daf1ad69-3511-448e-fe05-cd6e454c23c2"
   },
   "outputs": [
    {
     "data": {
      "text/html": [
       "<div>\n",
       "<style scoped>\n",
       "    .dataframe tbody tr th:only-of-type {\n",
       "        vertical-align: middle;\n",
       "    }\n",
       "\n",
       "    .dataframe tbody tr th {\n",
       "        vertical-align: top;\n",
       "    }\n",
       "\n",
       "    .dataframe thead th {\n",
       "        text-align: right;\n",
       "    }\n",
       "</style>\n",
       "<table border=\"1\" class=\"dataframe\">\n",
       "  <thead>\n",
       "    <tr style=\"text-align: right;\">\n",
       "      <th></th>\n",
       "      <th>Id</th>\n",
       "      <th>Título</th>\n",
       "      <th>Questão</th>\n",
       "      <th>Tags</th>\n",
       "      <th>Pontuação</th>\n",
       "      <th>Visualizações</th>\n",
       "      <th>without_code_tag</th>\n",
       "      <th>preprocessed_questions</th>\n",
       "    </tr>\n",
       "  </thead>\n",
       "  <tbody>\n",
       "    <tr>\n",
       "      <th>0</th>\n",
       "      <td>11227809</td>\n",
       "      <td>Why is it faster to process a sorted array tha...</td>\n",
       "      <td>&lt;p&gt;Here is a piece of C++ code that seems very...</td>\n",
       "      <td>&lt;java&gt;&lt;c++&gt;&lt;performance&gt;&lt;optimization&gt;&lt;branch-...</td>\n",
       "      <td>23057</td>\n",
       "      <td>1358574</td>\n",
       "      <td>Here is a piece of C++ code that seems very pe...</td>\n",
       "      <td>here is a piece of c code that seems very pecu...</td>\n",
       "    </tr>\n",
       "    <tr>\n",
       "      <th>1</th>\n",
       "      <td>927358</td>\n",
       "      <td>How do I undo the most recent local commits in...</td>\n",
       "      <td>&lt;p&gt;I accidentally committed the wrong files to...</td>\n",
       "      <td>&lt;git&gt;&lt;version-control&gt;&lt;git-commit&gt;&lt;undo&gt;</td>\n",
       "      <td>19640</td>\n",
       "      <td>7906137</td>\n",
       "      <td>I accidentally committed the wrong files to Gi...</td>\n",
       "      <td>i accidentally committed the wrong files to gi...</td>\n",
       "    </tr>\n",
       "    <tr>\n",
       "      <th>2</th>\n",
       "      <td>2003505</td>\n",
       "      <td>How do I delete a Git branch locally and remot...</td>\n",
       "      <td>&lt;p&gt;I want to delete a branch both locally and ...</td>\n",
       "      <td>&lt;git&gt;&lt;git-branch&gt;&lt;git-remote&gt;</td>\n",
       "      <td>15249</td>\n",
       "      <td>6940906</td>\n",
       "      <td>I want to delete a branch both locally and rem...</td>\n",
       "      <td>i want to delete a branch both locally and rem...</td>\n",
       "    </tr>\n",
       "    <tr>\n",
       "      <th>3</th>\n",
       "      <td>292357</td>\n",
       "      <td>What is the difference between 'git pull' and ...</td>\n",
       "      <td>&lt;blockquote&gt;\\n  &lt;p&gt;&lt;strong&gt;Moderator Note:&lt;/st...</td>\n",
       "      <td>&lt;git&gt;&lt;git-pull&gt;&lt;git-fetch&gt;</td>\n",
       "      <td>11008</td>\n",
       "      <td>2543052</td>\n",
       "      <td>\\n  Moderator Note: Given that this question h...</td>\n",
       "      <td>moderator note given that this question has a...</td>\n",
       "    </tr>\n",
       "    <tr>\n",
       "      <th>4</th>\n",
       "      <td>477816</td>\n",
       "      <td>What is the correct JSON content type?</td>\n",
       "      <td>&lt;p&gt;I've been messing around with &lt;a href=\"http...</td>\n",
       "      <td>&lt;json&gt;&lt;http-headers&gt;&lt;content-type&gt;</td>\n",
       "      <td>9701</td>\n",
       "      <td>2478940</td>\n",
       "      <td>I've been messing around with JSON for some ti...</td>\n",
       "      <td>ive been messing around with json for some tim...</td>\n",
       "    </tr>\n",
       "  </tbody>\n",
       "</table>\n",
       "</div>"
      ],
      "text/plain": [
       "         Id                                             Título  \\\n",
       "0  11227809  Why is it faster to process a sorted array tha...   \n",
       "1    927358  How do I undo the most recent local commits in...   \n",
       "2   2003505  How do I delete a Git branch locally and remot...   \n",
       "3    292357  What is the difference between 'git pull' and ...   \n",
       "4    477816             What is the correct JSON content type?   \n",
       "\n",
       "                                             Questão  \\\n",
       "0  <p>Here is a piece of C++ code that seems very...   \n",
       "1  <p>I accidentally committed the wrong files to...   \n",
       "2  <p>I want to delete a branch both locally and ...   \n",
       "3  <blockquote>\\n  <p><strong>Moderator Note:</st...   \n",
       "4  <p>I've been messing around with <a href=\"http...   \n",
       "\n",
       "                                                Tags  Pontuação  \\\n",
       "0  <java><c++><performance><optimization><branch-...      23057   \n",
       "1           <git><version-control><git-commit><undo>      19640   \n",
       "2                      <git><git-branch><git-remote>      15249   \n",
       "3                         <git><git-pull><git-fetch>      11008   \n",
       "4                 <json><http-headers><content-type>       9701   \n",
       "\n",
       "   Visualizações                                   without_code_tag  \\\n",
       "0        1358574  Here is a piece of C++ code that seems very pe...   \n",
       "1        7906137  I accidentally committed the wrong files to Gi...   \n",
       "2        6940906  I want to delete a branch both locally and rem...   \n",
       "3        2543052  \\n  Moderator Note: Given that this question h...   \n",
       "4        2478940  I've been messing around with JSON for some ti...   \n",
       "\n",
       "                              preprocessed_questions  \n",
       "0  here is a piece of c code that seems very pecu...  \n",
       "1  i accidentally committed the wrong files to gi...  \n",
       "2  i want to delete a branch both locally and rem...  \n",
       "3   moderator note given that this question has a...  \n",
       "4  ive been messing around with json for some tim...  "
      ]
     },
     "execution_count": 37,
     "metadata": {},
     "output_type": "execute_result"
    }
   ],
   "source": [
    "english_data.head()"
   ]
  },
  {
   "cell_type": "code",
   "execution_count": 38,
   "metadata": {
    "colab": {},
    "colab_type": "code",
    "id": "tdPStEU2omWo",
    "outputId": "5af171e9-4e68-453f-9048-580e14e84406"
   },
   "outputs": [
    {
     "name": "stdout",
     "output_type": "stream",
     "text": [
      "here is a piece of c code that seems very peculiar for some strange reason sorting the data miraculously makes the code almost six times faster code without code the code runs in seconds with the sorted data the code runs in seconds initially i thought this might be just a language or compiler anomaly so i tried it in java code with a somewhat similar but less extreme result my first thought was that sorting brings the data into the cache but then i thought how silly that is because the array was just generated what is going on why is it faster to process a sorted array than an unsorted array the code is summing up some independent terms and the order should not matter \n"
     ]
    }
   ],
   "source": [
    "print(english_data.preprocessed_questions[0])"
   ]
  },
  {
   "cell_type": "code",
   "execution_count": 39,
   "metadata": {
    "colab": {},
    "colab_type": "code",
    "id": "lF__VpoZomWu"
   },
   "outputs": [],
   "source": [
    "# Spanish texts\n",
    "\n",
    "# Removing the punctuation\n",
    "questions_span_without_punct = remove_func(\n",
    "    spanish_data.without_code_tag, \n",
    "    regex_punctutation)\n",
    "\n",
    "# Normalizing the text\n",
    "questions_span_without_punct_lower = lower_case(questions_span_without_punct)\n",
    "\n",
    "# Removing the digits\n",
    "questions_span_without_punct_lower_dig = remove_func(\n",
    "    questions_span_without_punct_lower,\n",
    "    regex_digits\n",
    ")\n",
    "\n",
    "# Removing the newlines\n",
    "questions_span_without_newline = substitute_for_whitespace(\n",
    "    questions_span_without_punct_lower_dig,\n",
    "    regex_newline\n",
    ")\n",
    "\n",
    "# Removing unnecessary spaces\n",
    "questions_span_without_newline = substitute_for_whitespace(\n",
    "    questions_span_without_newline,\n",
    "    regex_space\n",
    ")\n",
    "\n",
    "# Creating a new column\n",
    "spanish_data[\"preprocessed_questions\"] = questions_span_without_newline"
   ]
  },
  {
   "cell_type": "code",
   "execution_count": 40,
   "metadata": {
    "colab": {},
    "colab_type": "code",
    "id": "-9RCM3F3omW0",
    "outputId": "c5f6c8a8-b231-495d-9430-243636ed9573"
   },
   "outputs": [
    {
     "data": {
      "text/html": [
       "<div>\n",
       "<style scoped>\n",
       "    .dataframe tbody tr th:only-of-type {\n",
       "        vertical-align: middle;\n",
       "    }\n",
       "\n",
       "    .dataframe tbody tr th {\n",
       "        vertical-align: top;\n",
       "    }\n",
       "\n",
       "    .dataframe thead th {\n",
       "        text-align: right;\n",
       "    }\n",
       "</style>\n",
       "<table border=\"1\" class=\"dataframe\">\n",
       "  <thead>\n",
       "    <tr style=\"text-align: right;\">\n",
       "      <th></th>\n",
       "      <th>Id</th>\n",
       "      <th>Título</th>\n",
       "      <th>Questão</th>\n",
       "      <th>Tags</th>\n",
       "      <th>Pontuação</th>\n",
       "      <th>Visualizações</th>\n",
       "      <th>without_code_tag</th>\n",
       "      <th>preprocessed_questions</th>\n",
       "    </tr>\n",
       "  </thead>\n",
       "  <tbody>\n",
       "    <tr>\n",
       "      <th>0</th>\n",
       "      <td>18232</td>\n",
       "      <td>¿Cómo evitar la inyección SQL en PHP?</td>\n",
       "      <td>&lt;p&gt;Las sentencias dinámicas son sentencias SQL...</td>\n",
       "      <td>&lt;php&gt;&lt;mysql&gt;&lt;sql&gt;&lt;seguridad&gt;&lt;inyección-sql&gt;</td>\n",
       "      <td>169</td>\n",
       "      <td>38614</td>\n",
       "      <td>Las sentencias dinámicas son sentencias SQL qu...</td>\n",
       "      <td>las sentencias dinámicas son sentencias sql qu...</td>\n",
       "    </tr>\n",
       "    <tr>\n",
       "      <th>1</th>\n",
       "      <td>197</td>\n",
       "      <td>¿Por qué mis programas no pueden hacer cálculo...</td>\n",
       "      <td>&lt;p&gt;Unas veces los cálculos funcionan correctam...</td>\n",
       "      <td>&lt;matemáticas&gt;&lt;coma-flotante&gt;&lt;lenguaje-agnóstico&gt;</td>\n",
       "      <td>141</td>\n",
       "      <td>3860</td>\n",
       "      <td>Unas veces los cálculos funcionan correctament...</td>\n",
       "      <td>unas veces los cálculos funcionan correctament...</td>\n",
       "    </tr>\n",
       "    <tr>\n",
       "      <th>2</th>\n",
       "      <td>36</td>\n",
       "      <td>¿Cuál es la diferencia entre un inner y un out...</td>\n",
       "      <td>&lt;p&gt;¿Cuál es la diferencia entre un &lt;code&gt;inner...</td>\n",
       "      <td>&lt;mysql&gt;&lt;sql&gt;&lt;join&gt;</td>\n",
       "      <td>97</td>\n",
       "      <td>53627</td>\n",
       "      <td>¿Cuál es la diferencia entre un CODE y un CODE...</td>\n",
       "      <td>cuál es la diferencia entre un code y un code ...</td>\n",
       "    </tr>\n",
       "    <tr>\n",
       "      <th>3</th>\n",
       "      <td>29177</td>\n",
       "      <td>¿Por qué es considerado una mala práctica util...</td>\n",
       "      <td>&lt;p&gt;La mayoría de nosotros decimos, (muchas vec...</td>\n",
       "      <td>&lt;variables&gt;&lt;variables-globales&gt;&lt;patrones-de-di...</td>\n",
       "      <td>89</td>\n",
       "      <td>9987</td>\n",
       "      <td>La mayoría de nosotros decimos, (muchas veces ...</td>\n",
       "      <td>la mayoría de nosotros decimos muchas veces si...</td>\n",
       "    </tr>\n",
       "    <tr>\n",
       "      <th>4</th>\n",
       "      <td>142</td>\n",
       "      <td>Validar un email en JavaScript que acepte todo...</td>\n",
       "      <td>&lt;h3&gt;Pregunta&lt;/h3&gt;\\n\\n&lt;p&gt;¿Cómo validar un e-mai...</td>\n",
       "      <td>&lt;javascript&gt;&lt;validación&gt;&lt;email&gt;&lt;regex&gt;</td>\n",
       "      <td>87</td>\n",
       "      <td>73129</td>\n",
       "      <td>Pregunta\\n\\n¿Cómo validar un e-mail que acepte...</td>\n",
       "      <td>pregunta cómo validar un email que acepte todo...</td>\n",
       "    </tr>\n",
       "  </tbody>\n",
       "</table>\n",
       "</div>"
      ],
      "text/plain": [
       "      Id                                             Título  \\\n",
       "0  18232              ¿Cómo evitar la inyección SQL en PHP?   \n",
       "1    197  ¿Por qué mis programas no pueden hacer cálculo...   \n",
       "2     36  ¿Cuál es la diferencia entre un inner y un out...   \n",
       "3  29177  ¿Por qué es considerado una mala práctica util...   \n",
       "4    142  Validar un email en JavaScript que acepte todo...   \n",
       "\n",
       "                                             Questão  \\\n",
       "0  <p>Las sentencias dinámicas son sentencias SQL...   \n",
       "1  <p>Unas veces los cálculos funcionan correctam...   \n",
       "2  <p>¿Cuál es la diferencia entre un <code>inner...   \n",
       "3  <p>La mayoría de nosotros decimos, (muchas vec...   \n",
       "4  <h3>Pregunta</h3>\\n\\n<p>¿Cómo validar un e-mai...   \n",
       "\n",
       "                                                Tags  Pontuação  \\\n",
       "0        <php><mysql><sql><seguridad><inyección-sql>        169   \n",
       "1   <matemáticas><coma-flotante><lenguaje-agnóstico>        141   \n",
       "2                                 <mysql><sql><join>         97   \n",
       "3  <variables><variables-globales><patrones-de-di...         89   \n",
       "4             <javascript><validación><email><regex>         87   \n",
       "\n",
       "   Visualizações                                   without_code_tag  \\\n",
       "0          38614  Las sentencias dinámicas son sentencias SQL qu...   \n",
       "1           3860  Unas veces los cálculos funcionan correctament...   \n",
       "2          53627  ¿Cuál es la diferencia entre un CODE y un CODE...   \n",
       "3           9987  La mayoría de nosotros decimos, (muchas veces ...   \n",
       "4          73129  Pregunta\\n\\n¿Cómo validar un e-mail que acepte...   \n",
       "\n",
       "                              preprocessed_questions  \n",
       "0  las sentencias dinámicas son sentencias sql qu...  \n",
       "1  unas veces los cálculos funcionan correctament...  \n",
       "2  cuál es la diferencia entre un code y un code ...  \n",
       "3  la mayoría de nosotros decimos muchas veces si...  \n",
       "4  pregunta cómo validar un email que acepte todo...  "
      ]
     },
     "execution_count": 40,
     "metadata": {},
     "output_type": "execute_result"
    }
   ],
   "source": [
    "spanish_data.head()"
   ]
  },
  {
   "cell_type": "code",
   "execution_count": 41,
   "metadata": {
    "colab": {},
    "colab_type": "code",
    "id": "nk53hsltomW6",
    "outputId": "60e3da46-d4e9-4320-f481-7c266a000362"
   },
   "outputs": [
    {
     "name": "stdout",
     "output_type": "stream",
     "text": [
      "las sentencias dinámicas son sentencias sql que se crean como cadenas de texto strings y en las que se insertanconcatenan valores obtenidos de alguna fuente normalmente proveniente del usuario lo que puede hacer que sean vulnerables a inyección sql si no se sanean las entradas como por ejemplo code eso es un ejemplo de una vulnerabilidad grave en la seguridad de una aplicación web o no porque si el usuario introdujese un valor como code nos encontraríamos con que la sentencia ejecutada sería code y se eliminaría la tabla usuarios con todos los datos contenidos en ella cómo puedo evitar que la inyección sql ocurra en php \n"
     ]
    }
   ],
   "source": [
    "print(spanish_data.preprocessed_questions[0])"
   ]
  },
  {
   "cell_type": "code",
   "execution_count": 42,
   "metadata": {},
   "outputs": [
    {
     "data": {
      "text/plain": [
       "'Hey Are you ok'"
      ]
     },
     "execution_count": 42,
     "metadata": {},
     "output_type": "execute_result"
    }
   ],
   "source": [
    "phrase_test = \"Hey! Are you ok?\"\n",
    "regex = re.compile(r\"[^\\w\\s]\")\n",
    "regex.sub(\"\", phrase_test)"
   ]
  },
  {
   "cell_type": "markdown",
   "metadata": {
    "colab_type": "text",
    "id": "YzQc9VHm1fqI"
   },
   "source": [
    "## NLTK functions"
   ]
  },
  {
   "cell_type": "markdown",
   "metadata": {},
   "source": [
    "A bigram or digram is a sequence of two adjacent elements from a string of tokens, which are typically letters, syllables, or words. A bigram is an n-gram for n=2."
   ]
  },
  {
   "cell_type": "code",
   "execution_count": 44,
   "metadata": {
    "colab": {},
    "colab_type": "code",
    "id": "NUOuq7IYomXF",
    "outputId": "5ac985fe-9d47-4fbc-ff5d-2a2ba41c7c76"
   },
   "outputs": [
    {
     "name": "stdout",
     "output_type": "stream",
     "text": [
      "[('a', 'l'), ('l', 'u'), ('u', 'r'), ('r', 'a')]\n"
     ]
    }
   ],
   "source": [
    "from nltk.util import bigrams\n",
    "\n",
    "# The first and last \"a\" appear just once\n",
    "test_text = \"alura\"\n",
    "print(list(bigrams(test_text)))"
   ]
  },
  {
   "cell_type": "code",
   "execution_count": 45,
   "metadata": {
    "colab": {},
    "colab_type": "code",
    "id": "0_YETzdlomXQ",
    "outputId": "b1efc51f-5bd4-462d-d11b-9b8ca697fd69"
   },
   "outputs": [
    {
     "name": "stdout",
     "output_type": "stream",
     "text": [
      "[('<s>', 'a'), ('a', 'l'), ('l', 'u'), ('u', 'r'), ('r', 'a'), ('a', '</s>')]\n"
     ]
    }
   ],
   "source": [
    "from nltk.lm.preprocessing import pad_both_ends\n",
    "\n",
    "# The first and last \"a\" appear twice as the other letters\n",
    "# I can notice how many times a letter begins a phrase (Fakechars)\n",
    "print(list(bigrams(pad_both_ends(test_text, n=2))))"
   ]
  },
  {
   "cell_type": "markdown",
   "metadata": {
    "colab_type": "text",
    "id": "c69y_pjJ1KmB"
   },
   "source": [
    "## Creating a ML model"
   ]
  },
  {
   "cell_type": "code",
   "execution_count": 46,
   "metadata": {
    "colab": {},
    "colab_type": "code",
    "id": "zA-VKARromXc",
    "outputId": "dfd3be92-ca67-4e73-ca84-b25e3f63510f"
   },
   "outputs": [
    {
     "data": {
      "text/html": [
       "<div>\n",
       "<style scoped>\n",
       "    .dataframe tbody tr th:only-of-type {\n",
       "        vertical-align: middle;\n",
       "    }\n",
       "\n",
       "    .dataframe tbody tr th {\n",
       "        vertical-align: top;\n",
       "    }\n",
       "\n",
       "    .dataframe thead th {\n",
       "        text-align: right;\n",
       "    }\n",
       "</style>\n",
       "<table border=\"1\" class=\"dataframe\">\n",
       "  <thead>\n",
       "    <tr style=\"text-align: right;\">\n",
       "      <th></th>\n",
       "      <th>Id</th>\n",
       "      <th>Título</th>\n",
       "      <th>Questão</th>\n",
       "      <th>Tags</th>\n",
       "      <th>Pontuação</th>\n",
       "      <th>Visualizações</th>\n",
       "      <th>without_code_tag</th>\n",
       "      <th>preprocessed_questions</th>\n",
       "      <th>idiom</th>\n",
       "    </tr>\n",
       "  </thead>\n",
       "  <tbody>\n",
       "    <tr>\n",
       "      <th>0</th>\n",
       "      <td>2402</td>\n",
       "      <td>Como fazer hash de senhas de forma segura?</td>\n",
       "      <td>&lt;p&gt;Se eu fizer o &lt;em&gt;&lt;a href=\"http://pt.wikipe...</td>\n",
       "      <td>&lt;hash&gt;&lt;segurança&gt;&lt;senhas&gt;&lt;criptografia&gt;</td>\n",
       "      <td>350</td>\n",
       "      <td>22367</td>\n",
       "      <td>Se eu fizer o hash de senhas antes de armazená...</td>\n",
       "      <td>se eu fizer o hash de senhas antes de armazená...</td>\n",
       "      <td>port</td>\n",
       "    </tr>\n",
       "    <tr>\n",
       "      <th>1</th>\n",
       "      <td>6441</td>\n",
       "      <td>Qual é a diferença entre INNER JOIN e OUTER JOIN?</td>\n",
       "      <td>&lt;p&gt;Qual é a diferença entre &lt;code&gt;INNER JOIN&lt;/...</td>\n",
       "      <td>&lt;sql&gt;&lt;join&gt;</td>\n",
       "      <td>276</td>\n",
       "      <td>176953</td>\n",
       "      <td>Qual é a diferença entre CODE e CODE? Podem me...</td>\n",
       "      <td>qual é a diferença entre code e code podem me ...</td>\n",
       "      <td>port</td>\n",
       "    </tr>\n",
       "    <tr>\n",
       "      <th>2</th>\n",
       "      <td>579</td>\n",
       "      <td>Por que não devemos usar funções do tipo mysql_*?</td>\n",
       "      <td>&lt;p&gt;Uma dúvida muito comum é por que devemos pa...</td>\n",
       "      <td>&lt;php&gt;&lt;mysql&gt;</td>\n",
       "      <td>226</td>\n",
       "      <td>9761</td>\n",
       "      <td>Uma dúvida muito comum é por que devemos parar...</td>\n",
       "      <td>uma dúvida muito comum é por que devemos parar...</td>\n",
       "      <td>port</td>\n",
       "    </tr>\n",
       "    <tr>\n",
       "      <th>3</th>\n",
       "      <td>2539</td>\n",
       "      <td>As mensagens de erro devem se desculpar?</td>\n",
       "      <td>&lt;p&gt;É comum encontrar uma mensagem de erro que ...</td>\n",
       "      <td>&lt;aplicação-web&gt;&lt;gui&gt;&lt;console&gt;&lt;ux&gt;</td>\n",
       "      <td>214</td>\n",
       "      <td>5075</td>\n",
       "      <td>É comum encontrar uma mensagem de erro que diz...</td>\n",
       "      <td>é comum encontrar uma mensagem de erro que diz...</td>\n",
       "      <td>port</td>\n",
       "    </tr>\n",
       "    <tr>\n",
       "      <th>4</th>\n",
       "      <td>17501</td>\n",
       "      <td>Qual é a diferença de API, biblioteca e Framew...</td>\n",
       "      <td>&lt;p&gt;Me parecem termos muito próximos e eventual...</td>\n",
       "      <td>&lt;api&gt;&lt;framework&gt;&lt;terminologia&gt;&lt;biblioteca&gt;</td>\n",
       "      <td>193</td>\n",
       "      <td>54191</td>\n",
       "      <td>Me parecem termos muito próximos e eventualmen...</td>\n",
       "      <td>me parecem termos muito próximos e eventualmen...</td>\n",
       "      <td>port</td>\n",
       "    </tr>\n",
       "  </tbody>\n",
       "</table>\n",
       "</div>"
      ],
      "text/plain": [
       "      Id                                             Título  \\\n",
       "0   2402         Como fazer hash de senhas de forma segura?   \n",
       "1   6441  Qual é a diferença entre INNER JOIN e OUTER JOIN?   \n",
       "2    579  Por que não devemos usar funções do tipo mysql_*?   \n",
       "3   2539           As mensagens de erro devem se desculpar?   \n",
       "4  17501  Qual é a diferença de API, biblioteca e Framew...   \n",
       "\n",
       "                                             Questão  \\\n",
       "0  <p>Se eu fizer o <em><a href=\"http://pt.wikipe...   \n",
       "1  <p>Qual é a diferença entre <code>INNER JOIN</...   \n",
       "2  <p>Uma dúvida muito comum é por que devemos pa...   \n",
       "3  <p>É comum encontrar uma mensagem de erro que ...   \n",
       "4  <p>Me parecem termos muito próximos e eventual...   \n",
       "\n",
       "                                         Tags  Pontuação  Visualizações  \\\n",
       "0     <hash><segurança><senhas><criptografia>        350          22367   \n",
       "1                                 <sql><join>        276         176953   \n",
       "2                                <php><mysql>        226           9761   \n",
       "3           <aplicação-web><gui><console><ux>        214           5075   \n",
       "4  <api><framework><terminologia><biblioteca>        193          54191   \n",
       "\n",
       "                                    without_code_tag  \\\n",
       "0  Se eu fizer o hash de senhas antes de armazená...   \n",
       "1  Qual é a diferença entre CODE e CODE? Podem me...   \n",
       "2  Uma dúvida muito comum é por que devemos parar...   \n",
       "3  É comum encontrar uma mensagem de erro que diz...   \n",
       "4  Me parecem termos muito próximos e eventualmen...   \n",
       "\n",
       "                              preprocessed_questions idiom  \n",
       "0  se eu fizer o hash de senhas antes de armazená...  port  \n",
       "1  qual é a diferença entre code e code podem me ...  port  \n",
       "2  uma dúvida muito comum é por que devemos parar...  port  \n",
       "3  é comum encontrar uma mensagem de erro que diz...  port  \n",
       "4  me parecem termos muito próximos e eventualmen...  port  "
      ]
     },
     "execution_count": 46,
     "metadata": {},
     "output_type": "execute_result"
    }
   ],
   "source": [
    "portuguese_data[\"idiom\"] = \"port\"\n",
    "spanish_data[\"idiom\"] = \"span\"\n",
    "english_data[\"idiom\"] = \"eng\"\n",
    "\n",
    "portuguese_data.head()"
   ]
  },
  {
   "cell_type": "code",
   "execution_count": 48,
   "metadata": {
    "colab": {},
    "colab_type": "code",
    "id": "gW2YOqHjomXi",
    "outputId": "d459c280-cefa-4d76-e59d-ad33253c2d8c"
   },
   "outputs": [
    {
     "data": {
      "text/plain": [
       "500"
      ]
     },
     "execution_count": 48,
     "metadata": {},
     "output_type": "execute_result"
    }
   ],
   "source": [
    "len(spanish_data)"
   ]
  },
  {
   "cell_type": "code",
   "execution_count": 49,
   "metadata": {
    "colab": {},
    "colab_type": "code",
    "id": "Kup--xIHomXq"
   },
   "outputs": [],
   "source": [
    "from sklearn.model_selection import train_test_split\n",
    "\n",
    "port_train, port_test = train_test_split(\n",
    "    portuguese_data.preprocessed_questions,\n",
    "    test_size = 0.2,\n",
    "    random_state = 123\n",
    ")"
   ]
  },
  {
   "cell_type": "code",
   "execution_count": 50,
   "metadata": {
    "colab": {},
    "colab_type": "code",
    "id": "XGXJcWFUomXu"
   },
   "outputs": [],
   "source": [
    "from sklearn.model_selection import train_test_split\n",
    "\n",
    "span_train, span_test = train_test_split(\n",
    "    spanish_data.preprocessed_questions,\n",
    "    test_size = 0.2,\n",
    "    random_state = 123\n",
    ")\n"
   ]
  },
  {
   "cell_type": "code",
   "execution_count": 51,
   "metadata": {
    "colab": {},
    "colab_type": "code",
    "id": "J5qTJ-IOomX1"
   },
   "outputs": [],
   "source": [
    "from sklearn.model_selection import train_test_split\n",
    "\n",
    "eng_train, eng_test = train_test_split(\n",
    "    english_data.preprocessed_questions,\n",
    "    test_size = 0.2,\n",
    "    random_state = 123\n",
    ")"
   ]
  },
  {
   "cell_type": "code",
   "execution_count": 52,
   "metadata": {
    "colab": {},
    "colab_type": "code",
    "id": "I0_erO76omX6"
   },
   "outputs": [],
   "source": [
    "all_questions_port = ' '.join(port_train)"
   ]
  },
  {
   "cell_type": "code",
   "execution_count": 55,
   "metadata": {
    "colab": {},
    "colab_type": "code",
    "id": "TXsDVtZOomYB",
    "outputId": "56e16190-6ddb-4978-e00d-45cb3013f57f",
    "scrolled": true
   },
   "outputs": [],
   "source": [
    "from nltk.tokenize import WhitespaceTokenizer\n",
    "\n",
    "# Separate all the words by whitespace\n",
    "all_words_port = WhitespaceTokenizer().tokenize(all_questions_port)"
   ]
  },
  {
   "cell_type": "code",
   "execution_count": 56,
   "metadata": {
    "colab": {},
    "colab_type": "code",
    "id": "-RYzZaWPomYI"
   },
   "outputs": [],
   "source": [
    "from nltk.lm.preprocessing import padded_everygram_pipeline\n",
    "\n",
    "# Put fakechart in each word and build a bigram\n",
    "port_train_bigram, vocab_port = padded_everygram_pipeline(2, all_words_port)"
   ]
  },
  {
   "cell_type": "markdown",
   "metadata": {},
   "source": [
    "The first are the n-grams of the sentences passed as a parameter. The second parameter returned by the serious function is the words of the sentences passed as a parameter, for example let's pass several sentences, will the words of these sentences be returned, since if we pass several words (as done in the course), will several letters of these words be returned? Only point, if you just pass the text and not a list of words or fake char, one character will be added each (if it's bgram every 2 characters)."
   ]
  },
  {
   "cell_type": "markdown",
   "metadata": {},
   "source": [
    "### Creating a MLE model"
   ]
  },
  {
   "cell_type": "markdown",
   "metadata": {},
   "source": [
    "In statistics, **maximum likelihood estimation (MLE)** is a method of estimating the parameters of an assumed probability distribution, given some observed data. This is achieved by maximizing a likelihood function so that, under the assumed statistical model, the observed data is most probable. The point in the parameter space that maximizes the likelihood function is called the maximum likelihood estimate. The logic of maximum likelihood is both intuitive and flexible, and as such the method has become a dominant means of statistical inference"
   ]
  },
  {
   "cell_type": "code",
   "execution_count": 60,
   "metadata": {
    "colab": {},
    "colab_type": "code",
    "id": "yGukIwgeomYR"
   },
   "outputs": [],
   "source": [
    "from nltk.lm import MLE\n",
    "\n",
    "model_port = MLE(2) # Bigram model\n",
    "model_port.fit(port_train_bigram, vocab_port)"
   ]
  },
  {
   "cell_type": "code",
   "execution_count": 61,
   "metadata": {
    "colab": {},
    "colab_type": "code",
    "id": "c0MU6byoomYW",
    "outputId": "dd33c600-e9b3-4740-d55e-f1fd9a506c1d"
   },
   "outputs": [
    {
     "data": {
      "text/plain": [
       "['i', 'c', 'o', 'm', '</s>', 'e']"
      ]
     },
     "execution_count": 61,
     "metadata": {},
     "output_type": "execute_result"
    }
   ],
   "source": [
    "model_port.generate(num_words=6)"
   ]
  },
  {
   "cell_type": "code",
   "execution_count": 62,
   "metadata": {
    "colab": {},
    "colab_type": "code",
    "id": "mrt9dWGuomYa",
    "outputId": "278f7a2b-314d-4652-fba1-1caf3f39d997"
   },
   "outputs": [
    {
     "data": {
      "text/plain": [
       "dict_items([('n', 1267), ('c', 817), ('a', 857), ('r', 384), ('s', 1393), ('o', 620), ('t', 718), ('</s>', 601), ('f', 314), ('l', 399), ('d', 651), ('g', 365), ('e', 173), ('p', 277), ('m', 559), ('v', 311), ('z', 370), ('x', 69), ('ç', 85), ('ê', 17), ('k', 15), ('á', 43), ('õ', 6), ('b', 112), ('é', 1), ('q', 30), ('u', 14), ('j', 5), ('ú', 4), ('ã', 3), ('ó', 1), ('h', 1), ('w', 2), ('i', 3)])"
      ]
     },
     "execution_count": 62,
     "metadata": {},
     "output_type": "execute_result"
    }
   ],
   "source": [
    "from nltk.lm import NgramCounter\n",
    "\n",
    "# See the item that appear more after the letter \"i\"\n",
    "model_port.counts[['i']].items()"
   ]
  },
  {
   "cell_type": "code",
   "execution_count": 73,
   "metadata": {
    "colab": {},
    "colab_type": "code",
    "id": "bjrtTrVnomYg",
    "outputId": "f5a14cf3-e632-4611-8050-8f03fccb18b3"
   },
   "outputs": [
    {
     "name": "stdout",
     "output_type": "stream",
     "text": [
      "[[('<s>', 'b'), ('b', 'o'), ('o', 'm'), ('m', '</s>')], [('<s>', 'd'), ('d', 'i'), ('i', 'a'), ('a', '</s>')]]\n"
     ]
    }
   ],
   "source": [
    "# Testing for portuguese\n",
    "text = \"bom dia\"\n",
    "words = WhitespaceTokenizer().tokenize(text)\n",
    "words_fakechar = [list(pad_both_ends(word, n=2)) for word in words] # add fakechar for each word\n",
    "words_bigramns = [list(bigrams(word)) for word in words_fakechar] # bigram for each word\n",
    "print(words_bigramns)"
   ]
  },
  {
   "cell_type": "code",
   "execution_count": 74,
   "metadata": {
    "colab": {},
    "colab_type": "code",
    "id": "qyT1_zknomYl",
    "outputId": "7c16df68-cfc7-4eff-d0c5-7197407d0bcf"
   },
   "outputs": [
    {
     "name": "stdout",
     "output_type": "stream",
     "text": [
      "[('<s>', 'b'), ('b', 'o'), ('o', 'm'), ('m', '</s>')]\n"
     ]
    }
   ],
   "source": [
    "print(words_bigramns[0])"
   ]
  },
  {
   "cell_type": "markdown",
   "metadata": {},
   "source": [
    "In information theory, perplexity is a measurement of how well a probability distribution or probability model predicts a sample. It may be used to compare probability models. A low perplexity indicates the probability distribution is good at predicting the sample"
   ]
  },
  {
   "cell_type": "code",
   "execution_count": 75,
   "metadata": {
    "colab": {},
    "colab_type": "code",
    "id": "Zx6IJV7YomYp",
    "outputId": "db84da3f-4cc9-4261-d72f-9e37ad3039f5",
    "scrolled": true
   },
   "outputs": [
    {
     "name": "stdout",
     "output_type": "stream",
     "text": [
      "15.299125474590992\n",
      "8.118290440853844\n"
     ]
    }
   ],
   "source": [
    "# The closer to zero the better.\n",
    "print(model_port.perplexity(words_bigramns[0]))\n",
    "print(model_port.perplexity(words_bigramns[1]))"
   ]
  },
  {
   "cell_type": "markdown",
   "metadata": {
    "colab_type": "text",
    "id": "KgeqfnDL4EzN"
   },
   "source": [
    "## Machine learning models train and test"
   ]
  },
  {
   "cell_type": "code",
   "execution_count": 76,
   "metadata": {
    "colab": {},
    "colab_type": "code",
    "id": "RuX9pM88omY7"
   },
   "outputs": [],
   "source": [
    "def train_model_mle(list_texts):\n",
    "    all_questions = ' '.join(list_texts)\n",
    "    all_words = WhitespaceTokenizer().tokenize(all_questions)\n",
    "    bigrams, vocabulary = padded_everygram_pipeline(2, all_words)\n",
    "    model = MLE(2)\n",
    "    model.fit(bigrams, vocabulary)\n",
    "    return model"
   ]
  },
  {
   "cell_type": "code",
   "execution_count": 77,
   "metadata": {
    "colab": {},
    "colab_type": "code",
    "id": "9krhvgN_omZA"
   },
   "outputs": [],
   "source": [
    "model_port_2 = train_model_mle(port_train)"
   ]
  },
  {
   "cell_type": "code",
   "execution_count": 78,
   "metadata": {
    "colab": {},
    "colab_type": "code",
    "id": "Ct-dUhy5omZQ",
    "outputId": "a9e4f3d2-3287-4918-9c79-a8a4b776f12d"
   },
   "outputs": [
    {
     "name": "stdout",
     "output_type": "stream",
     "text": [
      "15.299125474590992\n",
      "8.118290440853844\n"
     ]
    }
   ],
   "source": [
    "print(model_port_2.perplexity(words_bigramns[0]))\n",
    "print(model_port_2.perplexity(words_bigramns[1]))"
   ]
  },
  {
   "cell_type": "code",
   "execution_count": 79,
   "metadata": {
    "colab": {},
    "colab_type": "code",
    "id": "n7tQYzqGomZV"
   },
   "outputs": [],
   "source": [
    "model_eng = train_model_mle(eng_train)\n",
    "model_span = train_model_mle(span_train)"
   ]
  },
  {
   "cell_type": "code",
   "execution_count": 80,
   "metadata": {
    "colab": {},
    "colab_type": "code",
    "id": "CmymEicDomZZ",
    "outputId": "b084e2a3-1c10-4cea-87f6-4b5add722f94",
    "scrolled": true
   },
   "outputs": [
    {
     "name": "stdout",
     "output_type": "stream",
     "text": [
      "13.207626654673446\n",
      "22.271365866014612\n"
     ]
    }
   ],
   "source": [
    "print(model_eng.perplexity(words_bigramns[0]))\n",
    "print(model_eng.perplexity(words_bigramns[1]))"
   ]
  },
  {
   "cell_type": "code",
   "execution_count": 81,
   "metadata": {
    "colab": {},
    "colab_type": "code",
    "id": "tqIbgtIUomZf",
    "outputId": "ddf6defc-eb13-49a2-86f7-93bf2792aaeb"
   },
   "outputs": [
    {
     "data": {
      "text/plain": [
       "35.47"
      ]
     },
     "execution_count": 81,
     "metadata": {},
     "output_type": "execute_result"
    }
   ],
   "source": [
    "13.2+22.27"
   ]
  },
  {
   "cell_type": "markdown",
   "metadata": {},
   "source": [
    "### Function to calculate the perplexity"
   ]
  },
  {
   "cell_type": "code",
   "execution_count": 82,
   "metadata": {
    "colab": {},
    "colab_type": "code",
    "id": "Mcph1GpuomZk",
    "tags": []
   },
   "outputs": [],
   "source": [
    "def calculate_perplexity(model, text):\n",
    "    perplexity = 0\n",
    "    words = WhitespaceTokenizer().tokenize(text)\n",
    "    words_fakechar = [list(pad_both_ends(word, n=2)) for word in words]\n",
    "    words_bigramns = [list(bigrams(word)) for word in words_fakechar]\n",
    "\n",
    "    for word in words_bigramns:\n",
    "        perplexity += model.perplexity(word)\n",
    "\n",
    "    return perplexity"
   ]
  },
  {
   "cell_type": "code",
   "execution_count": 87,
   "metadata": {
    "colab": {},
    "colab_type": "code",
    "id": "MD6QjcxcomZo",
    "outputId": "fd93e2e4-457b-407d-f141-eccd333cb7e7"
   },
   "outputs": [
    {
     "name": "stdout",
     "output_type": "stream",
     "text": [
      "35.47899252068806\n"
     ]
    }
   ],
   "source": [
    "print(calculate_perplexity(model_eng, \"bom dia\"))"
   ]
  },
  {
   "cell_type": "code",
   "execution_count": 84,
   "metadata": {
    "colab": {},
    "colab_type": "code",
    "id": "ol3B5PbRomZs",
    "outputId": "d1274ea0-4ae7-4d2d-9617-dfbe6d9f8b4d"
   },
   "outputs": [
    {
     "name": "stdout",
     "output_type": "stream",
     "text": [
      "2006.9786364086417\n"
     ]
    }
   ],
   "source": [
    "print(calculate_perplexity(model_port, port_test.iloc[0]))"
   ]
  },
  {
   "cell_type": "code",
   "execution_count": 85,
   "metadata": {
    "colab": {},
    "colab_type": "code",
    "id": "c89oGudqomZ0",
    "outputId": "affaa1d5-8e8f-4eab-e4bd-f93b750de64f"
   },
   "outputs": [
    {
     "data": {
      "text/plain": [
       "'até a época em que os computadores eram puramente mecânicos e eram programados por cartões perfurados eu entendo como funciona depois quando surgiram os primeiros computadores digitais operados com válvulas e relés fica mais complicado de compreender como eram feitas as programações imagino que deveria haver algo semelhante a um compartimento com uma matriz de relés semelhante aos cartões perfurados pré programada que continha um programa fixo e único a ser executado pela máquina quando fosse preciso trocar o programa os programadores apenas rearranjavam as válvulas e a máquina continuava a trabalhar como surgiu essa noção que temos de programação hoje que o programador digita códigos em um editor de texto e compila eu não consigo imaginar como chegou a esse ponto por exemplo o assembly ele é apenas traduzido de textos para binário pelo assembler mas poxa seria preciso ter outra linguagem de programação para se criar o assembler suponha que só existam os computadores controlados por relés e válvulas como que alguém conseguiria escrever um código em assembly sendo que não existia editor de textos nem nada o resultado de uma montagem é outro arquivo no formato texto com s e s apenas ou são impulsos elétricos enviados para a máquina valvulada '"
      ]
     },
     "execution_count": 85,
     "metadata": {},
     "output_type": "execute_result"
    }
   ],
   "source": [
    "port_test.iloc[0]"
   ]
  },
  {
   "cell_type": "code",
   "execution_count": 86,
   "metadata": {
    "colab": {},
    "colab_type": "code",
    "id": "sCaV88auomZ6",
    "outputId": "ae281a6d-3503-43f6-d1ff-53a929bd5096"
   },
   "outputs": [
    {
     "name": "stdout",
     "output_type": "stream",
     "text": [
      "inf\n"
     ]
    }
   ],
   "source": [
    "print(calculate_perplexity(model_eng, port_test.iloc[0]))"
   ]
  },
  {
   "cell_type": "markdown",
   "metadata": {
    "colab_type": "text",
    "id": "_rSOOglZ4_KM"
   },
   "source": [
    "## Laplace model"
   ]
  },
  {
   "cell_type": "code",
   "execution_count": 88,
   "metadata": {
    "colab": {},
    "colab_type": "code",
    "id": "O5bJK2lNomaB"
   },
   "outputs": [],
   "source": [
    "from nltk.lm import Laplace\n",
    "\n",
    "# To deal with 1/Probability ~= inf (avoid division for zero)\n",
    "def train_model_laplace(list_texts):\n",
    "    all_questions = ' '.join(list_texts)\n",
    "    all_words = WhitespaceTokenizer().tokenize(all_questions)\n",
    "    bigrams, vocabulary = padded_everygram_pipeline(2, all_words)\n",
    "    model = Laplace(2)\n",
    "    model.fit(bigrams, vocabulary)\n",
    "\n",
    "    return model"
   ]
  },
  {
   "cell_type": "markdown",
   "metadata": {},
   "source": [
    "Detecting the language"
   ]
  },
  {
   "cell_type": "code",
   "execution_count": 89,
   "metadata": {
    "colab": {},
    "colab_type": "code",
    "id": "PqVOkzzpomaE",
    "outputId": "6be24681-4ef7-4068-dfd5-6b4d715db032"
   },
   "outputs": [
    {
     "name": "stdout",
     "output_type": "stream",
     "text": [
      "5876.837588345698\n"
     ]
    }
   ],
   "source": [
    "model_eng_Laplace = train_model_laplace(eng_train)\n",
    "print(calculate_perplexity(model_eng_Laplace, port_test.iloc[0]))"
   ]
  },
  {
   "cell_type": "code",
   "execution_count": 90,
   "metadata": {
    "colab": {},
    "colab_type": "code",
    "id": "vKG5uU5IomaL",
    "outputId": "a5d3778d-baa9-4178-f252-3616662a6a33"
   },
   "outputs": [
    {
     "name": "stdout",
     "output_type": "stream",
     "text": [
      "2009.1937946178912\n"
     ]
    }
   ],
   "source": [
    "model_port_Laplace = train_model_laplace(port_train)\n",
    "print(calculate_perplexity(model_port_Laplace, port_test.iloc[0]))"
   ]
  },
  {
   "cell_type": "code",
   "execution_count": 91,
   "metadata": {
    "colab": {},
    "colab_type": "code",
    "id": "AWv8vmyjomaP",
    "outputId": "054ffbc5-fe6b-4d5d-b386-54700adab47b"
   },
   "outputs": [
    {
     "name": "stdout",
     "output_type": "stream",
     "text": [
      "3488.5698949157722\n"
     ]
    }
   ],
   "source": [
    "model_span_Laplace = train_model_laplace(span_train)\n",
    "print(calculate_perplexity(model_span_Laplace, port_test.iloc[0]))"
   ]
  },
  {
   "cell_type": "markdown",
   "metadata": {},
   "source": [
    "So we could detect that the language is portuguese"
   ]
  },
  {
   "cell_type": "markdown",
   "metadata": {},
   "source": [
    "## Detecting idioms"
   ]
  },
  {
   "cell_type": "code",
   "execution_count": 93,
   "metadata": {
    "colab": {},
    "colab_type": "code",
    "id": "6DH3hPJpomaS"
   },
   "outputs": [],
   "source": [
    "def atribui_idiom(list_texts):\n",
    "    idiom = []\n",
    "    for text in list_texts:\n",
    "        portuguese = calculate_perplexity(model_port_Laplace, text)\n",
    "        english = calculate_perplexity(model_eng_Laplace, text)\n",
    "        spanish = calculate_perplexity(model_span_Laplace, text)\n",
    "        if english >= portuguese <= spanish:\n",
    "            idiom.append(\"portuguese\")\n",
    "        elif portuguese > english < spanish:\n",
    "            idiom.append(\"english\")\n",
    "        else:\n",
    "            idiom.append(\"spanish\")\n",
    "    return idiom"
   ]
  },
  {
   "cell_type": "code",
   "execution_count": 94,
   "metadata": {
    "colab": {},
    "colab_type": "code",
    "id": "mgIb-ZeDomaW"
   },
   "outputs": [],
   "source": [
    "results_portuguese = atribui_idiom(port_test)"
   ]
  },
  {
   "cell_type": "code",
   "execution_count": 95,
   "metadata": {
    "colab": {},
    "colab_type": "code",
    "id": "WY4xTdGVomaa"
   },
   "outputs": [],
   "source": [
    "rate_portuguese = results_portuguese.count(\"portuguese\")/len(results_portuguese)"
   ]
  },
  {
   "cell_type": "code",
   "execution_count": 96,
   "metadata": {
    "colab": {},
    "colab_type": "code",
    "id": "c96XYSH3omae",
    "outputId": "9254290f-983d-48cc-98f5-92b621d1d931"
   },
   "outputs": [
    {
     "data": {
      "text/plain": [
       "100"
      ]
     },
     "execution_count": 96,
     "metadata": {},
     "output_type": "execute_result"
    }
   ],
   "source": [
    "len(port_test)"
   ]
  },
  {
   "cell_type": "code",
   "execution_count": 98,
   "metadata": {},
   "outputs": [
    {
     "data": {
      "text/plain": [
       "1.0"
      ]
     },
     "execution_count": 98,
     "metadata": {},
     "output_type": "execute_result"
    }
   ],
   "source": [
    "# Get right all the texts\n",
    "rate_portuguese"
   ]
  },
  {
   "cell_type": "code",
   "execution_count": 99,
   "metadata": {
    "colab": {},
    "colab_type": "code",
    "id": "rYti696fomao"
   },
   "outputs": [],
   "source": [
    "results_english = atribui_idiom(eng_test)\n",
    "rate_english = results_english.count(\"english\")/len(results_english)\n",
    "results_spanish = atribui_idiom(span_test)\n",
    "rate_spanish = results_spanish.count(\"spanish\")/len(results_spanish)"
   ]
  },
  {
   "cell_type": "code",
   "execution_count": 100,
   "metadata": {
    "colab": {},
    "colab_type": "code",
    "id": "43EpjMSFomas",
    "outputId": "c5e9bcbb-428a-4417-d182-b43c25ba7b9f"
   },
   "outputs": [
    {
     "name": "stdout",
     "output_type": "stream",
     "text": [
      "Port 1.0\n",
      "Eng 1.0\n",
      "Span 0.97\n"
     ]
    }
   ],
   "source": [
    "# Almost all classifications went ok\n",
    "print(\"Port\", rate_portuguese)\n",
    "print(\"Eng\", rate_english)\n",
    "print(\"Span\", rate_spanish)"
   ]
  },
  {
   "cell_type": "code",
   "execution_count": 101,
   "metadata": {
    "colab": {},
    "colab_type": "code",
    "id": "aqHyasnromax",
    "outputId": "2b1b8596-3c58-4798-ab7a-1e62b335c32b"
   },
   "outputs": [
    {
     "data": {
      "text/plain": [
       "['spanish',\n",
       " 'spanish',\n",
       " 'spanish',\n",
       " 'spanish',\n",
       " 'spanish',\n",
       " 'spanish',\n",
       " 'spanish',\n",
       " 'spanish',\n",
       " 'spanish',\n",
       " 'spanish',\n",
       " 'spanish',\n",
       " 'spanish',\n",
       " 'spanish',\n",
       " 'spanish',\n",
       " 'spanish',\n",
       " 'spanish',\n",
       " 'spanish',\n",
       " 'spanish',\n",
       " 'spanish',\n",
       " 'spanish',\n",
       " 'spanish',\n",
       " 'spanish',\n",
       " 'spanish',\n",
       " 'english',\n",
       " 'spanish',\n",
       " 'spanish',\n",
       " 'spanish',\n",
       " 'spanish',\n",
       " 'spanish',\n",
       " 'spanish',\n",
       " 'spanish',\n",
       " 'spanish',\n",
       " 'spanish',\n",
       " 'spanish',\n",
       " 'spanish',\n",
       " 'spanish',\n",
       " 'spanish',\n",
       " 'spanish',\n",
       " 'spanish',\n",
       " 'spanish',\n",
       " 'spanish',\n",
       " 'spanish',\n",
       " 'spanish',\n",
       " 'spanish',\n",
       " 'spanish',\n",
       " 'spanish',\n",
       " 'spanish',\n",
       " 'spanish',\n",
       " 'spanish',\n",
       " 'spanish',\n",
       " 'spanish',\n",
       " 'english',\n",
       " 'spanish',\n",
       " 'spanish',\n",
       " 'spanish',\n",
       " 'spanish',\n",
       " 'spanish',\n",
       " 'spanish',\n",
       " 'spanish',\n",
       " 'spanish',\n",
       " 'spanish',\n",
       " 'spanish',\n",
       " 'spanish',\n",
       " 'spanish',\n",
       " 'spanish',\n",
       " 'spanish',\n",
       " 'spanish',\n",
       " 'spanish',\n",
       " 'spanish',\n",
       " 'spanish',\n",
       " 'spanish',\n",
       " 'spanish',\n",
       " 'spanish',\n",
       " 'spanish',\n",
       " 'spanish',\n",
       " 'spanish',\n",
       " 'spanish',\n",
       " 'spanish',\n",
       " 'spanish',\n",
       " 'spanish',\n",
       " 'spanish',\n",
       " 'spanish',\n",
       " 'spanish',\n",
       " 'spanish',\n",
       " 'spanish',\n",
       " 'spanish',\n",
       " 'spanish',\n",
       " 'spanish',\n",
       " 'spanish',\n",
       " 'spanish',\n",
       " 'spanish',\n",
       " 'spanish',\n",
       " 'spanish',\n",
       " 'spanish',\n",
       " 'spanish',\n",
       " 'spanish',\n",
       " 'spanish',\n",
       " 'portuguese',\n",
       " 'spanish',\n",
       " 'spanish']"
      ]
     },
     "execution_count": 101,
     "metadata": {},
     "output_type": "execute_result"
    }
   ],
   "source": [
    "results_spanish"
   ]
  }
 ],
 "metadata": {
  "colab": {
   "name": "NLP.ipynb",
   "provenance": []
  },
  "kernelspec": {
   "display_name": "Python 3 (ipykernel)",
   "language": "python",
   "name": "python3"
  },
  "language_info": {
   "codemirror_mode": {
    "name": "ipython",
    "version": 3
   },
   "file_extension": ".py",
   "mimetype": "text/x-python",
   "name": "python",
   "nbconvert_exporter": "python",
   "pygments_lexer": "ipython3",
   "version": "3.9.0"
  }
 },
 "nbformat": 4,
 "nbformat_minor": 4
}
